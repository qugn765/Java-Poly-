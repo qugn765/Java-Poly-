{
 "cells": [
  {
   "cell_type": "code",
   "execution_count": 3,
   "id": "e9b9002c",
   "metadata": {},
   "outputs": [
    {
     "data": {
      "text/plain": [
       "''"
      ]
     },
     "execution_count": 3,
     "metadata": {},
     "output_type": "execute_result"
    }
   ],
   "source": [
    "# if조건문\n",
    "# 조건의 참,거짓에 따라 어떠한 명령을 수행하고자 할 때 사용함\n",
    "# 변수에 값이나 함수의 결과값들이 프로그램 진행에 따라 여러값들을 가지게됨\n",
    "\"\"\"\n",
    "if 조건:\n",
    "   명령\n",
    "\"\"\"\n",
    "\n",
    "\"\"\"\n",
    "if 조건:\n",
    "   명령\n",
    "else:\n",
    "   명령\n",
    "\"\"\"\n",
    "\"\"\"\"\"\""
   ]
  },
  {
   "cell_type": "code",
   "execution_count": 6,
   "id": "a2232280",
   "metadata": {},
   "outputs": [
    {
     "name": "stdout",
     "output_type": "stream",
     "text": [
      "이름이 뭐니?홍길동\n"
     ]
    }
   ],
   "source": [
    "# 다른언어와 달리 파이썬은 대괄호{}를 사용하지 않고\n",
    "# 간격으로 조건문의 범위를 구분한다\n",
    "name = input(\"이름이 뭐니?\")\n",
    "if name == \"김병훈\":\n",
    "    print(\"주인님 어서오십시요\")"
   ]
  },
  {
   "cell_type": "code",
   "execution_count": 8,
   "id": "bc300523",
   "metadata": {},
   "outputs": [
    {
     "name": "stdout",
     "output_type": "stream",
     "text": [
      "이름이 뭐니?김병훈\n",
      "주인님 어서오십시요\n"
     ]
    }
   ],
   "source": [
    "name = input(\"이름이 뭐니?\")\n",
    "if name == \"김병훈\":\n",
    "    print(\"주인님 어서오십시요\")"
   ]
  },
  {
   "cell_type": "code",
   "execution_count": 9,
   "id": "67ec1412",
   "metadata": {},
   "outputs": [
    {
     "name": "stdout",
     "output_type": "stream",
     "text": [
      "성별이 어떻게 되나요?남자\n",
      "넥타이가 멋있습니다.\n"
     ]
    }
   ],
   "source": [
    "name = input(\"성별이 어떻게 되나요?\")\n",
    "if name == \"남자\":\n",
    "    print(\"넥타이가 멋있습니다.\")\n",
    "else:\n",
    "    print(\"립스틱색이 예쁘네요.\")"
   ]
  },
  {
   "cell_type": "code",
   "execution_count": 10,
   "id": "52bdfac8",
   "metadata": {},
   "outputs": [
    {
     "name": "stdout",
     "output_type": "stream",
     "text": [
      "성별이 어떻게 되나요?여자\n",
      "립스틱색이 예쁘네요.\n"
     ]
    }
   ],
   "source": [
    "name = input(\"성별이 어떻게 되나요?\")\n",
    "if name == \"남자\":\n",
    "    print(\"넥타이가 멋있습니다.\")\n",
    "else:\n",
    "    print(\"립스틱색이 예쁘네요.\")"
   ]
  },
  {
   "cell_type": "code",
   "execution_count": 11,
   "id": "737178eb",
   "metadata": {},
   "outputs": [
    {
     "name": "stdout",
     "output_type": "stream",
     "text": [
      "성별이 어떻게 되나요?몰라\n",
      "립스틱색이 예쁘네요.\n"
     ]
    }
   ],
   "source": [
    "name = input(\"성별이 어떻게 되나요?\")\n",
    "if name == \"남자\":\n",
    "    print(\"넥타이가 멋있습니다.\")\n",
    "else:\n",
    "    print(\"립스틱색이 예쁘네요.\")"
   ]
  },
  {
   "cell_type": "code",
   "execution_count": 12,
   "id": "3bde2e9f",
   "metadata": {},
   "outputs": [
    {
     "name": "stdout",
     "output_type": "stream",
     "text": [
      "얼마를 구매하셨나요?15000\n",
      "세금은 10%입니다.\n"
     ]
    }
   ],
   "source": [
    "price = int(input(\"얼마를 구매하셨나요?\"))\n",
    "if price < 10000:\n",
    "    print(\"면세입니다\")\n",
    "else :\n",
    "    print(\"세금은 10%입니다.\")"
   ]
  },
  {
   "cell_type": "code",
   "execution_count": 13,
   "id": "a5f4ae08",
   "metadata": {},
   "outputs": [
    {
     "name": "stdout",
     "output_type": "stream",
     "text": [
      "얼마를 구매하셨나요?5000\n",
      "면세입니다\n"
     ]
    }
   ],
   "source": [
    "price = int(input(\"얼마를 구매하셨나요?\"))\n",
    "if price < 10000:\n",
    "    print(\"면세입니다\")\n",
    "else :\n",
    "    print(\"세금은 10%입니다.\")"
   ]
  },
  {
   "cell_type": "code",
   "execution_count": 14,
   "id": "05712a7f",
   "metadata": {},
   "outputs": [
    {
     "name": "stdout",
     "output_type": "stream",
     "text": [
      "얼마를 구매하셨나요?100원\n"
     ]
    },
    {
     "ename": "ValueError",
     "evalue": "invalid literal for int() with base 10: '100원'",
     "output_type": "error",
     "traceback": [
      "\u001b[1;31m---------------------------------------------------------------------------\u001b[0m",
      "\u001b[1;31mValueError\u001b[0m                                Traceback (most recent call last)",
      "Cell \u001b[1;32mIn[14], line 1\u001b[0m\n\u001b[1;32m----> 1\u001b[0m price \u001b[38;5;241m=\u001b[39m \u001b[38;5;28;43mint\u001b[39;49m\u001b[43m(\u001b[49m\u001b[38;5;28;43minput\u001b[39;49m\u001b[43m(\u001b[49m\u001b[38;5;124;43m\"\u001b[39;49m\u001b[38;5;124;43m얼마를 구매하셨나요?\u001b[39;49m\u001b[38;5;124;43m\"\u001b[39;49m\u001b[43m)\u001b[49m\u001b[43m)\u001b[49m\n\u001b[0;32m      2\u001b[0m \u001b[38;5;28;01mif\u001b[39;00m price \u001b[38;5;241m<\u001b[39m \u001b[38;5;241m10000\u001b[39m:\n\u001b[0;32m      3\u001b[0m     \u001b[38;5;28mprint\u001b[39m(\u001b[38;5;124m\"\u001b[39m\u001b[38;5;124m면세입니다\u001b[39m\u001b[38;5;124m\"\u001b[39m)\n",
      "\u001b[1;31mValueError\u001b[0m: invalid literal for int() with base 10: '100원'"
     ]
    }
   ],
   "source": [
    "price = int(input(\"얼마를 구매하셨나요?\"))\n",
    "if price < 10000:\n",
    "    print(\"면세입니다\")\n",
    "else :\n",
    "    print(\"세금은 10%입니다.\")"
   ]
  },
  {
   "cell_type": "code",
   "execution_count": null,
   "id": "ba7f53cf",
   "metadata": {},
   "outputs": [],
   "source": []
  },
  {
   "cell_type": "code",
   "execution_count": 15,
   "id": "ca97ff36",
   "metadata": {},
   "outputs": [],
   "source": [
    "# 비교 논리 연산자"
   ]
  },
  {
   "cell_type": "code",
   "execution_count": 17,
   "id": "4170c7d3",
   "metadata": {},
   "outputs": [],
   "source": [
    "#비교 연산자\n",
    "# 수치의 대소관계, 문자나 기타 자료형의 일치,불일치 관계를 표시하는 연산자나 방법\n",
    "# 수치가 큰가, 작은가,  문자가 같은가 다른가와 같은 표현은 참과 거짓으로 나옴"
   ]
  },
  {
   "cell_type": "code",
   "execution_count": 18,
   "id": "8a7ba8c1",
   "metadata": {},
   "outputs": [],
   "source": [
    "# ==        같다(=와 주의할것)\n",
    "# !=        다르다\n",
    "#  <        오른쪽이 크다\n",
    "#  >        오른쪽이 작다\n",
    "# <=        오른쪽이 크거나 같다(순서주의)\n",
    "# >=        오른쪽이 작거나 같다(순서주의)"
   ]
  },
  {
   "cell_type": "code",
   "execution_count": 19,
   "id": "3390e9d0",
   "metadata": {},
   "outputs": [
    {
     "name": "stdout",
     "output_type": "stream",
     "text": [
      "a는 100입니다\n"
     ]
    }
   ],
   "source": [
    "# 간단한 비교 연산자 실습1(수치비교)\n",
    "a = 100\n",
    "if(a==99): print(\"a는 99입니다\")\n",
    "if(a==100): print(\"a는 100입니다\")"
   ]
  },
  {
   "cell_type": "code",
   "execution_count": 20,
   "id": "67713c8f",
   "metadata": {},
   "outputs": [
    {
     "name": "stdout",
     "output_type": "stream",
     "text": [
      "a는 100이상입니다\n"
     ]
    }
   ],
   "source": [
    "if(a>=100): print(\"a는 100이상입니다\")"
   ]
  },
  {
   "cell_type": "code",
   "execution_count": 21,
   "id": "4aefcdad",
   "metadata": {},
   "outputs": [],
   "source": [
    "if(a<100): print(\"a는 100미만입니다\")"
   ]
  },
  {
   "cell_type": "code",
   "execution_count": 22,
   "id": "2d0addec",
   "metadata": {},
   "outputs": [
    {
     "name": "stdout",
     "output_type": "stream",
     "text": [
      "abc이다\n"
     ]
    }
   ],
   "source": [
    "# 간단한 비교연산자 실습2(문자비교)\n",
    "# 문자의 같음(일치함)\n",
    "# 문자이 크다 작다의 비교도 가능함(정렬했을때)\n",
    "a = \"abc\"\n",
    "if(a == \"abc\"): print(\"abc이다\")  "
   ]
  },
  {
   "cell_type": "code",
   "execution_count": 23,
   "id": "a493b2dd",
   "metadata": {},
   "outputs": [
    {
     "name": "stdout",
     "output_type": "stream",
     "text": [
      "abc보다 큰 문자이다\n"
     ]
    }
   ],
   "source": [
    "a = \"abc\"\n",
    "if(a > \"abc\"): print(\"abc보다 큰 문자이다\")\n",
    "    \n",
    "a = \"abd\"\n",
    "if(a > \"abc\"): print(\"abc보다 큰 문자이다\")"
   ]
  },
  {
   "cell_type": "code",
   "execution_count": 24,
   "id": "e0983679",
   "metadata": {},
   "outputs": [],
   "source": [
    "a = \"abb\"\n",
    "if(a > \"abc\"): print(\"abc보다 큰 문자이다\")"
   ]
  },
  {
   "cell_type": "code",
   "execution_count": 27,
   "id": "04324b45",
   "metadata": {},
   "outputs": [
    {
     "data": {
      "text/plain": [
       "''"
      ]
     },
     "execution_count": 27,
     "metadata": {},
     "output_type": "execute_result"
    }
   ],
   "source": [
    "#논리 연산자\n",
    "# 부울 연산자라고도 하며 논리식의 연산을 수행함\n",
    "\"\"\"\n",
    "and   T   F       or   T   F          -    T  F\n",
    " T    T   F       T    T   T         not   F  T\n",
    " F    F   F       F    T   F\n",
    "\"\"\"\n",
    "# and -> and연산자 (모두 참인경우만 참)\n",
    "# or  -> or연산자(모두 거짓인 경우만 거짓)\n",
    "# not -> 참이면 거짓, 거짓이면 참으로 변환\n",
    "\"\"\"\"\"\"\n",
    "# 0 < x < 10 은 잘못된표현\n",
    "# 0 < x and x <10 으로 표현해야 함"
   ]
  },
  {
   "cell_type": "code",
   "execution_count": 28,
   "id": "daaf1912",
   "metadata": {},
   "outputs": [
    {
     "name": "stdout",
     "output_type": "stream",
     "text": [
      "점수를 입력하세요88\n",
      "학점은 B입니다.\n"
     ]
    }
   ],
   "source": [
    "x = int(input(\"점수를 입력하세요\"))\n",
    "if 0 <= x  and x < 60 : print(\"학점은 F입니다.\")\n",
    "if 60 <= x  and x < 70 : print(\"학점은 D입니다.\")\n",
    "if 70 <= x  and x < 80 : print(\"학점은 C입니다.\")\n",
    "if 80 <= x  and x < 90 : print(\"학점은 B입니다.\")\n",
    "if 90 <= x  and x <= 100 : print(\"학점은 A입니다.\")"
   ]
  },
  {
   "cell_type": "code",
   "execution_count": 29,
   "id": "10bd3236",
   "metadata": {},
   "outputs": [
    {
     "name": "stdout",
     "output_type": "stream",
     "text": [
      "점수를 입력하세요100\n",
      "학점은 A입니다.\n"
     ]
    }
   ],
   "source": [
    "x = int(input(\"점수를 입력하세요\"))\n",
    "if 0 <= x  and x < 60 : print(\"학점은 F입니다.\")\n",
    "if 60 <= x  and x < 70 : print(\"학점은 D입니다.\")\n",
    "if 70 <= x  and x < 80 : print(\"학점은 C입니다.\")\n",
    "if 80 <= x  and x < 90 : print(\"학점은 B입니다.\")\n",
    "if 90 <= x  and x <= 100 : print(\"학점은 A입니다.\")"
   ]
  },
  {
   "cell_type": "code",
   "execution_count": 30,
   "id": "d7cfc5e7",
   "metadata": {},
   "outputs": [
    {
     "name": "stdout",
     "output_type": "stream",
     "text": [
      "점수를 입력하세요44\n",
      "학점은 F입니다.\n"
     ]
    }
   ],
   "source": [
    "x = int(input(\"점수를 입력하세요\"))\n",
    "if 0 <= x  and x < 60 : print(\"학점은 F입니다.\")\n",
    "if 60 <= x  and x < 70 : print(\"학점은 D입니다.\")\n",
    "if 70 <= x  and x < 80 : print(\"학점은 C입니다.\")\n",
    "if 80 <= x  and x < 90 : print(\"학점은 B입니다.\")\n",
    "if 90 <= x  and x <= 100 : print(\"학점은 A입니다.\")"
   ]
  },
  {
   "cell_type": "code",
   "execution_count": 31,
   "id": "e69c1d8b",
   "metadata": {},
   "outputs": [
    {
     "name": "stdout",
     "output_type": "stream",
     "text": [
      "영문 알파벳 한글자를 입력하세요d\n",
      "소문자입니다\n"
     ]
    }
   ],
   "source": [
    "x  = input(\"영문 알파벳 한글자를 입력하세요\")\n",
    "if \"a\" <= x and x <= \"z\" : print(\"소문자입니다\")\n",
    "if \"A\" <= x and x <= \"Z\" : print(\"대문자입니다\")"
   ]
  },
  {
   "cell_type": "code",
   "execution_count": 32,
   "id": "746bf58a",
   "metadata": {},
   "outputs": [
    {
     "name": "stdout",
     "output_type": "stream",
     "text": [
      "영문 알파벳 한글자를 입력하세요D\n",
      "대문자입니다\n"
     ]
    }
   ],
   "source": [
    "x  = input(\"영문 알파벳 한글자를 입력하세요\")\n",
    "if \"a\" <= x and x <= \"z\" : print(\"소문자입니다\")\n",
    "if \"A\" <= x and x <= \"Z\" : print(\"대문자입니다\")"
   ]
  },
  {
   "cell_type": "code",
   "execution_count": null,
   "id": "8d897b03",
   "metadata": {},
   "outputs": [],
   "source": []
  },
  {
   "cell_type": "code",
   "execution_count": 1,
   "id": "96ab9262",
   "metadata": {},
   "outputs": [],
   "source": [
    "#if문의 블록 구조\n",
    "# 블록구조 : 조건문, 반복문 등에서 동일한 조건 반복에 따라 수행되는 명령집합\n",
    "# 블록구조에서 칸 띄우기는 매우 중요함\n",
    "# 대화형 모드에서는 한 줄씩 실행되는 것에 유의할것"
   ]
  },
  {
   "cell_type": "code",
   "execution_count": 3,
   "id": "74cf4e35",
   "metadata": {},
   "outputs": [
    {
     "ename": "IndentationError",
     "evalue": "unexpected indent (2250667442.py, line 5)",
     "output_type": "error",
     "traceback": [
      "\u001b[1;36m  Cell \u001b[1;32mIn[3], line 5\u001b[1;36m\u001b[0m\n\u001b[1;33m    a = a - 50\u001b[0m\n\u001b[1;37m    ^\u001b[0m\n\u001b[1;31mIndentationError\u001b[0m\u001b[1;31m:\u001b[0m unexpected indent\n"
     ]
    }
   ],
   "source": [
    "# 블록구조에서 칸띄우기가 제대로 이루어지지않아 오류발생\n",
    "a = 100\n",
    "if a > 50:\n",
    "    print(\"50보다 큰수는 50을 빼겠습니다.\")\n",
    "            a = a - 50"
   ]
  },
  {
   "cell_type": "code",
   "execution_count": 5,
   "id": "16e3ebb3",
   "metadata": {},
   "outputs": [
    {
     "name": "stdout",
     "output_type": "stream",
     "text": [
      "50보다 큰수는 50을 빼겠습니다.\n",
      "50\n"
     ]
    }
   ],
   "source": [
    "# 블록구조에서 칸띄우기가 제대로 이루어진상황\n",
    "a = 100\n",
    "if a > 50:\n",
    "    print(\"50보다 큰수는 50을 빼겠습니다.\")\n",
    "    a = a - 50\n",
    "print(a)"
   ]
  },
  {
   "cell_type": "code",
   "execution_count": 6,
   "id": "0e5f136f",
   "metadata": {},
   "outputs": [],
   "source": [
    "# elif문 \n",
    "# 조건이 맞이않을 때 또 다른 조건을 비교함\n",
    "# 다른 언어의 else if와 동일하다고 생각하면됨"
   ]
  },
  {
   "cell_type": "code",
   "execution_count": 8,
   "id": "651a0a33",
   "metadata": {},
   "outputs": [
    {
     "name": "stdout",
     "output_type": "stream",
     "text": [
      "점수를 입력하세요(0~100)84\n",
      "학점은 B입니다\n"
     ]
    }
   ],
   "source": [
    "#elif문을 사용한 학점 계산\n",
    "x=int(input(\"점수를 입력하세요(0~100)\"))\n",
    "if x >= 90 : print (\"학점은 A입니다\")\n",
    "elif x >= 80 : print (\"학점은 B입니다\")\n",
    "elif x >= 70 : print (\"학점은 C입니다\")\n",
    "elif x >= 60 : print (\"학점은 D입니다\")\n",
    "else : print (\"학점은 F입니다\")"
   ]
  },
  {
   "cell_type": "code",
   "execution_count": 14,
   "id": "12c710b0",
   "metadata": {},
   "outputs": [
    {
     "name": "stdout",
     "output_type": "stream",
     "text": [
      "숫자를 입력하세요6\n",
      "4의 배수가 아닌 짝수입니다\n"
     ]
    }
   ],
   "source": [
    "# 중첩 if문\n",
    "# 조건문안에 조건문을 두어 또 다른 조건을 비교\n",
    "# 중첩 if문 예제\n",
    "x = int(input(\"숫자를 입력하세요\"))\n",
    "if x % 2 == 0 :\n",
    "    if x%4==0:\n",
    "        print(\"4의 배수인 짝수입니다(당연히 짝수)\")\n",
    "    else:\n",
    "        print(\"4의 배수가 아닌 짝수입니다\");\n",
    "elif x%3==0:\n",
    "    print(\"3의 배수인 홀수 입니다\")\n",
    "else:\n",
    "    print (\"3의 배수가 아닌 홀수입니다\")"
   ]
  },
  {
   "cell_type": "code",
   "execution_count": 18,
   "id": "6dc12ad5",
   "metadata": {},
   "outputs": [
    {
     "name": "stdout",
     "output_type": "stream",
     "text": [
      "***************************************************\n",
      "총금액: 1000000 원  달러환율: 1010.12 $\n",
      "지급달러: 988 $\n",
      "거스름돈: 5 원  은행수수료: 1996 원\n",
      "***************************************************\n"
     ]
    }
   ],
   "source": [
    "myWon = 1000000\n",
    "moneyEx = 1010.12\n",
    "charge = 0.002\n",
    "\n",
    "usd = int(myWon // (moneyEx * (1+charge)))\n",
    "commission = usd * moneyEx * charge\n",
    "if(commission // 1 == commission):\n",
    "    commission = int(commission)\n",
    "else :\n",
    "    commission = int(commission) + 1\n",
    "remainf  = myWon - usd * moneyEx - commission\n",
    "remain = int(remainf) \n",
    "\n",
    "print(\"***************************************************\")\n",
    "print(\"총금액:\", myWon,\"원\",\" 달러환율:\", moneyEx,\"$\")\n",
    "print(\"지급달러:\", usd,\"$\", )\n",
    "print(\"거스름돈:\", remain,\"원\", \" 은행수수료:\", commission,\"원\")\n",
    "print(\"***************************************************\")\n"
   ]
  },
  {
   "cell_type": "code",
   "execution_count": null,
   "id": "455076a7",
   "metadata": {},
   "outputs": [],
   "source": []
  }
 ],
 "metadata": {
  "kernelspec": {
   "display_name": "Python 3 (ipykernel)",
   "language": "python",
   "name": "python3"
  },
  "language_info": {
   "codemirror_mode": {
    "name": "ipython",
    "version": 3
   },
   "file_extension": ".py",
   "mimetype": "text/x-python",
   "name": "python",
   "nbconvert_exporter": "python",
   "pygments_lexer": "ipython3",
   "version": "3.8.8rc1"
  }
 },
 "nbformat": 4,
 "nbformat_minor": 5
}

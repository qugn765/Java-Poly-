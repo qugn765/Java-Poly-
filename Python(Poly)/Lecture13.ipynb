{
 "cells": [
  {
   "cell_type": "code",
   "execution_count": 1,
   "id": "f761e5f7",
   "metadata": {},
   "outputs": [],
   "source": [
    "# 파이썬 클래스"
   ]
  },
  {
   "cell_type": "code",
   "execution_count": 3,
   "id": "d749fffb",
   "metadata": {},
   "outputs": [],
   "source": [
    "# 클래스\n",
    "# 객체지향 프로그래밍\n",
    "# Java나 C++과 같은 프로그래밍 언어를 사용하여 OOD를 실제화 하는 작업"
   ]
  },
  {
   "cell_type": "code",
   "execution_count": 7,
   "id": "6424cf87",
   "metadata": {},
   "outputs": [
    {
     "data": {
      "text/plain": [
       "''"
      ]
     },
     "execution_count": 7,
     "metadata": {},
     "output_type": "execute_result"
    }
   ],
   "source": [
    "# 구조체(struct)와 클래스(class)\n",
    "# 일반적인 프로그래밍 언어에서 많이 사용하는 구조체\n",
    "\"\"\"\n",
    "struct elevator\n",
    "{\n",
    "    int limit-up-floor;\n",
    "    int down-floor;\n",
    "    int floor;\n",
    "    char help[100];\n",
    "}\n",
    "\"\"\"\n",
    "\"\"\"\"\"\""
   ]
  },
  {
   "cell_type": "code",
   "execution_count": null,
   "id": "ab8ef994",
   "metadata": {},
   "outputs": [],
   "source": [
    "# 구조체와 클래스\n",
    "# class elevator를 이용한다면 프로그램은 쉽게 구현됨\n",
    "# 일단 프로그램을 개념중심으로 먼저 구현한 후 class의 내부를 구현하는 방법도 적용이 가능함\n",
    "\"\"\"\n",
    "void main()\n",
    "{\n",
    "    class *myclass elevator;\n",
    "    if(올라가라는 전기 신호가 왔다면)\n",
    "        myclass->up();\n",
    "    else if(내려가라는 전기 신호가 왔다면)\n",
    "        myclass->down();\n",
    "}\n",
    "\"\"\""
   ]
  },
  {
   "cell_type": "code",
   "execution_count": 17,
   "id": "9656fc4f",
   "metadata": {},
   "outputs": [
    {
     "name": "stdout",
     "output_type": "stream",
     "text": [
      "2층입니다\n",
      "3층입니다\n",
      "4층입니다\n",
      "5층입니다\n",
      "6층입니다\n",
      "7층입니다\n",
      "8층입니다\n",
      "9층입니다\n",
      "10층입니다\n",
      "11층입니다\n",
      "12층입니다\n",
      "13층입니다\n",
      "14층입니다\n",
      "15층입니다\n",
      "최상층 입니다\n",
      "최상층 입니다\n",
      "최상층 입니다\n",
      "최상층 입니다\n",
      "최상층 입니다\n",
      "최상층 입니다\n",
      "14층입니다\n",
      "13층입니다\n",
      "12층입니다\n",
      "11층입니다\n",
      "10층입니다\n",
      "9층입니다\n",
      "8층입니다\n",
      "7층입니다\n",
      "6층입니다\n",
      "5층입니다\n",
      "4층입니다\n",
      "3층입니다\n",
      "2층입니다\n",
      "1층입니다\n",
      "0층입니다\n",
      "최하층 입니다\n",
      "최하층 입니다\n",
      "최하층 입니다\n",
      "최하층 입니다\n",
      "최하층 입니다\n"
     ]
    }
   ],
   "source": [
    "class elevator:\n",
    "    def __init__(self,floor,limit_up_floor,limit_down_floor,msg):\n",
    "        self.floor=floor\n",
    "        self.limit_up_floor=limit_up_floor\n",
    "        self.limit_down_floor=limit_down_floor\n",
    "        self.msg=msg\n",
    "        \n",
    "    def up(self):\n",
    "        if self.floor == self.limit_up_floor:\n",
    "            self.msg=\"최상층 입니다\"\n",
    "        else:\n",
    "            self.floor+=1\n",
    "            self.msg=str(self.floor)+\"층입니다\"\n",
    "        print(self.msg)\n",
    "        \n",
    "    def down(self):\n",
    "        if self.floor == self.limit_down_floor:\n",
    "            self.msg=\"최하층 입니다\"\n",
    "        else:\n",
    "            self.floor-=1\n",
    "            self.msg=str(self.floor)+\"층입니다\"\n",
    "        print(self.msg)\n",
    "              \n",
    "myclass = elevator(1,15,0,\" \") \n",
    "              \n",
    "for i in range(20): #20번 up()를 실행\n",
    "    myclass.up()\n",
    "for i in range(20): #20번 down()을 실\n",
    "    myclass.down()"
   ]
  },
  {
   "cell_type": "code",
   "execution_count": 18,
   "id": "516929b0",
   "metadata": {},
   "outputs": [
    {
     "name": "stdout",
     "output_type": "stream",
     "text": [
      "myclass->2층입니다\n",
      "yourclass->6층입니다\n",
      "myclass->3층입니다\n",
      "yourclass->7층입니다\n",
      "myclass->4층입니다\n",
      "yourclass->8층입니다\n",
      "myclass->5층입니다\n",
      "yourclass->9층입니다\n",
      "myclass->6층입니다\n",
      "yourclass->10층입니다\n",
      "myclass->7층입니다\n",
      "yourclass->최상층 입니다\n",
      "myclass->8층입니다\n",
      "yourclass->최상층 입니다\n",
      "myclass->9층입니다\n",
      "yourclass->최상층 입니다\n",
      "myclass->10층입니다\n",
      "yourclass->최상층 입니다\n",
      "myclass->11층입니다\n",
      "yourclass->최상층 입니다\n",
      "myclass->12층입니다\n",
      "yourclass->최상층 입니다\n",
      "myclass->13층입니다\n",
      "yourclass->최상층 입니다\n",
      "myclass->14층입니다\n",
      "yourclass->최상층 입니다\n",
      "myclass->15층입니다\n",
      "yourclass->최상층 입니다\n",
      "myclass->최상층 입니다\n",
      "yourclass->최상층 입니다\n",
      "myclass->최상층 입니다\n",
      "yourclass->최상층 입니다\n",
      "myclass->최상층 입니다\n",
      "yourclass->최상층 입니다\n",
      "myclass->최상층 입니다\n",
      "yourclass->최상층 입니다\n",
      "myclass->최상층 입니다\n",
      "yourclass->최상층 입니다\n",
      "myclass->최상층 입니다\n",
      "yourclass->최상층 입니다\n",
      "myclass->14층입니다\n",
      "yourclass->9층입니다\n",
      "myclass->13층입니다\n",
      "yourclass->8층입니다\n",
      "myclass->12층입니다\n",
      "yourclass->7층입니다\n",
      "myclass->11층입니다\n",
      "yourclass->6층입니다\n",
      "myclass->10층입니다\n",
      "yourclass->5층입니다\n",
      "myclass->9층입니다\n",
      "yourclass->4층입니다\n",
      "myclass->8층입니다\n",
      "yourclass->3층입니다\n",
      "myclass->7층입니다\n",
      "yourclass->2층입니다\n",
      "myclass->6층입니다\n",
      "yourclass->1층입니다\n",
      "myclass->5층입니다\n",
      "yourclass->0층입니다\n",
      "myclass->4층입니다\n",
      "yourclass->-1층입니다\n",
      "myclass->3층입니다\n",
      "yourclass->최하층 입니다\n",
      "myclass->2층입니다\n",
      "yourclass->최하층 입니다\n",
      "myclass->1층입니다\n",
      "yourclass->최하층 입니다\n",
      "myclass->0층입니다\n",
      "yourclass->최하층 입니다\n",
      "myclass->최하층 입니다\n",
      "yourclass->최하층 입니다\n",
      "myclass->최하층 입니다\n",
      "yourclass->최하층 입니다\n",
      "myclass->최하층 입니다\n",
      "yourclass->최하층 입니다\n",
      "myclass->최하층 입니다\n",
      "yourclass->최하층 입니다\n",
      "myclass->최하층 입니다\n",
      "yourclass->최하층 입니다\n"
     ]
    }
   ],
   "source": [
    "myclass = elevator(1,15,0,\"\") #(현재1층, 최저0층, 최고15층, 메시지)값으로 클래스생성\n",
    "yourclass = elevator(5,10,-1,\"\") #(현재1층, 최저0층, 최고15층, 메시지)값으로 클래스생성\n",
    "\n",
    "for i in range(20): #20번 up()를 실행\n",
    "    print(\"myclass->\",end=\"\")\n",
    "    myclass.up()\n",
    "    print(\"yourclass->\",end=\"\")\n",
    "    yourclass.up()\n",
    "    \n",
    "for i in range(20): #20번 down()을 실행\n",
    "    print(\"myclass->\",end=\"\")\n",
    "    myclass.down()\n",
    "    print(\"yourclass->\",end=\"\")\n",
    "    yourclass.down()"
   ]
  },
  {
   "cell_type": "code",
   "execution_count": 19,
   "id": "5d1108e3",
   "metadata": {},
   "outputs": [],
   "source": [
    "# 상속\n",
    "class s_elevator(elevator):\n",
    "    def __init__(self):\n",
    "        super().__init__(1,15,0,\"\")\n",
    "        \n",
    "    def up(self):\n",
    "        super().up()\n",
    "        super().up()\n",
    "        \n",
    "    def down(self):\n",
    "        super().down()\n",
    "        super().down()"
   ]
  },
  {
   "cell_type": "code",
   "execution_count": 20,
   "id": "12d096eb",
   "metadata": {},
   "outputs": [
    {
     "name": "stdout",
     "output_type": "stream",
     "text": [
      "2층입니다\n",
      "3층입니다\n",
      "2층입니다\n",
      "1층입니다\n",
      "2층입니다\n",
      "3층입니다\n",
      "2층입니다\n",
      "1층입니다\n",
      "2층입니다\n",
      "3층입니다\n",
      "2층입니다\n",
      "1층입니다\n",
      "2층입니다\n",
      "3층입니다\n",
      "2층입니다\n",
      "1층입니다\n",
      "2층입니다\n",
      "3층입니다\n",
      "2층입니다\n",
      "1층입니다\n",
      "2층입니다\n",
      "3층입니다\n",
      "2층입니다\n",
      "1층입니다\n",
      "2층입니다\n",
      "3층입니다\n",
      "2층입니다\n",
      "1층입니다\n",
      "2층입니다\n",
      "3층입니다\n",
      "2층입니다\n",
      "1층입니다\n",
      "2층입니다\n",
      "3층입니다\n",
      "2층입니다\n",
      "1층입니다\n",
      "2층입니다\n",
      "3층입니다\n",
      "2층입니다\n",
      "1층입니다\n",
      "2층입니다\n",
      "3층입니다\n",
      "2층입니다\n",
      "1층입니다\n",
      "2층입니다\n",
      "3층입니다\n",
      "2층입니다\n",
      "1층입니다\n",
      "2층입니다\n",
      "3층입니다\n",
      "2층입니다\n",
      "1층입니다\n",
      "2층입니다\n",
      "3층입니다\n",
      "2층입니다\n",
      "1층입니다\n",
      "2층입니다\n",
      "3층입니다\n",
      "2층입니다\n",
      "1층입니다\n",
      "2층입니다\n",
      "3층입니다\n",
      "2층입니다\n",
      "1층입니다\n",
      "2층입니다\n",
      "3층입니다\n",
      "2층입니다\n",
      "1층입니다\n",
      "2층입니다\n",
      "3층입니다\n",
      "2층입니다\n",
      "1층입니다\n",
      "2층입니다\n",
      "3층입니다\n",
      "2층입니다\n",
      "1층입니다\n",
      "2층입니다\n",
      "3층입니다\n",
      "2층입니다\n",
      "1층입니다\n"
     ]
    }
   ],
   "source": [
    "myclass = elevator(1,15,0,\"\")\n",
    "myclass = s_elevator()\n",
    "for i in range(20): #20번 up()를 실행\n",
    "    myclass.up()\n",
    "    myclass.down()"
   ]
  },
  {
   "cell_type": "code",
   "execution_count": 21,
   "id": "14afedcb",
   "metadata": {},
   "outputs": [
    {
     "name": "stdout",
     "output_type": "stream",
     "text": [
      "3125\n"
     ]
    }
   ],
   "source": [
    "# 정보은닉\n",
    "# property를 이용하여 getter,setter를 정의할 수 있음\n",
    "# 클래스를 사용하는 경우에는 단순히 일반 클래스 변수같이 사용이 가능함\n",
    "\n",
    "class multibox:\n",
    "    def __init__(self,multi):\n",
    "        self.multi=multi\n",
    "    def getnumber(self):\n",
    "        return self.num**self.multi\n",
    "    def setnumber(self,num):\n",
    "        self.num=num\n",
    "        \n",
    "m=multibox(5)\n",
    "m.setnumber(5)\n",
    "print(m.getnumber())"
   ]
  },
  {
   "cell_type": "code",
   "execution_count": 24,
   "id": "343be436",
   "metadata": {},
   "outputs": [
    {
     "name": "stdout",
     "output_type": "stream",
     "text": [
      "3125\n"
     ]
    }
   ],
   "source": [
    "# 정보은닉\n",
    "# 데코레이터(@)를 이용하여 getter,setter를 정의할 수 있음\n",
    "# @property, @**.setter로 정의함\n",
    "class multibox:\n",
    "    def __init__(self,multi):\n",
    "        self.multi=multi\n",
    "    @property #데코레이터로 선언\n",
    "    def number(self):\n",
    "        return self.num**self.multi\n",
    "    @number.setter\n",
    "    def number(self,num):\n",
    "        self.num=num\n",
    "        \n",
    "m=multibox(5)\n",
    "m.number=5\n",
    "print(m.number)"
   ]
  },
  {
   "cell_type": "code",
   "execution_count": null,
   "id": "f23cae34",
   "metadata": {},
   "outputs": [],
   "source": []
  },
  {
   "cell_type": "code",
   "execution_count": 23,
   "id": "71e064a2",
   "metadata": {},
   "outputs": [],
   "source": [
    "# 메서드"
   ]
  },
  {
   "cell_type": "code",
   "execution_count": 25,
   "id": "d3c54783",
   "metadata": {},
   "outputs": [
    {
     "name": "stdout",
     "output_type": "stream",
     "text": [
      "클래스 참조횟수는 2 회 입니다\n"
     ]
    }
   ],
   "source": [
    "# 클래스 메서드\n",
    "class myclass:\n",
    "    cnt=0 #self가 없는 myclass에서 사용되는 내부 static변수\n",
    "    def __init__(self):\n",
    "        myclass.cnt+=1 #myclass의 static변수\n",
    "    @classmethod #클래스 메서드 선언\n",
    "    def refcount(cls): #self가 아니라 cls로 정의\n",
    "        print(\"클래스 참조횟수는\",cls.cnt,\"회 입니다\")\n",
    "        \n",
    "a=myclass()\n",
    "b=myclass()\n",
    "myclass.refcount()"
   ]
  },
  {
   "cell_type": "code",
   "execution_count": 27,
   "id": "af93037e",
   "metadata": {},
   "outputs": [
    {
     "name": "stdout",
     "output_type": "stream",
     "text": [
      "이 클래스는 아무런 일도 하지 않는다\n",
      "이 클래스는 아무런 일도 하지 않는다\n"
     ]
    }
   ],
   "source": [
    "# 정적 메서드\n",
    "# 정적 메서드 : 생성되는 클래스와는 별개로 하나의 역할을 수행하는 메서드\n",
    "#    클래스 생성과 상관없으므로 __init__를 수행하지 않아도 됨\n",
    "#    self나 cls를 인수로 받지도 않음\n",
    "class myclass:\n",
    "    cnt=0\n",
    "    def __init__(self):\n",
    "        myclass.cnt+=1\n",
    "    @staticmethod\n",
    "    def helf():\n",
    "        print(\"이 클래스는 아무런 일도 하지 않는다\")\n",
    "        \n",
    "myclass.helf()\n",
    "a=myclass()\n",
    "myclass.helf()"
   ]
  },
  {
   "cell_type": "code",
   "execution_count": 28,
   "id": "dda9b703",
   "metadata": {},
   "outputs": [],
   "source": [
    "# 연산자 메서드\n",
    "# 연산자 메서드 : 클래스와 클래스의 연산관계를 정의하는 특별한 메서드"
   ]
  },
  {
   "cell_type": "code",
   "execution_count": 29,
   "id": "c7195b23",
   "metadata": {},
   "outputs": [
    {
     "name": "stdout",
     "output_type": "stream",
     "text": [
      "defabc\n"
     ]
    }
   ],
   "source": [
    "class mystr:\n",
    "    def __init__(self,s):\n",
    "        self.s=s\n",
    "    def __add__(self, other): # 클래스간 +연산자를 정의\n",
    "        return other.s + self.s # 문자간 연산을 반대로 수행\n",
    "    \n",
    "a = mystr(\"abc\")\n",
    "b = mystr(\"def\")\n",
    "print(a+b)"
   ]
  },
  {
   "cell_type": "code",
   "execution_count": null,
   "id": "84de747e",
   "metadata": {},
   "outputs": [],
   "source": []
  },
  {
   "cell_type": "code",
   "execution_count": 30,
   "id": "486b80cc",
   "metadata": {},
   "outputs": [
    {
     "name": "stdout",
     "output_type": "stream",
     "text": [
      "0.1 => 9.99999999999998\n",
      "0.1000000000000000055511151231257827021181583404541015625 => 10.00000000000000055511151230\n",
      "0.1 => 10.0\n"
     ]
    }
   ],
   "source": [
    "# 유틸리티 클래스\n",
    "# Decimal : 유틸리티 클래스는 유용한 기능을 미리 만들어 클래스로 제공하는 것\n",
    "from decimal import Decimal\n",
    "\n",
    "a_sum=0;b_sum=0;c_sum=0\n",
    "\n",
    "a=0.1\n",
    "b=Decimal(a)\n",
    "c=Decimal(\"0.1\")\n",
    "\n",
    "for i in range(100):\n",
    "    a_sum+=a\n",
    "    b_sum+=b\n",
    "    c_sum+=c\n",
    "    \n",
    "print(a,\"=>\",a_sum)\n",
    "print(b,\"=>\",b_sum)\n",
    "print(c,\"=>\",c_sum)"
   ]
  },
  {
   "cell_type": "code",
   "execution_count": 31,
   "id": "1124719b",
   "metadata": {},
   "outputs": [
    {
     "name": "stdout",
     "output_type": "stream",
     "text": [
      "2/3 + 1/2 = 7/6\n",
      "2/3 * 1/2 = 1/3\n",
      "2/3 * 1.5 = 2.1666666666666665\n"
     ]
    }
   ],
   "source": [
    "# Fraction\n",
    "# Fraction : 분수를 나타내주고 분수계산이 가능한 클래스\n",
    "from fractions import *\n",
    "\n",
    "a=Fraction(2,3) #3분의 2\n",
    "b=Fraction(5,10) #10분의 5로 약분되어 1/2\n",
    "\n",
    "print(a,\"+\",b,\"=\",a+b)\n",
    "print(a,\"*\",b,\"=\",a*b)\n",
    "print(a,\"*\",1.5,\"=\",a+1.5)"
   ]
  },
  {
   "cell_type": "code",
   "execution_count": null,
   "id": "e6f21a84",
   "metadata": {},
   "outputs": [],
   "source": []
  }
 ],
 "metadata": {
  "kernelspec": {
   "display_name": "Python 3 (ipykernel)",
   "language": "python",
   "name": "python3"
  },
  "language_info": {
   "codemirror_mode": {
    "name": "ipython",
    "version": 3
   },
   "file_extension": ".py",
   "mimetype": "text/x-python",
   "name": "python",
   "nbconvert_exporter": "python",
   "pygments_lexer": "ipython3",
   "version": "3.9.7"
  }
 },
 "nbformat": 4,
 "nbformat_minor": 5
}

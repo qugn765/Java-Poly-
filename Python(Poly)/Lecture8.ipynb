{
 "cells": [
  {
   "cell_type": "code",
   "execution_count": 1,
   "id": "34208eb5",
   "metadata": {},
   "outputs": [],
   "source": [
    "# 리스트와 튜플"
   ]
  },
  {
   "cell_type": "code",
   "execution_count": 2,
   "id": "3d5199f9",
   "metadata": {},
   "outputs": [],
   "source": [
    "# 리스트의 정의\n",
    "# 리스트\n",
    "# 1. 컬렉션의 하나로 연속되어 저장되어 묶음으로 관리하는 특별한 자료 저장형태\n",
    "# 2. 기존 C,Java프로그램 언어에서 배열(Array)와 비슷하나 조금 다르고,java의 ArrayList와 유사함"
   ]
  },
  {
   "cell_type": "code",
   "execution_count": 3,
   "id": "ee9e6f1c",
   "metadata": {},
   "outputs": [
    {
     "data": {
      "text/plain": [
       "(1, 2, 3, 4, 5)"
      ]
     },
     "execution_count": 3,
     "metadata": {},
     "output_type": "execute_result"
    }
   ],
   "source": [
    "# 리스트를 지정하면 첨자0부터 ~ (n-1)까지의 변수로 지정\n",
    "a = [1,2,3,4,5]\n",
    "a[0], a[1], a[2],a[3],a[4]"
   ]
  },
  {
   "cell_type": "code",
   "execution_count": 5,
   "id": "0387385e",
   "metadata": {},
   "outputs": [
    {
     "data": {
      "text/plain": [
       "(11, 'abc', 12.3333, '안녕', (2+3j))"
      ]
     },
     "execution_count": 5,
     "metadata": {},
     "output_type": "execute_result"
    }
   ],
   "source": [
    "# 리스트 내부에서는 서로 다른 형태의 자료형도 저장이 가능함\n",
    "a=[11,\"abc\",12.3333,\"안녕\",2+3j]\n",
    "a[0],a[1],a[2],a[3],a[4]\n",
    "(11, 'abc', 12.3333, '안녕', (2+3j))"
   ]
  },
  {
   "cell_type": "code",
   "execution_count": 6,
   "id": "c5965d96",
   "metadata": {},
   "outputs": [
    {
     "data": {
      "text/plain": [
       "[11, 1234, 12.3333, '안녕', '홍길동']"
      ]
     },
     "execution_count": 6,
     "metadata": {},
     "output_type": "execute_result"
    }
   ],
   "source": [
    "# 값의 (형태)변경도 가능\n",
    "a[1]=1234;a[4]=\"홍길동\"\n",
    "a"
   ]
  },
  {
   "cell_type": "code",
   "execution_count": 7,
   "id": "ab479160",
   "metadata": {},
   "outputs": [
    {
     "name": "stdout",
     "output_type": "stream",
     "text": [
      "점수( 90 )\n",
      "점수( 80 )\n",
      "점수( 70 )\n",
      "점수( 60 )\n",
      "점수( 30 )\n",
      "총점: 330\n"
     ]
    }
   ],
   "source": [
    "#for 반복문에서 많이 다루어 보았음\n",
    "score=[90,80,70,60,30]\n",
    "sum=0\n",
    "for s in score:\n",
    "    print(\"점수(\",s,\")\")\n",
    "    sum+=s\n",
    "print(\"총점:\",sum)"
   ]
  },
  {
   "cell_type": "code",
   "execution_count": 11,
   "id": "daf6f3d2",
   "metadata": {},
   "outputs": [
    {
     "name": "stdout",
     "output_type": "stream",
     "text": [
      "1 1\n",
      "2 2\n",
      "3 3\n",
      "4 4\n",
      "5 5\n"
     ]
    }
   ],
   "source": [
    "# 리스트의 표현 방식\n",
    "# 일반적으로 리스트를 지정하면 첨자 0부터 (n-1)까지의 변수로 지정\n",
    "# 하지만 역방향으로도 지정가능  -n부터 -1 로 지정가능\n",
    "a = [1,2,3,4,5]\n",
    "print(a[0],a[-5])\n",
    "print(a[1],a[-4])\n",
    "print(a[2],a[-3])\n",
    "print(a[3],a[-2])\n",
    "print(a[4],a[-1])"
   ]
  },
  {
   "cell_type": "code",
   "execution_count": null,
   "id": "641c98b4",
   "metadata": {},
   "outputs": [],
   "source": [
    "# 리스트이 첨자는 [begin:end:step] 으로 표현 가능\n",
    "# 첨자가 0부터 시작하고, end값은그 값보다 작을때 까지 임에 주의할것"
   ]
  },
  {
   "cell_type": "code",
   "execution_count": 12,
   "id": "f312e80a",
   "metadata": {},
   "outputs": [
    {
     "data": {
      "text/plain": [
       "[3, 4, 5, 6, 7, 8]"
      ]
     },
     "execution_count": 12,
     "metadata": {},
     "output_type": "execute_result"
    }
   ],
   "source": [
    "a=[1,2,3,4,5,6,7,8,9,10]\n",
    "a [2:8] # 2부터 8보다 작을때까지"
   ]
  },
  {
   "cell_type": "code",
   "execution_count": 13,
   "id": "149c55e8",
   "metadata": {},
   "outputs": [
    {
     "data": {
      "text/plain": [
       "[1, 2, 3, 4]"
      ]
     },
     "execution_count": 13,
     "metadata": {},
     "output_type": "execute_result"
    }
   ],
   "source": [
    "a[:4] # 처음부터 4보다 작을때까지"
   ]
  },
  {
   "cell_type": "code",
   "execution_count": 14,
   "id": "c3267f6d",
   "metadata": {},
   "outputs": [
    {
     "data": {
      "text/plain": [
       "[6, 7, 8, 9, 10]"
      ]
     },
     "execution_count": 14,
     "metadata": {},
     "output_type": "execute_result"
    }
   ],
   "source": [
    "a[5:] #5부터 끝까지"
   ]
  },
  {
   "cell_type": "code",
   "execution_count": 16,
   "id": "43178418",
   "metadata": {},
   "outputs": [
    {
     "data": {
      "text/plain": [
       "[1, 4]"
      ]
     },
     "execution_count": 16,
     "metadata": {},
     "output_type": "execute_result"
    }
   ],
   "source": [
    "a[0:6:3] #0부터 6보다 작을떄까지 3씩 증가하며"
   ]
  },
  {
   "cell_type": "code",
   "execution_count": 17,
   "id": "e1f62be8",
   "metadata": {},
   "outputs": [],
   "source": [
    "# 다중 리스트\n",
    "# 리스트의 요소로 리스트를 저장하여 2차, 3차 및 재귀적인 리스트 형태도 가능함\n",
    "# 배열과 달리 가변 형식의 리스트도 가능함"
   ]
  },
  {
   "cell_type": "code",
   "execution_count": 19,
   "id": "69139504",
   "metadata": {},
   "outputs": [
    {
     "data": {
      "text/plain": [
       "[7, 8, 9]"
      ]
     },
     "execution_count": 19,
     "metadata": {},
     "output_type": "execute_result"
    }
   ],
   "source": [
    "a =[[1,2,3],[4,5,6],[7,8,9]] # 리스트로 구성된 리스트\n",
    "a[2]"
   ]
  },
  {
   "cell_type": "code",
   "execution_count": 20,
   "id": "9d35e00f",
   "metadata": {},
   "outputs": [
    {
     "data": {
      "text/plain": [
       "9"
      ]
     },
     "execution_count": 20,
     "metadata": {},
     "output_type": "execute_result"
    }
   ],
   "source": [
    "a[2][2]"
   ]
  },
  {
   "cell_type": "code",
   "execution_count": 21,
   "id": "33f68de1",
   "metadata": {},
   "outputs": [
    {
     "ename": "IndexError",
     "evalue": "list index out of range",
     "output_type": "error",
     "traceback": [
      "\u001b[1;31m---------------------------------------------------------------------------\u001b[0m",
      "\u001b[1;31mIndexError\u001b[0m                                Traceback (most recent call last)",
      "Cell \u001b[1;32mIn[21], line 1\u001b[0m\n\u001b[1;32m----> 1\u001b[0m \u001b[43ma\u001b[49m\u001b[43m[\u001b[49m\u001b[38;5;241;43m1\u001b[39;49m\u001b[43m]\u001b[49m\u001b[43m[\u001b[49m\u001b[38;5;241;43m3\u001b[39;49m\u001b[43m]\u001b[49m \u001b[38;5;66;03m# 인데스 범위를 벗어남\u001b[39;00m\n",
      "\u001b[1;31mIndexError\u001b[0m: list index out of range"
     ]
    }
   ],
   "source": [
    "a[1][3] # 인데스 범위를 벗어남"
   ]
  },
  {
   "cell_type": "code",
   "execution_count": 22,
   "id": "caea8c49",
   "metadata": {},
   "outputs": [
    {
     "data": {
      "text/plain": [
       "[[1, 2], [3, 4, 5], 6]"
      ]
     },
     "execution_count": 22,
     "metadata": {},
     "output_type": "execute_result"
    }
   ],
   "source": [
    "a=[[1,2],[3,4,5],6] # 가변 형태의 리스트\n",
    "a"
   ]
  },
  {
   "cell_type": "code",
   "execution_count": 23,
   "id": "48a4a0fe",
   "metadata": {},
   "outputs": [
    {
     "data": {
      "text/plain": [
       "6"
      ]
     },
     "execution_count": 23,
     "metadata": {},
     "output_type": "execute_result"
    }
   ],
   "source": [
    "a[2]"
   ]
  },
  {
   "cell_type": "code",
   "execution_count": 25,
   "id": "765febe0",
   "metadata": {},
   "outputs": [
    {
     "data": {
      "text/plain": [
       "[3, 4, 5]"
      ]
     },
     "execution_count": 25,
     "metadata": {},
     "output_type": "execute_result"
    }
   ],
   "source": [
    "a[1]"
   ]
  },
  {
   "cell_type": "code",
   "execution_count": 26,
   "id": "a1665e92",
   "metadata": {},
   "outputs": [],
   "source": [
    "# 리스트 컴프리헨션\n",
    "# 리스트중 조건을 비교하거나 범위를 주어 선택사용이 가능한 방법\n",
    "# [요소 for 변수 in (리스트)(range) {if조건문}]"
   ]
  },
  {
   "cell_type": "code",
   "execution_count": 27,
   "id": "7e30cdaa",
   "metadata": {},
   "outputs": [
    {
     "data": {
      "text/plain": [
       "[3, 6, 9, 12, 15, 18, 21, 24, 27]"
      ]
     },
     "execution_count": 27,
     "metadata": {},
     "output_type": "execute_result"
    }
   ],
   "source": [
    "# 예제 1\n",
    "# 1부터 10으로 리스트를 구성하여 그 요소 하나하나에 3을 곱한것을 구함\n",
    "a=[ n * 3 for n in range (1,10)]\n",
    "a"
   ]
  },
  {
   "cell_type": "code",
   "execution_count": 30,
   "id": "2b5c9137",
   "metadata": {},
   "outputs": [
    {
     "data": {
      "text/plain": [
       "[6, 12, 18, 24]"
      ]
     },
     "execution_count": 30,
     "metadata": {},
     "output_type": "execute_result"
    }
   ],
   "source": [
    "# 예제 2\n",
    "# 1부터 10중 2로 나누어 나머지가 0인(짝수인) 숫자로 리스트를 구성하여 그 요소 하나하나에 3을 곱한 것을 구함\n",
    "a = [ n * 3 for n in range (1,10) if n % 2 == 0]\n",
    "a"
   ]
  },
  {
   "cell_type": "code",
   "execution_count": 34,
   "id": "cd1c1348",
   "metadata": {},
   "outputs": [
    {
     "name": "stdout",
     "output_type": "stream",
     "text": [
      "==================================================\n",
      "이름\t국어\t영어\t수학\t총점\t평균\n",
      "==================================================\n",
      "나연 \t 100 \t 90 \t 100 \t 290 \t 96\n",
      "정연 \t 90 \t 90 \t 100 \t 280 \t 93\n",
      "모모 \t 80 \t 70 \t 90 \t 240 \t 80\n",
      "사나 \t 90 \t 90 \t 80 \t 260 \t 86\n",
      "지효 \t 100 \t 80 \t 80 \t 260 \t 86\n",
      "미나 \t 50 \t 90 \t 90 \t 230 \t 76\n",
      "다현 \t 80 \t 60 \t 100 \t 240 \t 80\n",
      "채영 \t 70 \t 80 \t 90 \t 240 \t 80\n",
      "쯔위 \t 100 \t 90 \t 90 \t 280 \t 93\n",
      "==================================================\n",
      "반총점\t 760 \t 740 \t 820 \t 257 \t 85.0\n",
      "==================================================\n"
     ]
    }
   ],
   "source": [
    "def titleprint():\n",
    "    print(\"=\"*50)\n",
    "    print(\"이름\\t국어\\t영어\\t수학\\t총점\\t평균\")\n",
    "    print(\"=\"*50)\n",
    "              \n",
    "def itemprint(name,kor,eng,mat):\n",
    "    print(name,\"\\t\",kor,\"\\t\",eng,\"\\t\",mat,\"\\t\",kor+eng+mat,\"\\t\",(kor+eng+mat)//3)\n",
    "              \n",
    "def tailprint():\n",
    "    totkor=0\n",
    "    toteng=0\n",
    "    totmat=0\n",
    "    for one_student in score:\n",
    "        totkor+=one_student[kor]\n",
    "        toteng+=one_student[eng]\n",
    "        totmat+=one_student[mat]\n",
    "    print(\"=\"*50)\n",
    "    print(\"반총점\\t\",totkor,\"\\t\",toteng,\"\\t\",totmat,\"\\t\",(totkor+toteng+totmat)//9,\"\\t\",\n",
    "      (totkor+toteng+totmat)/3//9)\n",
    "    print(\"=\"*50)\n",
    "\n",
    "#데이터 2차원 리스트\n",
    "score=[[\"나연\",100,90,100],\n",
    "    [\"정연\",90,90,100],\n",
    "    [\"모모\",80,70,90],\n",
    "    [\"사나\",90,90,80],\n",
    "    [\"지효\",100,80,80],\n",
    "    [\"미나\",50,90,90],\n",
    "    [\"다현\",80,60,100],\n",
    "    [\"채영\",70,80,90],\n",
    "    [\"쯔위\",100,90,90]]\n",
    "\n",
    "#프로그램을 보기 좋게 하려고 상수를 정의\n",
    "name=0;kor=1;eng=2;mat=3\n",
    "\n",
    "#여기부터 프로그램\n",
    "titleprint()\n",
    "for one_student in score:\n",
    "    itemprint(one_student[name],one_student[kor],one_student[eng],one_student[mat])\n",
    "tailprint() \n"
   ]
  },
  {
   "cell_type": "code",
   "execution_count": null,
   "id": "053efe9e",
   "metadata": {},
   "outputs": [],
   "source": []
  },
  {
   "cell_type": "code",
   "execution_count": 35,
   "id": "a2899729",
   "metadata": {},
   "outputs": [],
   "source": [
    "# 리스트 관리"
   ]
  },
  {
   "cell_type": "code",
   "execution_count": 36,
   "id": "2446f51c",
   "metadata": {},
   "outputs": [],
   "source": [
    "#리스트 삽입, 삭제\n",
    "# 리스트 생성시 처음값을 지정하거나 삽입(append), 해당위치 삭제(del), 전부삭제(clear)하여 값을 지정함\n",
    "# 리스트 값을 주고 생성한 후 변수를 지우는 del명령어로 삭제가 가능함\n",
    "# del a[2]로 2번 리스트 요소를 삭제하며 뒤에 리스트들이 앞으로 당겨짐\n",
    "# a.clear를 사용하면 모든리스트가 삭제됨\n",
    "# clear로 삭제해도 빈 리스트는 남음"
   ]
  },
  {
   "cell_type": "code",
   "execution_count": 37,
   "id": "3f34455d",
   "metadata": {},
   "outputs": [
    {
     "data": {
      "text/plain": [
       "[1, 2, 3, 4, 5]"
      ]
     },
     "execution_count": 37,
     "metadata": {},
     "output_type": "execute_result"
    }
   ],
   "source": [
    "a = [1,2,3,4,5]\n",
    "a"
   ]
  },
  {
   "cell_type": "code",
   "execution_count": 39,
   "id": "1d74e311",
   "metadata": {},
   "outputs": [
    {
     "data": {
      "text/plain": [
       "[1, 2, 5]"
      ]
     },
     "execution_count": 39,
     "metadata": {},
     "output_type": "execute_result"
    }
   ],
   "source": [
    "del a[2]  # 2번요소 삭제\n",
    "a"
   ]
  },
  {
   "cell_type": "code",
   "execution_count": 41,
   "id": "6b421c27",
   "metadata": {},
   "outputs": [
    {
     "data": {
      "text/plain": [
       "[]"
      ]
     },
     "execution_count": 41,
     "metadata": {},
     "output_type": "execute_result"
    }
   ],
   "source": [
    "a.clear() #리스트 전부지움\n",
    "a"
   ]
  },
  {
   "cell_type": "code",
   "execution_count": 43,
   "id": "de75b3bc",
   "metadata": {},
   "outputs": [
    {
     "ename": "NameError",
     "evalue": "name 'a' is not defined",
     "output_type": "error",
     "traceback": [
      "\u001b[1;31m---------------------------------------------------------------------------\u001b[0m",
      "\u001b[1;31mNameError\u001b[0m                                 Traceback (most recent call last)",
      "Cell \u001b[1;32mIn[43], line 1\u001b[0m\n\u001b[1;32m----> 1\u001b[0m \u001b[38;5;28;01mdel\u001b[39;00m a  \u001b[38;5;66;03m# 빈리스트 a도 지움\u001b[39;00m\n\u001b[0;32m      2\u001b[0m a\n",
      "\u001b[1;31mNameError\u001b[0m: name 'a' is not defined"
     ]
    }
   ],
   "source": [
    "del a  # 빈리스트 a도 지움\n",
    "a"
   ]
  },
  {
   "cell_type": "code",
   "execution_count": 45,
   "id": "9fba0090",
   "metadata": {},
   "outputs": [],
   "source": [
    "# a.append(값)으로 리스트를 추가하기 위하여 최소 빈리스트는 정의되어있어야함\n",
    "# 리스트의 맨 뒤로부터 하나씩 요소가 추가되어 들어감"
   ]
  },
  {
   "cell_type": "code",
   "execution_count": 47,
   "id": "cb61b411",
   "metadata": {},
   "outputs": [
    {
     "ename": "NameError",
     "evalue": "name 'a' is not defined",
     "output_type": "error",
     "traceback": [
      "\u001b[1;31m---------------------------------------------------------------------------\u001b[0m",
      "\u001b[1;31mNameError\u001b[0m                                 Traceback (most recent call last)",
      "Cell \u001b[1;32mIn[47], line 1\u001b[0m\n\u001b[1;32m----> 1\u001b[0m \u001b[43ma\u001b[49m\u001b[38;5;241m.\u001b[39m append(\u001b[38;5;241m1\u001b[39m) \u001b[38;5;66;03m# 리스트가 정의되어 있지 않은 경우 추가는 불가\u001b[39;00m\n",
      "\u001b[1;31mNameError\u001b[0m: name 'a' is not defined"
     ]
    }
   ],
   "source": [
    "a. append(1) # 리스트가 정의되어 있지 않은 경우 추가는 불가"
   ]
  },
  {
   "cell_type": "code",
   "execution_count": 48,
   "id": "e8ed9b08",
   "metadata": {},
   "outputs": [
    {
     "data": {
      "text/plain": [
       "[1, 3, 5]"
      ]
     },
     "execution_count": 48,
     "metadata": {},
     "output_type": "execute_result"
    }
   ],
   "source": [
    "a = [] # 빈리스트를 정의\n",
    "a.append(1) # 1값의 리스트 요소를 추가\n",
    "a.append(3) \n",
    "a.append(5)\n",
    "a"
   ]
  },
  {
   "cell_type": "code",
   "execution_count": 49,
   "id": "c2c244f2",
   "metadata": {},
   "outputs": [
    {
     "data": {
      "text/plain": [
       "[4, 5, 6, 10]"
      ]
     },
     "execution_count": 49,
     "metadata": {},
     "output_type": "execute_result"
    }
   ],
   "source": [
    "a = [4,5,6]\n",
    "a.append(10)\n",
    "a"
   ]
  },
  {
   "cell_type": "code",
   "execution_count": 50,
   "id": "be726270",
   "metadata": {},
   "outputs": [
    {
     "data": {
      "text/plain": [
       "[1, 2, 3, 4, 5, 6]"
      ]
     },
     "execution_count": 50,
     "metadata": {},
     "output_type": "execute_result"
    }
   ],
   "source": [
    "# 한개의 요소를 삽입시 insert를 사용하고\n",
    "# list.insert(삽입위치, 삽입내용)으로 사용\n",
    "a = [1,2,3,4,5]\n",
    "a.append(6)\n",
    "a"
   ]
  },
  {
   "cell_type": "code",
   "execution_count": 52,
   "id": "0e7d7d10",
   "metadata": {},
   "outputs": [
    {
     "data": {
      "text/plain": [
       "[1, 2, 3, 12, 4, 5, 6]"
      ]
     },
     "execution_count": 52,
     "metadata": {},
     "output_type": "execute_result"
    }
   ],
   "source": [
    "a.insert(3,12)\n",
    "a"
   ]
  },
  {
   "cell_type": "code",
   "execution_count": 53,
   "id": "82293f78",
   "metadata": {},
   "outputs": [
    {
     "data": {
      "text/plain": [
       "[1, 2, 3, 12, 15, 4, 5, 6]"
      ]
     },
     "execution_count": 53,
     "metadata": {},
     "output_type": "execute_result"
    }
   ],
   "source": [
    "a.insert(4,15)\n",
    "a"
   ]
  },
  {
   "cell_type": "code",
   "execution_count": 54,
   "id": "d7b4c55a",
   "metadata": {},
   "outputs": [
    {
     "data": {
      "text/plain": [
       "[1, 2, 3, 1, 12, 15, 4, 5, 6]"
      ]
     },
     "execution_count": 54,
     "metadata": {},
     "output_type": "execute_result"
    }
   ],
   "source": [
    "a.insert(3,1)\n",
    "a"
   ]
  },
  {
   "cell_type": "code",
   "execution_count": 1,
   "id": "e1b4a6f4",
   "metadata": {},
   "outputs": [
    {
     "data": {
      "text/plain": [
       "[1, 2, 3, 1, 12, 1, 2, 3, 4, 5, 6, 15, 4, 5, 6]"
      ]
     },
     "execution_count": 1,
     "metadata": {},
     "output_type": "execute_result"
    }
   ],
   "source": [
    "# 여러개의 요소를 삽입시 list[n:n] = 방식으로 사용 (n은 삽입위치)\n",
    "a = [1,2,3,1,12,15,4,5,6]\n",
    "a[5:5] = [1,2,3,4,5,6]\n",
    "a"
   ]
  },
  {
   "cell_type": "code",
   "execution_count": 2,
   "id": "a1fc7ca0",
   "metadata": {},
   "outputs": [
    {
     "data": {
      "text/plain": [
       "[1, 2, 3, 1, 12, [1, 2, 3, 4, 5, 6], 4, 5, 6]"
      ]
     },
     "execution_count": 2,
     "metadata": {},
     "output_type": "execute_result"
    }
   ],
   "source": [
    "# list[n] = 을 사용하면 해당 n요소의 리스트가 대입된 경우임에 주의할 것\n",
    "a = [1,2,3,1,12,15,4,5,6]\n",
    "a[5] = [1,2,3,4,5,6]\n",
    "a"
   ]
  },
  {
   "cell_type": "code",
   "execution_count": 4,
   "id": "fbbf09d3",
   "metadata": {},
   "outputs": [
    {
     "name": "stdout",
     "output_type": "stream",
     "text": [
      "[1, 2, 3, 4, 5, 6]\n"
     ]
    }
   ],
   "source": [
    "# 두개의 리스트를 병합하는 방법\n",
    "# 1. list.extend를 사용\n",
    "# 2. + 연산을 이용\n",
    "\n",
    "a = [1,2,3]\n",
    "b = [4,5,6]\n",
    "a.extend(b)\n",
    "print(a)"
   ]
  },
  {
   "cell_type": "code",
   "execution_count": 5,
   "id": "dc0d142d",
   "metadata": {},
   "outputs": [
    {
     "name": "stdout",
     "output_type": "stream",
     "text": [
      "[1, 2, 3, 4, 5, 6]\n"
     ]
    }
   ],
   "source": [
    "a = [1,2,3]\n",
    "b = [4,5,6]\n",
    "a = a + b\n",
    "print(a)"
   ]
  },
  {
   "cell_type": "code",
   "execution_count": 6,
   "id": "5594f1be",
   "metadata": {},
   "outputs": [
    {
     "data": {
      "text/plain": [
       "[1, 2, 3, 3, 4, 4, 5, 6, 7, 7, 7, 7, 8]"
      ]
     },
     "execution_count": 6,
     "metadata": {},
     "output_type": "execute_result"
    }
   ],
   "source": [
    "# 리스트를 지우기 위하여 list.remove(원하는 값), del(list[n:m]), list.clear()를 사용\n",
    "a=[1,2,3,3,4,4,5,6,7,7,7,7,8]\n",
    "a"
   ]
  },
  {
   "cell_type": "code",
   "execution_count": 7,
   "id": "04d67d39",
   "metadata": {},
   "outputs": [
    {
     "data": {
      "text/plain": [
       "[1, 2, 3, 3, 4, 4, 5, 6, 7, 7, 7, 8]"
      ]
     },
     "execution_count": 7,
     "metadata": {},
     "output_type": "execute_result"
    }
   ],
   "source": [
    "a.remove(7)\n",
    "a"
   ]
  },
  {
   "cell_type": "code",
   "execution_count": 9,
   "id": "1b0e1289",
   "metadata": {},
   "outputs": [
    {
     "data": {
      "text/plain": [
       "[1, 2, 3, 3, 4, [], 5, 6, 7, 7, 7, 8]"
      ]
     },
     "execution_count": 9,
     "metadata": {},
     "output_type": "execute_result"
    }
   ],
   "source": [
    "# 이거는 5번째값에 빈값이 들어있는 리스트를 만드는것\n",
    "a[5]=[]\n",
    "a"
   ]
  },
  {
   "cell_type": "code",
   "execution_count": 11,
   "id": "6b059138",
   "metadata": {},
   "outputs": [
    {
     "data": {
      "text/plain": [
       "[1, 2, 5, 6, 7, 7, 7, 8]"
      ]
     },
     "execution_count": 11,
     "metadata": {},
     "output_type": "execute_result"
    }
   ],
   "source": [
    "a[2:4]=[]\n",
    "a"
   ]
  },
  {
   "cell_type": "code",
   "execution_count": 13,
   "id": "c59fb64d",
   "metadata": {},
   "outputs": [
    {
     "data": {
      "text/plain": [
       "[1, 2, 5, 6, 7, 8]"
      ]
     },
     "execution_count": 13,
     "metadata": {},
     "output_type": "execute_result"
    }
   ],
   "source": [
    "del(a[4])\n",
    "a"
   ]
  },
  {
   "cell_type": "code",
   "execution_count": 14,
   "id": "09023226",
   "metadata": {},
   "outputs": [
    {
     "data": {
      "text/plain": [
       "[1, 2, 5, 7, 8]"
      ]
     },
     "execution_count": 14,
     "metadata": {},
     "output_type": "execute_result"
    }
   ],
   "source": [
    "del(a[3])\n",
    "a"
   ]
  },
  {
   "cell_type": "code",
   "execution_count": 15,
   "id": "c048406a",
   "metadata": {},
   "outputs": [
    {
     "data": {
      "text/plain": [
       "[]"
      ]
     },
     "execution_count": 15,
     "metadata": {},
     "output_type": "execute_result"
    }
   ],
   "source": [
    "a.clear() # 다지우고 빈리스트만 남김\n",
    "a"
   ]
  },
  {
   "cell_type": "code",
   "execution_count": 17,
   "id": "22697f5c",
   "metadata": {},
   "outputs": [
    {
     "ename": "NameError",
     "evalue": "name 'a' is not defined",
     "output_type": "error",
     "traceback": [
      "\u001b[1;31m---------------------------------------------------------------------------\u001b[0m",
      "\u001b[1;31mNameError\u001b[0m                                 Traceback (most recent call last)",
      "\u001b[1;32m~\\AppData\\Local\\Temp/ipykernel_9784/3613880318.py\u001b[0m in \u001b[0;36m<module>\u001b[1;34m\u001b[0m\n\u001b[1;32m----> 1\u001b[1;33m \u001b[1;32mdel\u001b[0m\u001b[1;33m(\u001b[0m\u001b[0ma\u001b[0m\u001b[1;33m)\u001b[0m\u001b[1;33m\u001b[0m\u001b[1;33m\u001b[0m\u001b[0m\n\u001b[0m\u001b[0;32m      2\u001b[0m \u001b[0ma\u001b[0m\u001b[1;33m\u001b[0m\u001b[1;33m\u001b[0m\u001b[0m\n",
      "\u001b[1;31mNameError\u001b[0m: name 'a' is not defined"
     ]
    }
   ],
   "source": [
    "del(a)  # 빈 리스트까지 삭제\n",
    "a"
   ]
  },
  {
   "cell_type": "code",
   "execution_count": 18,
   "id": "27336909",
   "metadata": {},
   "outputs": [
    {
     "data": {
      "text/plain": [
       "8"
      ]
     },
     "execution_count": 18,
     "metadata": {},
     "output_type": "execute_result"
    }
   ],
   "source": [
    "# list.pop(n)은 해당위치를 리턴하고 삭제함 n이 없다면 맨 마지막 요소 리턴\n",
    "a=[1,2,3,3,4,4,5,6,7,7,7,7,8]\n",
    "a.pop()"
   ]
  },
  {
   "cell_type": "code",
   "execution_count": 19,
   "id": "d2900590",
   "metadata": {},
   "outputs": [
    {
     "data": {
      "text/plain": [
       "7"
      ]
     },
     "execution_count": 19,
     "metadata": {},
     "output_type": "execute_result"
    }
   ],
   "source": [
    "a.pop()"
   ]
  },
  {
   "cell_type": "code",
   "execution_count": 20,
   "id": "f1c954ca",
   "metadata": {},
   "outputs": [
    {
     "data": {
      "text/plain": [
       "3"
      ]
     },
     "execution_count": 20,
     "metadata": {},
     "output_type": "execute_result"
    }
   ],
   "source": [
    "a.pop(3)"
   ]
  },
  {
   "cell_type": "code",
   "execution_count": 21,
   "id": "84c33b7a",
   "metadata": {},
   "outputs": [
    {
     "data": {
      "text/plain": [
       "6"
      ]
     },
     "execution_count": 21,
     "metadata": {},
     "output_type": "execute_result"
    }
   ],
   "source": [
    "a.pop(6)"
   ]
  },
  {
   "cell_type": "code",
   "execution_count": 22,
   "id": "a9ededa4",
   "metadata": {},
   "outputs": [
    {
     "data": {
      "text/plain": [
       "7"
      ]
     },
     "execution_count": 22,
     "metadata": {},
     "output_type": "execute_result"
    }
   ],
   "source": [
    "a.pop(6)"
   ]
  },
  {
   "cell_type": "code",
   "execution_count": 23,
   "id": "fb75259e",
   "metadata": {},
   "outputs": [
    {
     "data": {
      "text/plain": [
       "1"
      ]
     },
     "execution_count": 23,
     "metadata": {},
     "output_type": "execute_result"
    }
   ],
   "source": [
    "a.pop(0)"
   ]
  },
  {
   "cell_type": "code",
   "execution_count": 24,
   "id": "d1ad112b",
   "metadata": {},
   "outputs": [
    {
     "data": {
      "text/plain": [
       "[2, 3, 4, 4, 5, 7, 7]"
      ]
     },
     "execution_count": 24,
     "metadata": {},
     "output_type": "execute_result"
    }
   ],
   "source": [
    "a"
   ]
  },
  {
   "cell_type": "code",
   "execution_count": null,
   "id": "7fefe1f5",
   "metadata": {},
   "outputs": [],
   "source": [
    "# 리스트 검색"
   ]
  },
  {
   "cell_type": "code",
   "execution_count": 25,
   "id": "6f5231fa",
   "metadata": {},
   "outputs": [
    {
     "data": {
      "text/plain": [
       "8"
      ]
     },
     "execution_count": 25,
     "metadata": {},
     "output_type": "execute_result"
    }
   ],
   "source": [
    "# list.index(값) ----- 해당값이 처음 나오는 위치를 리턴\n",
    "# list.count(값) ----- 해당 값이 몇번 나오는지 리턴\n",
    "a =[1,2,3,3,4,4,5,6,7,7,7,7,8]\n",
    "a.index(7)"
   ]
  },
  {
   "cell_type": "code",
   "execution_count": 26,
   "id": "1e490610",
   "metadata": {},
   "outputs": [
    {
     "data": {
      "text/plain": [
       "12"
      ]
     },
     "execution_count": 26,
     "metadata": {},
     "output_type": "execute_result"
    }
   ],
   "source": [
    "a.index(8)"
   ]
  },
  {
   "cell_type": "code",
   "execution_count": 29,
   "id": "09f3f45a",
   "metadata": {},
   "outputs": [
    {
     "data": {
      "text/plain": [
       "4"
      ]
     },
     "execution_count": 29,
     "metadata": {},
     "output_type": "execute_result"
    }
   ],
   "source": [
    "a.index(4)"
   ]
  },
  {
   "cell_type": "code",
   "execution_count": 30,
   "id": "6defa35e",
   "metadata": {},
   "outputs": [
    {
     "data": {
      "text/plain": [
       "4"
      ]
     },
     "execution_count": 30,
     "metadata": {},
     "output_type": "execute_result"
    }
   ],
   "source": [
    "a.count(7)"
   ]
  },
  {
   "cell_type": "code",
   "execution_count": 32,
   "id": "caf6c7e6",
   "metadata": {},
   "outputs": [
    {
     "name": "stdout",
     "output_type": "stream",
     "text": [
      "1\n",
      "8\n",
      "13\n"
     ]
    }
   ],
   "source": [
    "# min(list), max(list) ----- 리스트중 최소값과 최대값을 구함\n",
    "# len(list)  ----- 리스트의 크기(개수)를 구함\n",
    "a = [1,2,3,3,4,4,5,6,7,7,7,7,8]\n",
    "print(min(a))\n",
    "print(max(a))\n",
    "print(len(a))"
   ]
  },
  {
   "cell_type": "code",
   "execution_count": 33,
   "id": "f745e25b",
   "metadata": {},
   "outputs": [
    {
     "data": {
      "text/plain": [
       "[4, 9, 6, 2, 5, 4, 2, 6, 5, 8, 1]"
      ]
     },
     "execution_count": 33,
     "metadata": {},
     "output_type": "execute_result"
    }
   ],
   "source": [
    "# list.sort() ---- 리스트 내용을 정렬함\n",
    "# list.reverse() ---- 리스트 내용을 역으로 보여줌\n",
    "a = [1,8,5,6,2,4,5,2,6,9,4]\n",
    "a.reverse()\n",
    "a"
   ]
  },
  {
   "cell_type": "code",
   "execution_count": 34,
   "id": "034217c5",
   "metadata": {},
   "outputs": [
    {
     "data": {
      "text/plain": [
       "[1, 2, 2, 4, 4, 5, 5, 6, 6, 8, 9]"
      ]
     },
     "execution_count": 34,
     "metadata": {},
     "output_type": "execute_result"
    }
   ],
   "source": [
    "a.sort()\n",
    "a"
   ]
  },
  {
   "cell_type": "code",
   "execution_count": 35,
   "id": "42bfc7f6",
   "metadata": {},
   "outputs": [],
   "source": [
    "# import문             외부의 함수를 가지고 올때 사용\n",
    "# import random        라이브러리를 가져다 사용하겠다는 정의\n",
    "# import random as r   프로그램안에서 r.random과 같이 r다음에 오는 함수는 random라이브러리로부터 가지고온것을 정의"
   ]
  },
  {
   "cell_type": "code",
   "execution_count": 38,
   "id": "9938fe24",
   "metadata": {},
   "outputs": [
    {
     "name": "stdout",
     "output_type": "stream",
     "text": [
      "==================================================\n",
      "이름\t국어\t영어\t수학\t총점\t평균\n",
      "==================================================\n",
      "name0 \t 88 \t 61 \t 74 \t 223 \t 74\n",
      "name1 \t 52 \t 89 \t 79 \t 220 \t 73\n",
      "name2 \t 70 \t 63 \t 28 \t 161 \t 53\n",
      "name3 \t 28 \t 53 \t 77 \t 158 \t 52\n",
      "name4 \t 17 \t 26 \t 45 \t 88 \t 29\n",
      "name5 \t 84 \t 91 \t 95 \t 270 \t 90\n",
      "name6 \t 32 \t 78 \t 69 \t 179 \t 59\n",
      "name7 \t 46 \t 59 \t 18 \t 123 \t 41\n",
      "name8 \t 98 \t 78 \t 32 \t 208 \t 69\n",
      "name9 \t 92 \t 51 \t 62 \t 205 \t 68\n",
      "==================================================\n",
      "반총점\t 607 \t 649 \t 579 \t 203 \t 67.0\n",
      "==================================================\n"
     ]
    }
   ],
   "source": [
    "import random as r\n",
    "\n",
    "def titleprint():\n",
    "    print(\"=\"*50)\n",
    "    print(\"이름\\t국어\\t영어\\t수학\\t총점\\t평균\")\n",
    "    print(\"=\"*50)\n",
    "              \n",
    "def itemprint(name,kor,eng,mat):\n",
    "    print(name,\"\\t\",kor,\"\\t\",eng,\"\\t\",mat,\"\\t\",kor+eng+mat,\"\\t\",(kor+eng+mat)//3)\n",
    "              \n",
    "def tailprint():\n",
    "    totkor=0\n",
    "    toteng=0\n",
    "    totmat=0\n",
    "    for one_student in score:\n",
    "        totkor+=one_student[kor]\n",
    "        toteng+=one_student[eng]\n",
    "        totmat+=one_student[mat]\n",
    "    print(\"=\"*50)\n",
    "    print(\"반총점\\t\",totkor,\"\\t\",toteng,\"\\t\",totmat,\"\\t\",(totkor+toteng+totmat)//9,\"\\t\",\n",
    "      (totkor+toteng+totmat)/3//9)\n",
    "    print(\"=\"*50)\n",
    "\n",
    "\n",
    "one_person=[]\n",
    "score=[]\n",
    "for i in range(10):\n",
    "    one_person.append(\"name\"+str(i)) #이름\n",
    "    one_person.append(r.randrange(10,100)) #국어 10부터 100까지 임의에 값을 추출\n",
    "    one_person.append(r.randrange(10,100)) #영어\n",
    "    one_person.append(r.randrange(10,100)) #수학\n",
    "    score.append(one_person[:]) #값을 복사해서 추가함에 주의할 것\n",
    "    one_person.clear()\n",
    "    \n",
    "#프로그램을 보기 좋게 하려고 상수를 정의\n",
    "name=0;kor=1;eng=2;mat=3\n",
    "\n",
    "#여기부터 프로그램\n",
    "titleprint()\n",
    "for one_student in score:\n",
    "    itemprint(one_student[name],one_student[kor],one_student[eng],one_student[mat])\n",
    "tailprint() "
   ]
  },
  {
   "cell_type": "code",
   "execution_count": null,
   "id": "d3216857",
   "metadata": {},
   "outputs": [],
   "source": []
  },
  {
   "cell_type": "code",
   "execution_count": 40,
   "id": "29a01a30",
   "metadata": {},
   "outputs": [],
   "source": [
    "# 튜플\n",
    "# 튜플은 값을 정의시 []대신 ()로 대입\n",
    "# 튜플은 값을 변경할 수 없는 자료형"
   ]
  },
  {
   "cell_type": "code",
   "execution_count": 41,
   "id": "8d7e180c",
   "metadata": {},
   "outputs": [
    {
     "data": {
      "text/plain": [
       "(1, 8, 5, 6, 2, 4, 5, 2, 6, 9, 4)"
      ]
     },
     "execution_count": 41,
     "metadata": {},
     "output_type": "execute_result"
    }
   ],
   "source": [
    "# 값을 조회는 가능\n",
    "a=(1,8,5,6,2,4,5,2,6,9,4)\n",
    "a"
   ]
  },
  {
   "cell_type": "code",
   "execution_count": 42,
   "id": "e1ee79a4",
   "metadata": {},
   "outputs": [
    {
     "data": {
      "text/plain": [
       "4"
      ]
     },
     "execution_count": 42,
     "metadata": {},
     "output_type": "execute_result"
    }
   ],
   "source": [
    "a[5]"
   ]
  },
  {
   "cell_type": "code",
   "execution_count": 43,
   "id": "fa67925d",
   "metadata": {},
   "outputs": [
    {
     "data": {
      "text/plain": [
       "(6, 2)"
      ]
     },
     "execution_count": 43,
     "metadata": {},
     "output_type": "execute_result"
    }
   ],
   "source": [
    "a[3:5]"
   ]
  },
  {
   "cell_type": "code",
   "execution_count": 44,
   "id": "ee46610d",
   "metadata": {},
   "outputs": [
    {
     "data": {
      "text/plain": [
       "(6, 2, 4, 5, 2)"
      ]
     },
     "execution_count": 44,
     "metadata": {},
     "output_type": "execute_result"
    }
   ],
   "source": [
    "a[3:8]"
   ]
  },
  {
   "cell_type": "code",
   "execution_count": 45,
   "id": "4b5b969e",
   "metadata": {},
   "outputs": [
    {
     "data": {
      "text/plain": [
       "(1, 8, 5, 6, 2, 4, 5, 2, 6, 9, 4, 1, 8, 5, 6, 2, 4, 5, 2, 6, 9, 4)"
      ]
     },
     "execution_count": 45,
     "metadata": {},
     "output_type": "execute_result"
    }
   ],
   "source": [
    "a *2"
   ]
  },
  {
   "cell_type": "code",
   "execution_count": 46,
   "id": "b086a9f3",
   "metadata": {},
   "outputs": [
    {
     "data": {
      "text/plain": [
       "(1, 8, 5, 6, 2, 4, 5, 2, 6, 9, 4)"
      ]
     },
     "execution_count": 46,
     "metadata": {},
     "output_type": "execute_result"
    }
   ],
   "source": [
    "# 값을 대입하거나 변경하거나 구조를 지우는 것은 불가능\n",
    "a"
   ]
  },
  {
   "cell_type": "code",
   "execution_count": 47,
   "id": "96442c04",
   "metadata": {
    "scrolled": true
   },
   "outputs": [
    {
     "ename": "TypeError",
     "evalue": "'tuple' object does not support item assignment",
     "output_type": "error",
     "traceback": [
      "\u001b[1;31m---------------------------------------------------------------------------\u001b[0m",
      "\u001b[1;31mTypeError\u001b[0m                                 Traceback (most recent call last)",
      "\u001b[1;32m~\\AppData\\Local\\Temp/ipykernel_9784/1421428758.py\u001b[0m in \u001b[0;36m<module>\u001b[1;34m\u001b[0m\n\u001b[1;32m----> 1\u001b[1;33m \u001b[0ma\u001b[0m\u001b[1;33m[\u001b[0m\u001b[1;36m1\u001b[0m\u001b[1;33m]\u001b[0m \u001b[1;33m=\u001b[0m \u001b[1;36m5\u001b[0m  \u001b[1;31m#값을 변경은 불가능\u001b[0m\u001b[1;33m\u001b[0m\u001b[1;33m\u001b[0m\u001b[0m\n\u001b[0m",
      "\u001b[1;31mTypeError\u001b[0m: 'tuple' object does not support item assignment"
     ]
    }
   ],
   "source": [
    "a[1] = 5  #값을 변경은 불가능"
   ]
  },
  {
   "cell_type": "code",
   "execution_count": 48,
   "id": "18a93f2d",
   "metadata": {},
   "outputs": [
    {
     "ename": "TypeError",
     "evalue": "'tuple' object doesn't support item deletion",
     "output_type": "error",
     "traceback": [
      "\u001b[1;31m---------------------------------------------------------------------------\u001b[0m",
      "\u001b[1;31mTypeError\u001b[0m                                 Traceback (most recent call last)",
      "\u001b[1;32m~\\AppData\\Local\\Temp/ipykernel_9784/1411639020.py\u001b[0m in \u001b[0;36m<module>\u001b[1;34m\u001b[0m\n\u001b[1;32m----> 1\u001b[1;33m \u001b[1;32mdel\u001b[0m \u001b[0ma\u001b[0m\u001b[1;33m[\u001b[0m\u001b[1;36m4\u001b[0m\u001b[1;33m]\u001b[0m \u001b[1;31m# 변수 지우기 불가능\u001b[0m\u001b[1;33m\u001b[0m\u001b[1;33m\u001b[0m\u001b[0m\n\u001b[0m",
      "\u001b[1;31mTypeError\u001b[0m: 'tuple' object doesn't support item deletion"
     ]
    }
   ],
   "source": [
    "del a[4] # 변수 지우기 불가능"
   ]
  },
  {
   "cell_type": "code",
   "execution_count": 49,
   "id": "abd9b003",
   "metadata": {},
   "outputs": [
    {
     "ename": "AttributeError",
     "evalue": "'tuple' object has no attribute 'append'",
     "output_type": "error",
     "traceback": [
      "\u001b[1;31m---------------------------------------------------------------------------\u001b[0m",
      "\u001b[1;31mAttributeError\u001b[0m                            Traceback (most recent call last)",
      "\u001b[1;32m~\\AppData\\Local\\Temp/ipykernel_9784/1076895643.py\u001b[0m in \u001b[0;36m<module>\u001b[1;34m\u001b[0m\n\u001b[1;32m----> 1\u001b[1;33m \u001b[0ma\u001b[0m\u001b[1;33m.\u001b[0m\u001b[0mappend\u001b[0m\u001b[1;33m(\u001b[0m\u001b[1;36m10\u001b[0m\u001b[1;33m)\u001b[0m  \u001b[1;31m# 값 추가 불가능\u001b[0m\u001b[1;33m\u001b[0m\u001b[1;33m\u001b[0m\u001b[0m\n\u001b[0m",
      "\u001b[1;31mAttributeError\u001b[0m: 'tuple' object has no attribute 'append'"
     ]
    }
   ],
   "source": [
    "a.append(10)  # 값 추가 불가능"
   ]
  },
  {
   "cell_type": "code",
   "execution_count": 50,
   "id": "68241922",
   "metadata": {},
   "outputs": [
    {
     "name": "stdout",
     "output_type": "stream",
     "text": [
      "((2, 17403), (41, 40338))\n"
     ]
    }
   ],
   "source": [
    "# 튜플의 예시\n",
    "# 함수의 리턴 값을 여러개 정의할경우 튜플로 전달됨\n",
    "def location():\n",
    "    latitude = 2, 17403 # 위도\n",
    "    longitude=41,40338 #경도\n",
    "    return latitude,longitude #이런방식의 리턴은 튜플로 반환\n",
    "\n",
    "a=location()\n",
    "print(a)"
   ]
  },
  {
   "cell_type": "code",
   "execution_count": null,
   "id": "54bcb90b",
   "metadata": {},
   "outputs": [],
   "source": []
  }
 ],
 "metadata": {
  "kernelspec": {
   "display_name": "Python 3 (ipykernel)",
   "language": "python",
   "name": "python3"
  },
  "language_info": {
   "codemirror_mode": {
    "name": "ipython",
    "version": 3
   },
   "file_extension": ".py",
   "mimetype": "text/x-python",
   "name": "python",
   "nbconvert_exporter": "python",
   "pygments_lexer": "ipython3",
   "version": "3.9.7"
  }
 },
 "nbformat": 4,
 "nbformat_minor": 5
}

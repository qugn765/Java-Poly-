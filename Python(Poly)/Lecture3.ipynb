{
 "cells": [
  {
   "cell_type": "code",
   "execution_count": 63,
   "id": "6c5a5dd9",
   "metadata": {},
   "outputs": [],
   "source": [
    "# 정수형\n"
   ]
  },
  {
   "cell_type": "code",
   "execution_count": 3,
   "id": "4e658cd1",
   "metadata": {},
   "outputs": [
    {
     "name": "stdout",
     "output_type": "stream",
     "text": [
      "a= 10 b= 1200 c= 1200 d= -1234\n"
     ]
    }
   ],
   "source": [
    "a = 10\n",
    "b = 1200\n",
    "c =+1200\n",
    "d= -1234\n",
    "print(\"a=\", a, \"b=\", b, \"c=\", c, \"d=\", d)"
   ]
  },
  {
   "cell_type": "code",
   "execution_count": 2,
   "id": "726ea3b3",
   "metadata": {},
   "outputs": [
    {
     "name": "stdout",
     "output_type": "stream",
     "text": [
      "a + b =  6154554869582649396897815903303946886217584338976587694660822389774542142\n",
      "a * b =  129849624334055606090457431182740540546741899974020152157092001108389246860127423273660813916609667074491974570904241073699497884391061016\n"
     ]
    }
   ],
   "source": [
    "# java, C와 같은 일반적인 프로그래밍 언어에서는 기억용량의 크기에 따라\n",
    "# 숫자넘침이라드지 유효숫자로의 표시로만 사용되나\n",
    "# 파이썬은 상당히 큰숫자의 계산이 가능함\n",
    "a=21098134232409921340984312089423089341208934120893145632196984466\n",
    "b=6154554848484515164487894562319634796794494997767653573767676757577557676\n",
    "print(\"a + b = \", a + b)\n",
    "print(\"a * b = \", a * b)"
   ]
  },
  {
   "cell_type": "code",
   "execution_count": 5,
   "id": "b5e0aa97",
   "metadata": {},
   "outputs": [
    {
     "data": {
      "text/plain": [
       "10"
      ]
     },
     "execution_count": 5,
     "metadata": {},
     "output_type": "execute_result"
    }
   ],
   "source": [
    "#2진수 표현\n",
    "0b1010"
   ]
  },
  {
   "cell_type": "code",
   "execution_count": 6,
   "id": "7c087ed3",
   "metadata": {},
   "outputs": [
    {
     "data": {
      "text/plain": [
       "15"
      ]
     },
     "execution_count": 6,
     "metadata": {},
     "output_type": "execute_result"
    }
   ],
   "source": [
    "#2진수 표현\n",
    "0b1111"
   ]
  },
  {
   "cell_type": "code",
   "execution_count": 7,
   "id": "4d125b3d",
   "metadata": {},
   "outputs": [
    {
     "ename": "SyntaxError",
     "evalue": "invalid digit '2' in binary literal (4097528594.py, line 1)",
     "output_type": "error",
     "traceback": [
      "\u001b[1;36m  Cell \u001b[1;32mIn[7], line 1\u001b[1;36m\u001b[0m\n\u001b[1;33m    0b0201\u001b[0m\n\u001b[1;37m       ^\u001b[0m\n\u001b[1;31mSyntaxError\u001b[0m\u001b[1;31m:\u001b[0m invalid digit '2' in binary literal\n"
     ]
    }
   ],
   "source": [
    "#2진수 표현\n",
    "#2진수는 0 1로만 표현되기때문에 오류가 발생\n",
    "0b0201"
   ]
  },
  {
   "cell_type": "code",
   "execution_count": 8,
   "id": "81fac740",
   "metadata": {},
   "outputs": [
    {
     "data": {
      "text/plain": [
       "16"
      ]
     },
     "execution_count": 8,
     "metadata": {},
     "output_type": "execute_result"
    }
   ],
   "source": [
    "#16진수표현\n",
    "0x10"
   ]
  },
  {
   "cell_type": "code",
   "execution_count": 9,
   "id": "1bf118f0",
   "metadata": {},
   "outputs": [
    {
     "data": {
      "text/plain": [
       "26"
      ]
     },
     "execution_count": 9,
     "metadata": {},
     "output_type": "execute_result"
    }
   ],
   "source": [
    "#16진수표현\n",
    "0x1a"
   ]
  },
  {
   "cell_type": "code",
   "execution_count": 11,
   "id": "1d6cf6ec",
   "metadata": {},
   "outputs": [
    {
     "data": {
      "text/plain": [
       "47"
      ]
     },
     "execution_count": 11,
     "metadata": {},
     "output_type": "execute_result"
    }
   ],
   "source": [
    "#16진수표현\n",
    "0x2f"
   ]
  },
  {
   "cell_type": "code",
   "execution_count": 13,
   "id": "8900f3d3",
   "metadata": {},
   "outputs": [
    {
     "ename": "NameError",
     "evalue": "name 'OX3z' is not defined",
     "output_type": "error",
     "traceback": [
      "\u001b[1;31m---------------------------------------------------------------------------\u001b[0m",
      "\u001b[1;31mNameError\u001b[0m                                 Traceback (most recent call last)",
      "Cell \u001b[1;32mIn[13], line 3\u001b[0m\n\u001b[0;32m      1\u001b[0m \u001b[38;5;66;03m#16진수표현\u001b[39;00m\n\u001b[0;32m      2\u001b[0m \u001b[38;5;66;03m#16진수는Z를 표현할수없으므로 오류가 발생\u001b[39;00m\n\u001b[1;32m----> 3\u001b[0m \u001b[43mOX3z\u001b[49m\n",
      "\u001b[1;31mNameError\u001b[0m: name 'OX3z' is not defined"
     ]
    }
   ],
   "source": [
    "#16진수표현\n",
    "#16진수는Z를 표현할수없으므로 오류가 발생\n",
    "OX3z"
   ]
  },
  {
   "cell_type": "code",
   "execution_count": 14,
   "id": "2e6b58ac",
   "metadata": {},
   "outputs": [
    {
     "name": "stdout",
     "output_type": "stream",
     "text": [
      "0xc\n",
      "0o26\n",
      "0b100001\n"
     ]
    }
   ],
   "source": [
    "# hex() 16진수로 변환\n",
    "# bin() 2진수로 변환\n",
    "# oct() 8진수로 변환\n",
    "\n",
    "print(hex(12))\n",
    "print(oct(22))\n",
    "print(bin(33))"
   ]
  },
  {
   "cell_type": "code",
   "execution_count": null,
   "id": "0ce0fc3d",
   "metadata": {},
   "outputs": [],
   "source": []
  },
  {
   "cell_type": "code",
   "execution_count": 15,
   "id": "1a9ed479",
   "metadata": {},
   "outputs": [],
   "source": [
    "#실수형"
   ]
  },
  {
   "cell_type": "code",
   "execution_count": 17,
   "id": "e4df2656",
   "metadata": {},
   "outputs": [
    {
     "data": {
      "text/plain": [
       "9460000000000.0"
      ]
     },
     "execution_count": 17,
     "metadata": {},
     "output_type": "execute_result"
    }
   ],
   "source": [
    "# 10의 12승 -> e12로 표현\n",
    "9.46e12"
   ]
  },
  {
   "cell_type": "code",
   "execution_count": 19,
   "id": "00d0448c",
   "metadata": {},
   "outputs": [
    {
     "data": {
      "text/plain": [
       "1.2131232417683412e+32"
      ]
     },
     "execution_count": 19,
     "metadata": {},
     "output_type": "execute_result"
    }
   ],
   "source": [
    "#실수형과 정수형의 연산을 수행하면\n",
    "#유효숫자만큼만 표현되는데 주의해야함\n",
    "9.46e12 + 121312324176834127678963412341298"
   ]
  },
  {
   "cell_type": "code",
   "execution_count": null,
   "id": "f60ff19e",
   "metadata": {},
   "outputs": [],
   "source": []
  },
  {
   "cell_type": "code",
   "execution_count": 20,
   "id": "78c0910d",
   "metadata": {},
   "outputs": [],
   "source": [
    "#복소수형"
   ]
  },
  {
   "cell_type": "code",
   "execution_count": 25,
   "id": "8e9dc684",
   "metadata": {},
   "outputs": [
    {
     "ename": "SyntaxError",
     "evalue": "invalid syntax (3999348363.py, line 1)",
     "output_type": "error",
     "traceback": [
      "\u001b[1;36m  Cell \u001b[1;32mIn[25], line 1\u001b[1;36m\u001b[0m\n\u001b[1;33m    a = 1 + 2i\u001b[0m\n\u001b[1;37m             ^\u001b[0m\n\u001b[1;31mSyntaxError\u001b[0m\u001b[1;31m:\u001b[0m invalid syntax\n"
     ]
    }
   ],
   "source": [
    "#실제 복소수는 i로 표현하지만\n",
    "#파이썬에서는 j로 사용한다\n",
    "a = 1 + 2i"
   ]
  },
  {
   "cell_type": "code",
   "execution_count": 26,
   "id": "dfa55039",
   "metadata": {},
   "outputs": [
    {
     "name": "stdout",
     "output_type": "stream",
     "text": [
      "(2+0j) (5+0j)\n"
     ]
    }
   ],
   "source": [
    "# 더하기, 빼기  (a + bi) + (c + di) = (a + c) + (b + d)i\n",
    "# 곱하기 (a + bi) * (c + di) = (ac-bd) + (ad + bc)i\n",
    "a = 1 + 2j\n",
    "b = 1 - 2j\n",
    "print(a+b, a*b)"
   ]
  },
  {
   "cell_type": "code",
   "execution_count": null,
   "id": "3b2fc590",
   "metadata": {},
   "outputs": [],
   "source": []
  },
  {
   "cell_type": "code",
   "execution_count": 27,
   "id": "e76b45a9",
   "metadata": {},
   "outputs": [],
   "source": [
    "#문자형"
   ]
  },
  {
   "cell_type": "code",
   "execution_count": 31,
   "id": "b96cb9ca",
   "metadata": {},
   "outputs": [
    {
     "data": {
      "text/plain": [
       "'aaabbb'"
      ]
     },
     "execution_count": 31,
     "metadata": {},
     "output_type": "execute_result"
    }
   ],
   "source": [
    "a = \"aaa\"\n",
    "b = \"bbb\"\n",
    "a + b"
   ]
  },
  {
   "cell_type": "code",
   "execution_count": 33,
   "id": "3eb3e259",
   "metadata": {},
   "outputs": [
    {
     "data": {
      "text/plain": [
       "'aaaaaaaaa'"
      ]
     },
     "execution_count": 33,
     "metadata": {},
     "output_type": "execute_result"
    }
   ],
   "source": [
    "a * 3"
   ]
  },
  {
   "cell_type": "code",
   "execution_count": 34,
   "id": "42ad4f7b",
   "metadata": {},
   "outputs": [
    {
     "data": {
      "text/plain": [
       "'bbbbbbbbbbbbbbb'"
      ]
     },
     "execution_count": 34,
     "metadata": {},
     "output_type": "execute_result"
    }
   ],
   "source": [
    "b * 5 "
   ]
  },
  {
   "cell_type": "code",
   "execution_count": 35,
   "id": "2c484f14",
   "metadata": {},
   "outputs": [],
   "source": [
    "# 확장문자"
   ]
  },
  {
   "cell_type": "code",
   "execution_count": 39,
   "id": "dd90bbf1",
   "metadata": {},
   "outputs": [
    {
     "data": {
      "text/plain": [
       "' \\n\\n   줄바꿈\\n\\t   탭처리\\n\"   따옴표 처리\\n\\'   홑따옴표 처리\\n\\\\   \\\\처리\\n'"
      ]
     },
     "execution_count": 39,
     "metadata": {},
     "output_type": "execute_result"
    }
   ],
   "source": [
    "\"\"\" \n",
    "\\n   줄바꿈\n",
    "\\t   탭처리\n",
    "\\\"   따옴표 처리\n",
    "\\'   홑따옴표 처리\n",
    "\\\\   \\처리\n",
    "\"\"\""
   ]
  },
  {
   "cell_type": "code",
   "execution_count": 40,
   "id": "d99dd925",
   "metadata": {},
   "outputs": [
    {
     "name": "stdout",
     "output_type": "stream",
     "text": [
      "호랑이가 \"떡하나 주면 안잡아 먹지\" 라고 말했습니다.\n"
     ]
    }
   ],
   "source": [
    "# 호랑이가 \"떡하나 주면 안잡아 먹지\" 라고 말했습니다.\n",
    "print('호랑이가 \"떡하나 주면 안잡아 먹지\" 라고 말했습니다.')"
   ]
  },
  {
   "cell_type": "code",
   "execution_count": 41,
   "id": "934ed834",
   "metadata": {},
   "outputs": [
    {
     "name": "stdout",
     "output_type": "stream",
     "text": [
      "호랑이가 \"떡하나 주면 안잡아 먹지\" 라고 말했습니다.\n"
     ]
    }
   ],
   "source": [
    "print(\"호랑이가 \\\"떡하나 주면 안잡아 먹지\\\" 라고 말했습니다.\")"
   ]
  },
  {
   "cell_type": "code",
   "execution_count": 42,
   "id": "5cf30492",
   "metadata": {},
   "outputs": [
    {
     "name": "stdout",
     "output_type": "stream",
     "text": [
      "I say \"I Love You\"\n"
     ]
    }
   ],
   "source": [
    "# I say \"I Love You\"\n",
    "print(\"I say \\\"I Love You\\\"\")"
   ]
  },
  {
   "cell_type": "code",
   "execution_count": 43,
   "id": "c4438ebf",
   "metadata": {},
   "outputs": [
    {
     "ename": "SyntaxError",
     "evalue": "invalid syntax (3295993247.py, line 1)",
     "output_type": "error",
     "traceback": [
      "\u001b[1;36m  Cell \u001b[1;32mIn[43], line 1\u001b[1;36m\u001b[0m\n\u001b[1;33m    print(\"I say \"I Love You\"\")\u001b[0m\n\u001b[1;37m                  ^\u001b[0m\n\u001b[1;31mSyntaxError\u001b[0m\u001b[1;31m:\u001b[0m invalid syntax\n"
     ]
    }
   ],
   "source": [
    "print(\"I say \"I Love You\"\")"
   ]
  },
  {
   "cell_type": "code",
   "execution_count": 44,
   "id": "8a8214bc",
   "metadata": {},
   "outputs": [],
   "source": [
    "#긴 문자열"
   ]
  },
  {
   "cell_type": "code",
   "execution_count": 45,
   "id": "11bcdd1b",
   "metadata": {},
   "outputs": [
    {
     "name": "stdout",
     "output_type": "stream",
     "text": [
      "오늘 열심히 파이썬을 공부했습니다. \n",
      "내일도 열심히 파이썬을 공부할 것 입니다.\n",
      "그래서 일등할 것입니다.\n"
     ]
    }
   ],
   "source": [
    "# 긴 문자열을 사용하기 위하여 따옴표를 3개를 (\"\"\" \"  \"\") 사용하면\n",
    "# 줄을 바꾸어서 사용할수 있다\n",
    "\n",
    "# 문자열의 합이나 명령어 연장(\\) 방법으로도 표현할 수 있음\n",
    "print(\"\"\"오늘 열심히 파이썬을 공부했습니다. \n",
    "내일도 열심히 파이썬을 공부할 것 입니다.\n",
    "그래서 일등할 것입니다.\"\"\")"
   ]
  },
  {
   "cell_type": "code",
   "execution_count": 46,
   "id": "5b46c923",
   "metadata": {},
   "outputs": [
    {
     "name": "stdout",
     "output_type": "stream",
     "text": [
      "오늘 열심히 파이썬을 공부했습니다. 내일도 열심히 파이썬을 공부할 것 입니다. 그래서 일등할 것입니다.\n"
     ]
    }
   ],
   "source": [
    "print(\"오늘 열심히 파이썬을 공부했습니다. \\\n",
    "내일도 열심히 파이썬을 공부할 것 입니다. \\\n",
    "그래서 일등할 것입니다.\")"
   ]
  },
  {
   "cell_type": "code",
   "execution_count": 47,
   "id": "df8f6132",
   "metadata": {},
   "outputs": [
    {
     "name": "stdout",
     "output_type": "stream",
     "text": [
      "오늘은즐거운일요일\n"
     ]
    }
   ],
   "source": [
    "# 작은 문자열을나열하여 사용할 수 있음\n",
    "a = \"오늘은\" \"즐거운\" \"일요일\"\n",
    "print(a)"
   ]
  },
  {
   "cell_type": "code",
   "execution_count": 48,
   "id": "3524d0eb",
   "metadata": {},
   "outputs": [
    {
     "name": "stdout",
     "output_type": "stream",
     "text": [
      "오늘 열심히 파이썬을 공부했습니다. \n",
      "내일도 열심히 파이썬을 공부할 것입니다. \n",
      "그래서 일등할 것입니다\n"
     ]
    }
   ],
   "source": [
    "print(\"오늘 열심히 파이썬을 공부했습니다. \\n\" \n",
    "     \"내일도 열심히 파이썬을 공부할 것입니다. \\n\"\n",
    "     \"그래서 일등할 것입니다\")"
   ]
  },
  {
   "cell_type": "code",
   "execution_count": null,
   "id": "ee5e2a2d",
   "metadata": {},
   "outputs": [],
   "source": []
  },
  {
   "cell_type": "code",
   "execution_count": 49,
   "id": "a3bb291e",
   "metadata": {},
   "outputs": [],
   "source": [
    "#기타 자료형"
   ]
  },
  {
   "cell_type": "code",
   "execution_count": 50,
   "id": "cbfe8344",
   "metadata": {},
   "outputs": [],
   "source": [
    "#부울형\n",
    "#부울대수(Boolean)연사을 위한 자료형으로 비교문의 기본\n",
    "#참 = True  거짓 = False로 표현(대소문자 주의)"
   ]
  },
  {
   "cell_type": "code",
   "execution_count": 51,
   "id": "683f469d",
   "metadata": {},
   "outputs": [
    {
     "data": {
      "text/plain": [
       "False"
      ]
     },
     "execution_count": 51,
     "metadata": {},
     "output_type": "execute_result"
    }
   ],
   "source": [
    "a = True\n",
    "b = False\n",
    "a and b"
   ]
  },
  {
   "cell_type": "code",
   "execution_count": 52,
   "id": "5d1fb466",
   "metadata": {},
   "outputs": [
    {
     "data": {
      "text/plain": [
       "True"
      ]
     },
     "execution_count": 52,
     "metadata": {},
     "output_type": "execute_result"
    }
   ],
   "source": [
    "a or b"
   ]
  },
  {
   "cell_type": "code",
   "execution_count": 53,
   "id": "557f5c9c",
   "metadata": {},
   "outputs": [
    {
     "data": {
      "text/plain": [
       "True"
      ]
     },
     "execution_count": 53,
     "metadata": {},
     "output_type": "execute_result"
    }
   ],
   "source": [
    "a and not b"
   ]
  },
  {
   "cell_type": "code",
   "execution_count": 54,
   "id": "d926d88b",
   "metadata": {},
   "outputs": [
    {
     "data": {
      "text/plain": [
       "True"
      ]
     },
     "execution_count": 54,
     "metadata": {},
     "output_type": "execute_result"
    }
   ],
   "source": [
    "a = 0\n",
    "b = a ==0\n",
    "b"
   ]
  },
  {
   "cell_type": "code",
   "execution_count": 57,
   "id": "a7406a8a",
   "metadata": {},
   "outputs": [
    {
     "name": "stdout",
     "output_type": "stream",
     "text": [
      "참\n"
     ]
    }
   ],
   "source": [
    "#추후 배울 비교문에 기본적 형태\n",
    "a = True\n",
    "b = False\n",
    "if 1 > 2 and a and b or b or a:\n",
    "    print(\"참\")\n",
    "else:\n",
    "    print(\"거짓\")"
   ]
  },
  {
   "cell_type": "code",
   "execution_count": 58,
   "id": "7629f5f0",
   "metadata": {},
   "outputs": [],
   "source": [
    "# 컬렉션\n",
    "# 여러개의 값을 모아서 저장하는 형태\n",
    "# 컬렉션 또는 컨테이너라고 하며 java,c의 배열이나 구조체와 유사함\n",
    "#컬렉션중 리스트를 가장많이 사용함\n",
    "#리스트는 []안에 갑을 나열하는 형식"
   ]
  },
  {
   "cell_type": "code",
   "execution_count": 59,
   "id": "40fe2aa2",
   "metadata": {
    "scrolled": true
   },
   "outputs": [
    {
     "name": "stdout",
     "output_type": "stream",
     "text": [
      "['빨', '주', '노', '초', '파', '남', '보']\n"
     ]
    }
   ],
   "source": [
    "rainbow = [\"빨\", \"주\", \"노\", \"초\", \"파\", \"남\", \"보\"]\n",
    "print(rainbow)"
   ]
  },
  {
   "cell_type": "code",
   "execution_count": null,
   "id": "c748d6ab",
   "metadata": {},
   "outputs": [],
   "source": [
    "#리스느느 하나하나 반복문으로 처리가 가능함"
   ]
  },
  {
   "cell_type": "code",
   "execution_count": 60,
   "id": "b1dca330",
   "metadata": {},
   "outputs": [
    {
     "name": "stdout",
     "output_type": "stream",
     "text": [
      "빨강 색\n",
      "주황 색\n",
      "노랑 색\n",
      "초록 색\n",
      "파랑 색\n",
      "남색 색\n",
      "보라 색\n"
     ]
    }
   ],
   "source": [
    "rainbow = [\"빨강\", \"주황\", \"노랑\", \"초록\", \"파랑\", \"남색\", \"보라\"]\n",
    "for color in rainbow:\n",
    "    print(color, \"색\")"
   ]
  },
  {
   "cell_type": "code",
   "execution_count": 62,
   "id": "4defaf5b",
   "metadata": {},
   "outputs": [
    {
     "name": "stdout",
     "output_type": "stream",
     "text": [
      "빨강 색\n",
      "주황 색\n",
      "노랑 색\n",
      "초록 색\n",
      "파랑 색\n",
      "남색 색\n",
      "보라 색\n"
     ]
    }
   ],
   "source": [
    "#리스트와 유사한 튜플이라는 자료형이있음\n",
    "# 튜플은 내용을 바꿀 수 없으며, [] 대신 ()로 표시함\n",
    "rainbow = (\"빨강\", \"주황\", \"노랑\", \"초록\", \"파랑\", \"남색\", \"보라\")\n",
    "for color in rainbow:\n",
    "    print(color, \"색\")"
   ]
  },
  {
   "cell_type": "code",
   "execution_count": null,
   "id": "aaa4aafb",
   "metadata": {},
   "outputs": [],
   "source": []
  }
 ],
 "metadata": {
  "kernelspec": {
   "display_name": "Python 3 (ipykernel)",
   "language": "python",
   "name": "python3"
  },
  "language_info": {
   "codemirror_mode": {
    "name": "ipython",
    "version": 3
   },
   "file_extension": ".py",
   "mimetype": "text/x-python",
   "name": "python",
   "nbconvert_exporter": "python",
   "pygments_lexer": "ipython3",
   "version": "3.8.8rc1"
  }
 },
 "nbformat": 4,
 "nbformat_minor": 5
}

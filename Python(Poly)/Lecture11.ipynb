{
 "cells": [
  {
   "cell_type": "code",
   "execution_count": 1,
   "id": "cf89e01e",
   "metadata": {},
   "outputs": [],
   "source": [
    "# 파이썬 표준 모듈"
   ]
  },
  {
   "cell_type": "code",
   "execution_count": 2,
   "id": "fa31f827",
   "metadata": {},
   "outputs": [],
   "source": [
    "# 표준라이브러리"
   ]
  },
  {
   "cell_type": "code",
   "execution_count": 3,
   "id": "34c40bce",
   "metadata": {},
   "outputs": [],
   "source": [
    "# 라이브러리\n",
    "# 1. 함수를 모아놓은 개념\n",
    "# 2. 기본적으로 설치되어 있는 라이브러리를 표준 라이브러리라고 부름\n",
    "# 3. python에서는 이 라이브러리를 module이라고 하며 표준라이브러리를\n",
    "#    built - in module로 명명함"
   ]
  },
  {
   "cell_type": "code",
   "execution_count": 4,
   "id": "2201f660",
   "metadata": {},
   "outputs": [
    {
     "data": {
      "text/plain": [
       "0.0"
      ]
     },
     "execution_count": 4,
     "metadata": {},
     "output_type": "execute_result"
    }
   ],
   "source": [
    "# sin 함수를 계산하기 위하여 math 표준 라이브러리를 호출하고\n",
    "# math라이브러리 안에있는 sin함수를 가져다 사용\n",
    "import math\n",
    "math.sin(0)"
   ]
  },
  {
   "cell_type": "code",
   "execution_count": 5,
   "id": "c3f953a7",
   "metadata": {},
   "outputs": [
    {
     "data": {
      "text/plain": [
       "3.141592653589793"
      ]
     },
     "execution_count": 5,
     "metadata": {},
     "output_type": "execute_result"
    }
   ],
   "source": [
    "math.pi"
   ]
  },
  {
   "cell_type": "code",
   "execution_count": 6,
   "id": "5af650b2",
   "metadata": {},
   "outputs": [
    {
     "data": {
      "text/plain": [
       "1.0"
      ]
     },
     "execution_count": 6,
     "metadata": {},
     "output_type": "execute_result"
    }
   ],
   "source": [
    "math.sin(math.pi/2.0)"
   ]
  },
  {
   "cell_type": "code",
   "execution_count": 7,
   "id": "71c7c5cf",
   "metadata": {},
   "outputs": [],
   "source": [
    "# 표준 라이브러리를 사용하기 위하여 다음과 같이 선언하여야함\n",
    "# 1. import 라이브러리명\n",
    "# 2. from 라이브러리명 import 함수명\n",
    "# 3. import 라이브러리명 as 단축명"
   ]
  },
  {
   "cell_type": "code",
   "execution_count": 8,
   "id": "aa6b5694",
   "metadata": {},
   "outputs": [
    {
     "data": {
      "text/plain": [
       "1.0"
      ]
     },
     "execution_count": 8,
     "metadata": {},
     "output_type": "execute_result"
    }
   ],
   "source": [
    "# 1. import 라이브러리명\n",
    "import math\n",
    "math.sin(math.pi/2.0)"
   ]
  },
  {
   "cell_type": "code",
   "execution_count": 9,
   "id": "0632c87b",
   "metadata": {},
   "outputs": [
    {
     "data": {
      "text/plain": [
       "0.9999999999999466"
      ]
     },
     "execution_count": 9,
     "metadata": {},
     "output_type": "execute_result"
    }
   ],
   "source": [
    "# 2. from 라이브러리명 import 함수명\n",
    "from math import sin\n",
    "sin(3.141592/2)"
   ]
  },
  {
   "cell_type": "code",
   "execution_count": 10,
   "id": "da2f9cf2",
   "metadata": {},
   "outputs": [
    {
     "data": {
      "text/plain": [
       "1.0"
      ]
     },
     "execution_count": 10,
     "metadata": {},
     "output_type": "execute_result"
    }
   ],
   "source": [
    "# 여러함수 사용시\n",
    "from math import sin,pi\n",
    "sin(pi/2.0)"
   ]
  },
  {
   "cell_type": "code",
   "execution_count": 11,
   "id": "e6890198",
   "metadata": {},
   "outputs": [
    {
     "data": {
      "text/plain": [
       "1.0"
      ]
     },
     "execution_count": 11,
     "metadata": {},
     "output_type": "execute_result"
    }
   ],
   "source": [
    "# 3. import 라이브러리명 as 단축명\n",
    "import math as m\n",
    "m.sin(m.pi/2.0)"
   ]
  },
  {
   "cell_type": "code",
   "execution_count": 13,
   "id": "9d48841a",
   "metadata": {},
   "outputs": [
    {
     "name": "stdout",
     "output_type": "stream",
     "text": [
      "Help on built-in module math:\n",
      "\n",
      "NAME\n",
      "    math\n",
      "\n",
      "DESCRIPTION\n",
      "    This module provides access to the mathematical functions\n",
      "    defined by the C standard.\n",
      "\n",
      "FUNCTIONS\n",
      "    acos(x, /)\n",
      "        Return the arc cosine (measured in radians) of x.\n",
      "        \n",
      "        The result is between 0 and pi.\n",
      "    \n",
      "    acosh(x, /)\n",
      "        Return the inverse hyperbolic cosine of x.\n",
      "    \n",
      "    asin(x, /)\n",
      "        Return the arc sine (measured in radians) of x.\n",
      "        \n",
      "        The result is between -pi/2 and pi/2.\n",
      "    \n",
      "    asinh(x, /)\n",
      "        Return the inverse hyperbolic sine of x.\n",
      "    \n",
      "    atan(x, /)\n",
      "        Return the arc tangent (measured in radians) of x.\n",
      "        \n",
      "        The result is between -pi/2 and pi/2.\n",
      "    \n",
      "    atan2(y, x, /)\n",
      "        Return the arc tangent (measured in radians) of y/x.\n",
      "        \n",
      "        Unlike atan(y/x), the signs of both x and y are considered.\n",
      "    \n",
      "    atanh(x, /)\n",
      "        Return the inverse hyperbolic tangent of x.\n",
      "    \n",
      "    ceil(x, /)\n",
      "        Return the ceiling of x as an Integral.\n",
      "        \n",
      "        This is the smallest integer >= x.\n",
      "    \n",
      "    comb(n, k, /)\n",
      "        Number of ways to choose k items from n items without repetition and without order.\n",
      "        \n",
      "        Evaluates to n! / (k! * (n - k)!) when k <= n and evaluates\n",
      "        to zero when k > n.\n",
      "        \n",
      "        Also called the binomial coefficient because it is equivalent\n",
      "        to the coefficient of k-th term in polynomial expansion of the\n",
      "        expression (1 + x)**n.\n",
      "        \n",
      "        Raises TypeError if either of the arguments are not integers.\n",
      "        Raises ValueError if either of the arguments are negative.\n",
      "    \n",
      "    copysign(x, y, /)\n",
      "        Return a float with the magnitude (absolute value) of x but the sign of y.\n",
      "        \n",
      "        On platforms that support signed zeros, copysign(1.0, -0.0)\n",
      "        returns -1.0.\n",
      "    \n",
      "    cos(x, /)\n",
      "        Return the cosine of x (measured in radians).\n",
      "    \n",
      "    cosh(x, /)\n",
      "        Return the hyperbolic cosine of x.\n",
      "    \n",
      "    degrees(x, /)\n",
      "        Convert angle x from radians to degrees.\n",
      "    \n",
      "    dist(p, q, /)\n",
      "        Return the Euclidean distance between two points p and q.\n",
      "        \n",
      "        The points should be specified as sequences (or iterables) of\n",
      "        coordinates.  Both inputs must have the same dimension.\n",
      "        \n",
      "        Roughly equivalent to:\n",
      "            sqrt(sum((px - qx) ** 2.0 for px, qx in zip(p, q)))\n",
      "    \n",
      "    erf(x, /)\n",
      "        Error function at x.\n",
      "    \n",
      "    erfc(x, /)\n",
      "        Complementary error function at x.\n",
      "    \n",
      "    exp(x, /)\n",
      "        Return e raised to the power of x.\n",
      "    \n",
      "    expm1(x, /)\n",
      "        Return exp(x)-1.\n",
      "        \n",
      "        This function avoids the loss of precision involved in the direct evaluation of exp(x)-1 for small x.\n",
      "    \n",
      "    fabs(x, /)\n",
      "        Return the absolute value of the float x.\n",
      "    \n",
      "    factorial(x, /)\n",
      "        Find x!.\n",
      "        \n",
      "        Raise a ValueError if x is negative or non-integral.\n",
      "    \n",
      "    floor(x, /)\n",
      "        Return the floor of x as an Integral.\n",
      "        \n",
      "        This is the largest integer <= x.\n",
      "    \n",
      "    fmod(x, y, /)\n",
      "        Return fmod(x, y), according to platform C.\n",
      "        \n",
      "        x % y may differ.\n",
      "    \n",
      "    frexp(x, /)\n",
      "        Return the mantissa and exponent of x, as pair (m, e).\n",
      "        \n",
      "        m is a float and e is an int, such that x = m * 2.**e.\n",
      "        If x is 0, m and e are both 0.  Else 0.5 <= abs(m) < 1.0.\n",
      "    \n",
      "    fsum(seq, /)\n",
      "        Return an accurate floating point sum of values in the iterable seq.\n",
      "        \n",
      "        Assumes IEEE-754 floating point arithmetic.\n",
      "    \n",
      "    gamma(x, /)\n",
      "        Gamma function at x.\n",
      "    \n",
      "    gcd(*integers)\n",
      "        Greatest Common Divisor.\n",
      "    \n",
      "    hypot(...)\n",
      "        hypot(*coordinates) -> value\n",
      "        \n",
      "        Multidimensional Euclidean distance from the origin to a point.\n",
      "        \n",
      "        Roughly equivalent to:\n",
      "            sqrt(sum(x**2 for x in coordinates))\n",
      "        \n",
      "        For a two dimensional point (x, y), gives the hypotenuse\n",
      "        using the Pythagorean theorem:  sqrt(x*x + y*y).\n",
      "        \n",
      "        For example, the hypotenuse of a 3/4/5 right triangle is:\n",
      "        \n",
      "            >>> hypot(3.0, 4.0)\n",
      "            5.0\n",
      "    \n",
      "    isclose(a, b, *, rel_tol=1e-09, abs_tol=0.0)\n",
      "        Determine whether two floating point numbers are close in value.\n",
      "        \n",
      "          rel_tol\n",
      "            maximum difference for being considered \"close\", relative to the\n",
      "            magnitude of the input values\n",
      "          abs_tol\n",
      "            maximum difference for being considered \"close\", regardless of the\n",
      "            magnitude of the input values\n",
      "        \n",
      "        Return True if a is close in value to b, and False otherwise.\n",
      "        \n",
      "        For the values to be considered close, the difference between them\n",
      "        must be smaller than at least one of the tolerances.\n",
      "        \n",
      "        -inf, inf and NaN behave similarly to the IEEE 754 Standard.  That\n",
      "        is, NaN is not close to anything, even itself.  inf and -inf are\n",
      "        only close to themselves.\n",
      "    \n",
      "    isfinite(x, /)\n",
      "        Return True if x is neither an infinity nor a NaN, and False otherwise.\n",
      "    \n",
      "    isinf(x, /)\n",
      "        Return True if x is a positive or negative infinity, and False otherwise.\n",
      "    \n",
      "    isnan(x, /)\n",
      "        Return True if x is a NaN (not a number), and False otherwise.\n",
      "    \n",
      "    isqrt(n, /)\n",
      "        Return the integer part of the square root of the input.\n",
      "    \n",
      "    lcm(*integers)\n",
      "        Least Common Multiple.\n",
      "    \n",
      "    ldexp(x, i, /)\n",
      "        Return x * (2**i).\n",
      "        \n",
      "        This is essentially the inverse of frexp().\n",
      "    \n",
      "    lgamma(x, /)\n",
      "        Natural logarithm of absolute value of Gamma function at x.\n",
      "    \n",
      "    log(...)\n",
      "        log(x, [base=math.e])\n",
      "        Return the logarithm of x to the given base.\n",
      "        \n",
      "        If the base not specified, returns the natural logarithm (base e) of x.\n",
      "    \n",
      "    log10(x, /)\n",
      "        Return the base 10 logarithm of x.\n",
      "    \n",
      "    log1p(x, /)\n",
      "        Return the natural logarithm of 1+x (base e).\n",
      "        \n",
      "        The result is computed in a way which is accurate for x near zero.\n",
      "    \n",
      "    log2(x, /)\n",
      "        Return the base 2 logarithm of x.\n",
      "    \n",
      "    modf(x, /)\n",
      "        Return the fractional and integer parts of x.\n",
      "        \n",
      "        Both results carry the sign of x and are floats.\n",
      "    \n",
      "    nextafter(x, y, /)\n",
      "        Return the next floating-point value after x towards y.\n",
      "    \n",
      "    perm(n, k=None, /)\n",
      "        Number of ways to choose k items from n items without repetition and with order.\n",
      "        \n",
      "        Evaluates to n! / (n - k)! when k <= n and evaluates\n",
      "        to zero when k > n.\n",
      "        \n",
      "        If k is not specified or is None, then k defaults to n\n",
      "        and the function returns n!.\n",
      "        \n",
      "        Raises TypeError if either of the arguments are not integers.\n",
      "        Raises ValueError if either of the arguments are negative.\n",
      "    \n",
      "    pow(x, y, /)\n",
      "        Return x**y (x to the power of y).\n",
      "    \n",
      "    prod(iterable, /, *, start=1)\n",
      "        Calculate the product of all the elements in the input iterable.\n",
      "        \n",
      "        The default start value for the product is 1.\n",
      "        \n",
      "        When the iterable is empty, return the start value.  This function is\n",
      "        intended specifically for use with numeric values and may reject\n",
      "        non-numeric types.\n",
      "    \n",
      "    radians(x, /)\n",
      "        Convert angle x from degrees to radians.\n",
      "    \n",
      "    remainder(x, y, /)\n",
      "        Difference between x and the closest integer multiple of y.\n",
      "        \n",
      "        Return x - n*y where n*y is the closest integer multiple of y.\n",
      "        In the case where x is exactly halfway between two multiples of\n",
      "        y, the nearest even value of n is used. The result is always exact.\n",
      "    \n",
      "    sin(x, /)\n",
      "        Return the sine of x (measured in radians).\n",
      "    \n",
      "    sinh(x, /)\n",
      "        Return the hyperbolic sine of x.\n",
      "    \n",
      "    sqrt(x, /)\n",
      "        Return the square root of x.\n",
      "    \n",
      "    tan(x, /)\n",
      "        Return the tangent of x (measured in radians).\n",
      "    \n",
      "    tanh(x, /)\n",
      "        Return the hyperbolic tangent of x.\n",
      "    \n",
      "    trunc(x, /)\n",
      "        Truncates the Real x to the nearest Integral toward 0.\n",
      "        \n",
      "        Uses the __trunc__ magic method.\n",
      "    \n",
      "    ulp(x, /)\n",
      "        Return the value of the least significant bit of the float x.\n",
      "\n",
      "DATA\n",
      "    e = 2.718281828459045\n",
      "    inf = inf\n",
      "    nan = nan\n",
      "    pi = 3.141592653589793\n",
      "    tau = 6.283185307179586\n",
      "\n",
      "FILE\n",
      "    (built-in)\n",
      "\n",
      "\n"
     ]
    }
   ],
   "source": [
    "# 표준 라이브러리에 대한 내용을 보기 위하여 help()를 활용\n",
    "import math\n",
    "help(math)"
   ]
  },
  {
   "cell_type": "code",
   "execution_count": 14,
   "id": "9bfe8a25",
   "metadata": {},
   "outputs": [
    {
     "data": {
      "text/plain": [
       "''"
      ]
     },
     "execution_count": 14,
     "metadata": {},
     "output_type": "execute_result"
    }
   ],
   "source": [
    "# math 모듈 사용 예제\n",
    "\"\"\"\n",
    "sin 함수 값을 1도에서 360도까지 구해보자\n",
    "• 각도를 측정하는 단위는 도(degree)와 라디안(radian:\n",
    "=3.141592..., 기준으로 표시)가 있다\n",
    "• 2 는 360도이다\n",
    "• 1도는 몇 라디안인가? /180\n",
    "• Sin함수는 -1~1까지 나오며, 라디안으로 사용\n",
    ": sin(0)=0, sin( /2)=1, sin( )=0, sin( *3/4)=-1\n",
    "\"\"\"\n",
    "\n",
    "\"\"\"\n",
    "1. 1도는 /180 라디안 임\n",
    "2. sin함수는 -1~1까지의 값을 가짐\n",
    "3. 양수화하기 위하여 sin+1을 더하면 0~2까지의 값을 가짐\n",
    "4. 이 값에 50배를 곱하면 0~100까지의 값을 가짐\n",
    "5. 그 값만큼 띄어 쓴 다음 sin값을 찍어봄\n",
    "\"\"\"\n",
    "\"\"\"\"\"\""
   ]
  },
  {
   "cell_type": "code",
   "execution_count": 15,
   "id": "20122ddd",
   "metadata": {},
   "outputs": [
    {
     "name": "stdout",
     "output_type": "stream",
     "text": [
      "                                                  [0.000000]\n",
      "                                                  [0.017452]\n",
      "                                                   [0.034899]\n",
      "                                                    [0.052336]\n",
      "                                                     [0.069756]\n",
      "                                                      [0.087156]\n",
      "                                                       [0.104528]\n",
      "                                                        [0.121869]\n",
      "                                                        [0.139173]\n",
      "                                                         [0.156434]\n",
      "                                                          [0.173648]\n",
      "                                                           [0.190809]\n",
      "                                                            [0.207912]\n",
      "                                                             [0.224951]\n",
      "                                                              [0.241922]\n",
      "                                                              [0.258819]\n",
      "                                                               [0.275637]\n",
      "                                                                [0.292372]\n",
      "                                                                 [0.309017]\n",
      "                                                                  [0.325568]\n",
      "                                                                   [0.342020]\n",
      "                                                                   [0.358368]\n",
      "                                                                    [0.374607]\n",
      "                                                                     [0.390731]\n",
      "                                                                      [0.406737]\n",
      "                                                                       [0.422618]\n",
      "                                                                       [0.438371]\n",
      "                                                                        [0.453990]\n",
      "                                                                         [0.469472]\n",
      "                                                                          [0.484810]\n",
      "                                                                           [0.500000]\n",
      "                                                                           [0.515038]\n",
      "                                                                            [0.529919]\n",
      "                                                                             [0.544639]\n",
      "                                                                             [0.559193]\n",
      "                                                                              [0.573576]\n",
      "                                                                               [0.587785]\n",
      "                                                                                [0.601815]\n",
      "                                                                                [0.615661]\n",
      "                                                                                 [0.629320]\n",
      "                                                                                  [0.642788]\n",
      "                                                                                  [0.656059]\n",
      "                                                                                   [0.669131]\n",
      "                                                                                    [0.681998]\n",
      "                                                                                    [0.694658]\n",
      "                                                                                     [0.707107]\n",
      "                                                                                     [0.719340]\n",
      "                                                                                      [0.731354]\n",
      "                                                                                       [0.743145]\n",
      "                                                                                       [0.754710]\n",
      "                                                                                        [0.766044]\n",
      "                                                                                        [0.777146]\n",
      "                                                                                         [0.788011]\n",
      "                                                                                         [0.798636]\n",
      "                                                                                          [0.809017]\n",
      "                                                                                          [0.819152]\n",
      "                                                                                           [0.829038]\n",
      "                                                                                           [0.838671]\n",
      "                                                                                            [0.848048]\n",
      "                                                                                            [0.857167]\n",
      "                                                                                             [0.866025]\n",
      "                                                                                             [0.874620]\n",
      "                                                                                              [0.882948]\n",
      "                                                                                              [0.891007]\n",
      "                                                                                              [0.898794]\n",
      "                                                                                               [0.906308]\n",
      "                                                                                               [0.913545]\n",
      "                                                                                                [0.920505]\n",
      "                                                                                                [0.927184]\n",
      "                                                                                                [0.933580]\n",
      "                                                                                                [0.939693]\n",
      "                                                                                                 [0.945519]\n",
      "                                                                                                 [0.951057]\n",
      "                                                                                                 [0.956305]\n",
      "                                                                                                  [0.961262]\n",
      "                                                                                                  [0.965926]\n",
      "                                                                                                  [0.970296]\n",
      "                                                                                                  [0.974370]\n",
      "                                                                                                  [0.978148]\n",
      "                                                                                                   [0.981627]\n",
      "                                                                                                   [0.984808]\n",
      "                                                                                                   [0.987688]\n",
      "                                                                                                   [0.990268]\n",
      "                                                                                                   [0.992546]\n",
      "                                                                                                   [0.994522]\n",
      "                                                                                                   [0.996195]\n",
      "                                                                                                   [0.997564]\n",
      "                                                                                                   [0.998630]\n",
      "                                                                                                   [0.999391]\n",
      "                                                                                                   [0.999848]\n",
      "                                                                                                    [1.000000]\n",
      "                                                                                                   [0.999848]\n",
      "                                                                                                   [0.999391]\n",
      "                                                                                                   [0.998630]\n",
      "                                                                                                   [0.997564]\n",
      "                                                                                                   [0.996195]\n",
      "                                                                                                   [0.994522]\n",
      "                                                                                                   [0.992546]\n",
      "                                                                                                   [0.990268]\n",
      "                                                                                                   [0.987688]\n",
      "                                                                                                   [0.984808]\n",
      "                                                                                                   [0.981627]\n",
      "                                                                                                  [0.978148]\n",
      "                                                                                                  [0.974370]\n",
      "                                                                                                  [0.970296]\n",
      "                                                                                                  [0.965926]\n",
      "                                                                                                  [0.961262]\n",
      "                                                                                                 [0.956305]\n",
      "                                                                                                 [0.951057]\n",
      "                                                                                                 [0.945519]\n",
      "                                                                                                [0.939693]\n",
      "                                                                                                [0.933580]\n",
      "                                                                                                [0.927184]\n",
      "                                                                                                [0.920505]\n",
      "                                                                                               [0.913545]\n",
      "                                                                                               [0.906308]\n",
      "                                                                                              [0.898794]\n",
      "                                                                                              [0.891007]\n",
      "                                                                                              [0.882948]\n",
      "                                                                                             [0.874620]\n",
      "                                                                                             [0.866025]\n",
      "                                                                                            [0.857167]\n",
      "                                                                                            [0.848048]\n",
      "                                                                                           [0.838671]\n",
      "                                                                                           [0.829038]\n",
      "                                                                                          [0.819152]\n",
      "                                                                                          [0.809017]\n",
      "                                                                                         [0.798636]\n",
      "                                                                                         [0.788011]\n",
      "                                                                                        [0.777146]\n",
      "                                                                                        [0.766044]\n",
      "                                                                                       [0.754710]\n",
      "                                                                                       [0.743145]\n",
      "                                                                                      [0.731354]\n",
      "                                                                                     [0.719340]\n",
      "                                                                                     [0.707107]\n",
      "                                                                                    [0.694658]\n",
      "                                                                                    [0.681998]\n",
      "                                                                                   [0.669131]\n",
      "                                                                                  [0.656059]\n",
      "                                                                                  [0.642788]\n",
      "                                                                                 [0.629320]\n",
      "                                                                                [0.615661]\n",
      "                                                                                [0.601815]\n",
      "                                                                               [0.587785]\n",
      "                                                                              [0.573576]\n",
      "                                                                             [0.559193]\n",
      "                                                                             [0.544639]\n",
      "                                                                            [0.529919]\n",
      "                                                                           [0.515038]\n",
      "                                                                           [0.500000]\n",
      "                                                                          [0.484810]\n",
      "                                                                         [0.469472]\n",
      "                                                                        [0.453990]\n",
      "                                                                       [0.438371]\n",
      "                                                                       [0.422618]\n",
      "                                                                      [0.406737]\n",
      "                                                                     [0.390731]\n",
      "                                                                    [0.374607]\n",
      "                                                                   [0.358368]\n",
      "                                                                   [0.342020]\n",
      "                                                                  [0.325568]\n",
      "                                                                 [0.309017]\n",
      "                                                                [0.292372]\n",
      "                                                               [0.275637]\n",
      "                                                              [0.258819]\n",
      "                                                              [0.241922]\n",
      "                                                             [0.224951]\n",
      "                                                            [0.207912]\n",
      "                                                           [0.190809]\n",
      "                                                          [0.173648]\n",
      "                                                         [0.156434]\n",
      "                                                        [0.139173]\n",
      "                                                        [0.121869]\n",
      "                                                       [0.104528]\n",
      "                                                      [0.087156]\n",
      "                                                     [0.069756]\n",
      "                                                    [0.052336]\n",
      "                                                   [0.034899]\n",
      "                                                  [0.017452]\n",
      "                                                  [0.000000]\n",
      "                                                 [-0.017452]\n",
      "                                                [-0.034899]\n",
      "                                               [-0.052336]\n",
      "                                              [-0.069756]\n",
      "                                             [-0.087156]\n",
      "                                            [-0.104528]\n",
      "                                           [-0.121869]\n",
      "                                           [-0.139173]\n",
      "                                          [-0.156434]\n",
      "                                         [-0.173648]\n",
      "                                        [-0.190809]\n",
      "                                       [-0.207912]\n",
      "                                      [-0.224951]\n",
      "                                     [-0.241922]\n",
      "                                     [-0.258819]\n",
      "                                    [-0.275637]\n",
      "                                   [-0.292372]\n",
      "                                  [-0.309017]\n",
      "                                 [-0.325568]\n",
      "                                [-0.342020]\n",
      "                                [-0.358368]\n",
      "                               [-0.374607]\n",
      "                              [-0.390731]\n",
      "                             [-0.406737]\n",
      "                            [-0.422618]\n",
      "                            [-0.438371]\n",
      "                           [-0.453990]\n",
      "                          [-0.469472]\n",
      "                         [-0.484810]\n",
      "                        [-0.500000]\n",
      "                        [-0.515038]\n",
      "                       [-0.529919]\n",
      "                      [-0.544639]\n",
      "                      [-0.559193]\n",
      "                     [-0.573576]\n",
      "                    [-0.587785]\n",
      "                   [-0.601815]\n",
      "                   [-0.615661]\n",
      "                  [-0.629320]\n",
      "                 [-0.642788]\n",
      "                 [-0.656059]\n",
      "                [-0.669131]\n",
      "               [-0.681998]\n",
      "               [-0.694658]\n",
      "              [-0.707107]\n",
      "              [-0.719340]\n",
      "             [-0.731354]\n",
      "            [-0.743145]\n",
      "            [-0.754710]\n",
      "           [-0.766044]\n",
      "           [-0.777146]\n",
      "          [-0.788011]\n",
      "          [-0.798636]\n",
      "         [-0.809017]\n",
      "         [-0.819152]\n",
      "        [-0.829038]\n",
      "        [-0.838671]\n",
      "       [-0.848048]\n",
      "       [-0.857167]\n",
      "      [-0.866025]\n",
      "      [-0.874620]\n",
      "     [-0.882948]\n",
      "     [-0.891007]\n",
      "     [-0.898794]\n",
      "    [-0.906308]\n",
      "    [-0.913545]\n",
      "   [-0.920505]\n",
      "   [-0.927184]\n",
      "   [-0.933580]\n",
      "   [-0.939693]\n",
      "  [-0.945519]\n",
      "  [-0.951057]\n",
      "  [-0.956305]\n",
      " [-0.961262]\n",
      " [-0.965926]\n",
      " [-0.970296]\n",
      " [-0.974370]\n",
      " [-0.978148]\n",
      "[-0.981627]\n",
      "[-0.984808]\n",
      "[-0.987688]\n",
      "[-0.990268]\n",
      "[-0.992546]\n",
      "[-0.994522]\n",
      "[-0.996195]\n",
      "[-0.997564]\n",
      "[-0.998630]\n",
      "[-0.999391]\n",
      "[-0.999848]\n",
      "[-1.000000]\n",
      "[-0.999848]\n",
      "[-0.999391]\n",
      "[-0.998630]\n",
      "[-0.997564]\n",
      "[-0.996195]\n",
      "[-0.994522]\n",
      "[-0.992546]\n",
      "[-0.990268]\n",
      "[-0.987688]\n",
      "[-0.984808]\n",
      "[-0.981627]\n",
      " [-0.978148]\n",
      " [-0.974370]\n",
      " [-0.970296]\n",
      " [-0.965926]\n",
      " [-0.961262]\n",
      "  [-0.956305]\n",
      "  [-0.951057]\n",
      "  [-0.945519]\n",
      "   [-0.939693]\n",
      "   [-0.933580]\n",
      "   [-0.927184]\n",
      "   [-0.920505]\n",
      "    [-0.913545]\n",
      "    [-0.906308]\n",
      "     [-0.898794]\n",
      "     [-0.891007]\n",
      "     [-0.882948]\n",
      "      [-0.874620]\n",
      "      [-0.866025]\n",
      "       [-0.857167]\n",
      "       [-0.848048]\n",
      "        [-0.838671]\n",
      "        [-0.829038]\n",
      "         [-0.819152]\n",
      "         [-0.809017]\n",
      "          [-0.798636]\n",
      "          [-0.788011]\n",
      "           [-0.777146]\n",
      "           [-0.766044]\n",
      "            [-0.754710]\n",
      "            [-0.743145]\n",
      "             [-0.731354]\n",
      "              [-0.719340]\n",
      "              [-0.707107]\n",
      "               [-0.694658]\n",
      "               [-0.681998]\n",
      "                [-0.669131]\n",
      "                 [-0.656059]\n",
      "                 [-0.642788]\n",
      "                  [-0.629320]\n",
      "                   [-0.615661]\n",
      "                   [-0.601815]\n",
      "                    [-0.587785]\n",
      "                     [-0.573576]\n",
      "                      [-0.559193]\n",
      "                      [-0.544639]\n",
      "                       [-0.529919]\n",
      "                        [-0.515038]\n",
      "                        [-0.500000]\n",
      "                         [-0.484810]\n",
      "                          [-0.469472]\n",
      "                           [-0.453990]\n",
      "                            [-0.438371]\n",
      "                            [-0.422618]\n",
      "                             [-0.406737]\n",
      "                              [-0.390731]\n",
      "                               [-0.374607]\n",
      "                                [-0.358368]\n",
      "                                [-0.342020]\n",
      "                                 [-0.325568]\n",
      "                                  [-0.309017]\n",
      "                                   [-0.292372]\n",
      "                                    [-0.275637]\n",
      "                                     [-0.258819]\n",
      "                                     [-0.241922]\n",
      "                                      [-0.224951]\n",
      "                                       [-0.207912]\n",
      "                                        [-0.190809]\n",
      "                                         [-0.173648]\n",
      "                                          [-0.156434]\n",
      "                                           [-0.139173]\n",
      "                                           [-0.121869]\n",
      "                                            [-0.104528]\n",
      "                                             [-0.087156]\n",
      "                                              [-0.069756]\n",
      "                                               [-0.052336]\n",
      "                                                [-0.034899]\n",
      "                                                 [-0.017452]\n"
     ]
    }
   ],
   "source": [
    "from math import sin,pi\n",
    "for i in range(360):\n",
    "    sin_value=sin(i*pi/180)\n",
    "    space_value=int( (1+sin_value)*50)\n",
    "    print(\" \"*space_value, end=\"\")\n",
    "    print(\"[%f]\"%sin_value)"
   ]
  },
  {
   "cell_type": "code",
   "execution_count": 16,
   "id": "25ac9084",
   "metadata": {},
   "outputs": [
    {
     "data": {
      "image/png": "[encoded data removed]",
      "text/plain": [
       "<Figure size 432x288 with 1 Axes>"
      ]
     },
     "metadata": {
      "needs_background": "light"
     },
     "output_type": "display_data"
    }
   ],
   "source": [
    "# mathplotlib 맛보기\\\n",
    "# 1. 먼저 cmd창에서 pip install matplotlib 이라고 명령하여 mathplotlib을 설치함\n",
    "# 2. 이후 [import matplotlib.pyplot as plt]로 mathplotlib의 pyplot를 가지고 옴\n",
    "# 3. plt.plot(리스트값) 함수로 리스트값을 그래프함수에 전달함\n",
    "# 4. plt.show()를 통하여 그래프를 그림\\\n",
    "from math import sin,pi\n",
    "import matplotlib.pyplot as plt\n",
    "\n",
    "graph_value=[] #리스트 선언,빈 리스트를 만들어야 append가능\n",
    "for i in range(360):\n",
    "    graph_value.append(sin(i*pi/180)) #sin값을 하나씩 리스트에 넣음\n",
    "    \n",
    "plt.plot(graph_value) #해당 리스트를 그래프 함수에 보냄\n",
    "plt.show()"
   ]
  },
  {
   "cell_type": "code",
   "execution_count": 18,
   "id": "87f52e25",
   "metadata": {},
   "outputs": [
    {
     "name": "stdout",
     "output_type": "stream",
     "text": [
      "평균 :  60.888888888888886\n",
      "표준편차 :  34.18129768032675\n",
      "분산 :  1168.361111111111\n"
     ]
    }
   ],
   "source": [
    "# statistics 모듈 사용 예제\n",
    "import statistics as s\n",
    "a=[100,95,25,33,45,90,100,35,25]\n",
    "print(\"평균 : \", s.mean(a)) #평균\n",
    "print(\"표준편차 : \", s.stdev(a)) #표준편차\n",
    "print(\"분산 : \", s.variance(a)) #분산"
   ]
  },
  {
   "cell_type": "code",
   "execution_count": 19,
   "id": "43658c08",
   "metadata": {},
   "outputs": [
    {
     "data": {
      "text/plain": [
       "96.0"
      ]
     },
     "execution_count": 19,
     "metadata": {},
     "output_type": "execute_result"
    }
   ],
   "source": [
    "# 조화 평균 예제\n",
    "# 100km의 거리를 갈 때는 시속 120km, 올 때는\n",
    "# 80km로 왔을 때 평균 시속 몇 km로 왔는가?\n",
    "import statistics as s\n",
    "s.harmonic_mean([120,80])"
   ]
  },
  {
   "cell_type": "code",
   "execution_count": null,
   "id": "211bfbbb",
   "metadata": {},
   "outputs": [],
   "source": []
  },
  {
   "cell_type": "code",
   "execution_count": 20,
   "id": "f8614bd9",
   "metadata": {},
   "outputs": [],
   "source": [
    "# 시간, 난수 발생"
   ]
  },
  {
   "cell_type": "code",
   "execution_count": 21,
   "id": "f9c8e73b",
   "metadata": {},
   "outputs": [],
   "source": [
    "# time 모듈\n",
    "# time 모듈을 임포트 후 time()함수를 사용하여 현재 시간을 얻음\n",
    "# 얻어진 시간은 1970.1.1 0시 0분 0초로 부터 몇 초가 지났는지 표시함\n",
    "# 하지만 한국표준시는 +9시간으로 1970.1.1. 오전 9시 정각부터 임\n",
    "# ctime() 함수로 시각을 영문 문자형식으로 표시가 가능함"
   ]
  },
  {
   "cell_type": "code",
   "execution_count": 25,
   "id": "934f6110",
   "metadata": {},
   "outputs": [
    {
     "name": "stdout",
     "output_type": "stream",
     "text": [
      "현재시간 :  1683300145.355771\n",
      "문자형식 시간 :  Sat May  6 00:22:25 2023\n",
      "time = 0 일때 :  Thu Jan  1 09:00:00 1970\n"
     ]
    }
   ],
   "source": [
    " import time as t\n",
    "a=t.time() #현재시간을 구함\n",
    "print(\"현재시간 : \", a)\n",
    "print(\"문자형식 시간 : \", t.ctime(a)) # 초단위로 표시된 시간을 문자형식으로\n",
    "print(\"time = 0 일때 : \", t.ctime(0)) \n",
    "# 우리나라 기준으로 time = 0인경우 1970년 1월1일 오전9시 정각"
   ]
  },
  {
   "cell_type": "code",
   "execution_count": 26,
   "id": "64d1ca54",
   "metadata": {},
   "outputs": [
    {
     "data": {
      "text/plain": [
       "time.struct_time(tm_year=2023, tm_mon=5, tm_mday=6, tm_hour=0, tm_min=26, tm_sec=2, tm_wday=5, tm_yday=126, tm_isdst=0)"
      ]
     },
     "execution_count": 26,
     "metadata": {},
     "output_type": "execute_result"
    }
   ],
   "source": [
    "import time as t\n",
    "a=t.localtime()\n",
    "a"
   ]
  },
  {
   "cell_type": "code",
   "execution_count": 27,
   "id": "0d10ed2b",
   "metadata": {},
   "outputs": [
    {
     "name": "stdout",
     "output_type": "stream",
     "text": [
      "2023년 5월 6일 00시 26분 02초\n"
     ]
    }
   ],
   "source": [
    "print(\"%d년 %d월 %d일 %02d시 %02d분 %02d초\"%(a.tm_year,a.tm_mon,a.tm_mday,\n",
    "                                       a.tm_hour,a.tm_min,a.tm_sec))"
   ]
  },
  {
   "cell_type": "code",
   "execution_count": 28,
   "id": "22362b1b",
   "metadata": {},
   "outputs": [
    {
     "name": "stdout",
     "output_type": "stream",
     "text": [
      "2023년 5월 6일 00시 27분01초\n"
     ]
    }
   ],
   "source": [
    "import datetime as t\n",
    "a=t.datetime.now()\n",
    "print(\"%d년 %d월 %d일 %02d시 %02d분%02d초\"%(a.year,a.month,\n",
    "                                      a.day,a.hour,a.minute,a.second))"
   ]
  },
  {
   "cell_type": "code",
   "execution_count": 33,
   "id": "2536c13d",
   "metadata": {},
   "outputs": [
    {
     "name": "stdout",
     "output_type": "stream",
     "text": [
      "0.029355 초 동안 실행함\n"
     ]
    }
   ],
   "source": [
    "# 시작 시간 초와 종료 시간 초의 차이로 실행 시간을 구할 수 있음\n",
    "import time as t\n",
    "\n",
    "start=t.time()\n",
    "for i in range(1000000):\n",
    "    pass\n",
    "end=t.time()\n",
    "\n",
    "print(\"%f 초 동안 실행함\"%(end-start))"
   ]
  },
  {
   "cell_type": "code",
   "execution_count": 34,
   "id": "3db565ec",
   "metadata": {},
   "outputs": [
    {
     "name": "stdout",
     "output_type": "stream",
     "text": [
      "Sat May  6 00:28:08 2023\n",
      "Sat May  6 00:28:11 2023\n",
      "Sat May  6 00:28:14 2023\n",
      "Sat May  6 00:28:17 2023\n",
      "Sat May  6 00:28:20 2023\n",
      "Sat May  6 00:28:23 2023\n",
      "Sat May  6 00:28:26 2023\n",
      "Sat May  6 00:28:29 2023\n",
      "Sat May  6 00:28:32 2023\n",
      "Sat May  6 00:28:35 2023\n"
     ]
    }
   ],
   "source": [
    "import time as t\n",
    "for i in range(10):\n",
    "    print(t.ctime())\n",
    "    t.sleep(3)"
   ]
  },
  {
   "cell_type": "code",
   "execution_count": 35,
   "id": "07ac15ad",
   "metadata": {},
   "outputs": [
    {
     "data": {
      "image/png": "[encoded data removed]",
      "text/plain": [
       "<Figure size 432x288 with 1 Axes>"
      ]
     },
     "metadata": {
      "needs_background": "light"
     },
     "output_type": "display_data"
    }
   ],
   "source": [
    "import random as r\n",
    "import matplotlib.pyplot as plt\n",
    "\n",
    "score=[]\n",
    "for i in range(100):\n",
    "    score.append(r.randrange(0,100))\n",
    "    \n",
    "plt.plot(score)\n",
    "plt.show()"
   ]
  },
  {
   "cell_type": "code",
   "execution_count": 36,
   "id": "d8c18041",
   "metadata": {},
   "outputs": [
    {
     "data": {
      "text/plain": [
       "'3.9.7 (default, Sep 16 2021, 16:59:28) [MSC v.1916 64 bit (AMD64)]'"
      ]
     },
     "execution_count": 36,
     "metadata": {},
     "output_type": "execute_result"
    }
   ],
   "source": [
    "# sys 모듈\n",
    "import sys\n",
    "sys.version #파이썬 버전 조회"
   ]
  },
  {
   "cell_type": "code",
   "execution_count": 37,
   "id": "11dbdf54",
   "metadata": {},
   "outputs": [
    {
     "data": {
      "text/plain": [
       "'win32'"
      ]
     },
     "execution_count": 37,
     "metadata": {},
     "output_type": "execute_result"
    }
   ],
   "source": [
    "sys.platform #파이썬 설치 플랫폼"
   ]
  },
  {
   "cell_type": "code",
   "execution_count": 38,
   "id": "642fd3d5",
   "metadata": {},
   "outputs": [
    {
     "data": {
      "text/plain": [
       "sys.getwindowsversion(major=10, minor=0, build=19041, platform=2, service_pack='')"
      ]
     },
     "execution_count": 38,
     "metadata": {},
     "output_type": "execute_result"
    }
   ],
   "source": [
    "sys.getwindowsversion() #설치된 윈도우의 버전"
   ]
  },
  {
   "cell_type": "code",
   "execution_count": 45,
   "id": "77cee03f",
   "metadata": {},
   "outputs": [
    {
     "data": {
      "text/plain": [
       "'C:\\\\Users\\\\User\\\\Desktop\\\\pythonwokrspace'"
      ]
     },
     "execution_count": 45,
     "metadata": {},
     "output_type": "execute_result"
    }
   ],
   "source": [
    "# built -in 모듈 응용 사례\n",
    "\n",
    "# import os를 통하여 operating system(운영체계 윈도우)을 제어할 수 있음\n",
    "# os.getcwd()로 현재 실행 디렉토리를 얻을 수 있음\n",
    "# os.system(명령)으로 윈도우의 명령을 실행할 수 있음\n",
    "import os\n",
    "os.getcwd()"
   ]
  },
  {
   "cell_type": "code",
   "execution_count": 40,
   "id": "4454d894",
   "metadata": {},
   "outputs": [
    {
     "data": {
      "text/plain": [
       "0"
      ]
     },
     "execution_count": 40,
     "metadata": {},
     "output_type": "execute_result"
    }
   ],
   "source": [
    " os.system(\"calc\") #계산기 실행"
   ]
  },
  {
   "cell_type": "code",
   "execution_count": 42,
   "id": "4cbf3386",
   "metadata": {},
   "outputs": [
    {
     "data": {
      "text/plain": [
       "0"
      ]
     },
     "execution_count": 42,
     "metadata": {},
     "output_type": "execute_result"
    }
   ],
   "source": [
    "os.system(\" IDLE \") #IDLE실행"
   ]
  },
  {
   "cell_type": "code",
   "execution_count": 43,
   "id": "44bfc079",
   "metadata": {},
   "outputs": [
    {
     "data": {
      "text/plain": [
       "0"
      ]
     },
     "execution_count": 43,
     "metadata": {},
     "output_type": "execute_result"
    }
   ],
   "source": [
    "os.system(\"python\") #파이썬 실행 실행된 상태에서 기다림"
   ]
  },
  {
   "cell_type": "code",
   "execution_count": 46,
   "id": "fcf12154",
   "metadata": {},
   "outputs": [
    {
     "data": {
      "text/plain": [
       "1"
      ]
     },
     "execution_count": 46,
     "metadata": {},
     "output_type": "execute_result"
    }
   ],
   "source": [
    "os.system(\"shutdown -f -t 10\") #이 명령 수행전 모든 윈도우 프로그램을 정리할 것"
   ]
  },
  {
   "cell_type": "code",
   "execution_count": 49,
   "id": "36e7ca31",
   "metadata": {},
   "outputs": [],
   "source": [
    "# urllib을 이용하여 홈페이지 소스를 분석함\n",
    "# urlopen 함수를 이용하여 학교 홈페이지(www.sjcu.ac.kr) 중 \n",
    "#      첫 페이지의 소스를 한 줄씩 받아옴\n",
    "# 해당 줄에 “세종”이라는 글자가 있으면 해당 줄만 출력함\n",
    "# 파이썬 라이브러리를 이용하면 다른 언어에서 수백 줄\n",
    "#      작성하는 코드가 몇 줄로 처리될 수 있음"
   ]
  },
  {
   "cell_type": "code",
   "execution_count": 50,
   "id": "91e7bb85",
   "metadata": {},
   "outputs": [
    {
     "name": "stdout",
     "output_type": "stream",
     "text": [
      "<meta name=\"author\" content=\"폴리텍대학\" />\r\n",
      "\n",
      "<meta name=\"description\" content=\"폴리텍대학 홈페이지입니다.\" />\r\n",
      "\n",
      "<meta name=\"keywords\" content=\"폴리텍대학\" />\r\n",
      "\n",
      "<title>학교법인한국폴리텍</title>\r\n",
      "\n",
      "\t<a class=\"nav-skip__item\" href=\"#pg-div\">학교법인한국폴리텍본문 바로가기</a><br/>\r\n",
      "\n",
      "\t<a class=\"nav-skip__item\" href=\"#kopoMenu\">학교법인한국폴리텍주메뉴 바로가기</a>\r\n",
      "\n",
      "\t\t\t<a href =\"javascript:showAllCampus();\" title=\"폴리텍대학 캠퍼스 목록 표시\">전국 캠퍼스 안내</a>\r\n",
      "\n",
      "\t\t\t\t<h3>한국폴리텍대학 전국 캠퍼스 안내</h3>\r\n",
      "\n",
      "\t\t\t<img class=\"all_campus_map\" alt=\"한국폴리텍대학 전국 캠퍼스 지도\" src=\"/images/kopo/all_campus_map2.png\"/>\r\n",
      "\n",
      "\t\t<a href=\"#\" class=\"all_campus_close\" onclick=\"showAllCampus(); return false;\"><img alt=\"한국폴리텍대학 전국 캠퍼스 바로가기 닫기\" src=\"/images/kopo/all_cam_close.png\"/></a>\r\n",
      "\n",
      "\t\t\t<img src=\"/assets2021/img/logo_header_pc.png\" alt=\"한국폴리텍대학 \">\r\n",
      "\n",
      "\t\t\t\t\t\t\t폴리텍대학 소개</span></a><div class=\"depth-2\"><div class=\"container\">\r\n",
      "\n",
      "\t\t\t\t\t\t\t폴리텍대학 소개</span></a></div>\r\n",
      "\n",
      "\t\t\t\t\t\t\t폴리텍 역사</span></a></li>\r\n",
      "\n",
      "\t\t\t\t\t\t\t폴리텍대학 소식</span></a></div>\r\n",
      "\n",
      "\t\t\t\t\t\t\t폴리텍대학 홍보</span></a></div>\r\n",
      "\n",
      "\t\t\t\t\t\t\t폴리텍人 스토리 공모전 수상작</span></a></li>\r\n",
      "\n",
      "\t\t\t\t\t\t\t폴리텍 컬러링 신청</span></a></li>\r\n",
      "\n",
      "\t\t\t\t\t\t\t폴리텍English 음원</span></a></li>\r\n",
      "\n",
      "\t\t\t\t\t\t\t폴리텍대학 강점</span></a></div>\r\n",
      "\n",
      "\t\t\t\t\t\t\t참人폴리텍</span></a></li>\r\n",
      "\n",
      "\t<h2 class=\"hidden\">한국폴리텍 주요정보</h2>\r\n",
      "\n",
      "바로 곁에 폴리텍 \r\n",
      "\n",
      "취풍당당 폴리텍人\r\n",
      "\n",
      "기술이 취업이다 폴리텍이 취업이다\r\n",
      "\n",
      "한국폴리텍대학\r\n",
      "\n",
      "\t\t\t\t\t\t\t\t<span class=\"icon-quick\" style=\"background-image: url('https://www.kopo.ac.kr/cmm/fms/kopoImg.do?atchFileId=FILE_000000000276798&fileSn=0');\"></span><span class=\"icon-txt\">폴리텍 역사</span>\r\n",
      "\n",
      "\t\t\t\t<button onclick=\"popOpen('.sch-pop')\">나에게 맞는 폴리텍 과정 찾기</button>\r\n",
      "\n",
      "\t\t\t\t\t<span class=\"for-mobile\">나에게 맞는 폴리텍</span>\r\n",
      "\n",
      "\t<h2><span class=\"em\">폴리텍</span> 소식</h2>\r\n",
      "\n",
      "\t\t\t\t\t\t\t\t<p class=\"content\">한국폴리텍인사이트 2023 디지털시대의 ABBC전략</p>\r\n",
      "\n",
      "\t\t\t\t\t\t\t\t<p class=\"content\">대한경제 - 폴리텍대, 안전 문화 우수 캠퍼스로 대구ㆍ광주ㆍ대전 선정</p>\r\n",
      "\n",
      "\t\t\t\t\t\t\t\t<p class=\"content\">서울신문 - 배우·기술인·천문학도 ‘이색 신입생’…폴리텍대학서 새로운 도전 스타트</p>\r\n",
      "\n",
      "\t\t\t\t\t\t\t\t<p class=\"content\">한국폴리텍인사이트 2023 디지털시대의 ABBC전략</p>\r\n",
      "\n",
      "\t\t\t\t\t\t\t\t<p class=\"content\">한국폴리텍대학 남인천캠퍼스 지역대학장 공개초빙 공고</p>\r\n",
      "\n",
      "\t\t\t\t\t\t\t\t<p class=\"content\">대한경제 - 폴리텍대, 안전 문화 우수 캠퍼스로 대구ㆍ광주ㆍ대전 선정</p>\r\n",
      "\n",
      "\t\t\t\t\t\t\t\t<p class=\"content\">서울신문 - 배우·기술인·천문학도 ‘이색 신입생’…폴리텍대학서 새로운 도전 스타트</p>\r\n",
      "\n",
      "\t\t\t\t\t\t\t\t<p class=\"content\">연합뉴스 - 폴리텍, 반도체.인공지능 등 분야에 교수 55명 배치</p>\r\n",
      "\n",
      "\t\t\t\t\t\t\t\t<p class=\"content\">뉴스핌 -  \"국민 누구나 폴리텍에서 직업체험·실습을\"</p>\r\n",
      "\n",
      "\t\t\t\t\t\t\t\t<p class=\"content\">뉴스핌 - 폴리텍대 바이오캠퍼스, 교수·장비·과정 삼박자 갖췄다</p>\r\n",
      "\n",
      "\t\t\t\t\tpip_title=\"폴리텍 소식\";\r\n",
      "\n",
      "\t\t<h3 class=\"hidden\">한국폴리텍대학 푸터</h3>\r\n",
      "\n",
      "\t\t<a class=\"footer__logo\" href=\"/index.do\"><img src=\"/assets2021/img/logo_header_wh.png\" alt=\"한국폴리텍대학\"></a>\r\n",
      "\n",
      "<!-- 폴리텍과정찾기 popup -->\n",
      "\n",
      "\t\t\t<h2>나에게 맞는<br>폴리텍과정찾기</h2>\n",
      "\n",
      "\t\t\t\t<span class=\"placeholder\">나에게 맞는 폴리텍과정 찾기\n",
      "\n",
      "<!-- // 폴리텍과정찾기 popup -->\n",
      "\n"
     ]
    }
   ],
   "source": [
    "from urllib.request import urlopen\n",
    "\n",
    "with urlopen('http://www.kopo.ac.kr/') as response:\n",
    "    for line in response:\n",
    "        line = line.decode('utf-8') # 한글 처리\n",
    "        if \"폴리텍\" in line:\n",
    "            print(line)"
   ]
  },
  {
   "cell_type": "code",
   "execution_count": null,
   "id": "116bd51c",
   "metadata": {},
   "outputs": [],
   "source": []
  }
 ],
 "metadata": {
  "kernelspec": {
   "display_name": "Python 3 (ipykernel)",
   "language": "python",
   "name": "python3"
  },
  "language_info": {
   "codemirror_mode": {
    "name": "ipython",
    "version": 3
   },
   "file_extension": ".py",
   "mimetype": "text/x-python",
   "name": "python",
   "nbconvert_exporter": "python",
   "pygments_lexer": "ipython3",
   "version": "3.9.7"
  }
 },
 "nbformat": 4,
 "nbformat_minor": 5
}

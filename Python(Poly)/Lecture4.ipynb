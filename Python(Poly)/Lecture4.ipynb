{
 "cells": [
  {
   "cell_type": "code",
   "execution_count": 5,
   "id": "ac894f7e",
   "metadata": {},
   "outputs": [],
   "source": [
    "#단순 대입 연산자\n",
    "# 변수의 값을 집어넣는 형태\n",
    "# 변수 = 값, 변수 = 수식의 형태로 사용함\n",
    "# 수식 = 변수는 불가능함"
   ]
  },
  {
   "cell_type": "code",
   "execution_count": 6,
   "id": "ad453211",
   "metadata": {},
   "outputs": [
    {
     "data": {
      "text/plain": [
       "(3, 4, 2859)"
      ]
     },
     "execution_count": 6,
     "metadata": {},
     "output_type": "execute_result"
    }
   ],
   "source": [
    "a = 3\n",
    "b = 4\n",
    "c= 123 + 456 * 6\n",
    "a, b, c"
   ]
  },
  {
   "cell_type": "code",
   "execution_count": 10,
   "id": "a13666c2",
   "metadata": {},
   "outputs": [
    {
     "ename": "SyntaxError",
     "evalue": "cannot assign to operator (3858233543.py, line 2)",
     "output_type": "error",
     "traceback": [
      "\u001b[1;36m  Cell \u001b[1;32mIn[10], line 2\u001b[1;36m\u001b[0m\n\u001b[1;33m    a + b = c\u001b[0m\n\u001b[1;37m    ^\u001b[0m\n\u001b[1;31mSyntaxError\u001b[0m\u001b[1;31m:\u001b[0m cannot assign to operator\n"
     ]
    }
   ],
   "source": [
    "# 수식 = 변수는 불가능\n",
    "a + b = c"
   ]
  },
  {
   "cell_type": "code",
   "execution_count": 9,
   "id": "b616fd92",
   "metadata": {},
   "outputs": [
    {
     "ename": "SyntaxError",
     "evalue": "cannot assign to operator (3339117833.py, line 2)",
     "output_type": "error",
     "traceback": [
      "\u001b[1;36m  Cell \u001b[1;32mIn[9], line 2\u001b[1;36m\u001b[0m\n\u001b[1;33m    123 + 456 = a\u001b[0m\n\u001b[1;37m    ^\u001b[0m\n\u001b[1;31mSyntaxError\u001b[0m\u001b[1;31m:\u001b[0m cannot assign to operator\n"
     ]
    }
   ],
   "source": [
    "# 수식 = 변수는 불가능\n",
    "123 + 456 = a"
   ]
  },
  {
   "cell_type": "code",
   "execution_count": 12,
   "id": "d76547ed",
   "metadata": {},
   "outputs": [
    {
     "ename": "TypeError",
     "evalue": "unsupported operand type(s) for +: 'int' and 'str'",
     "output_type": "error",
     "traceback": [
      "\u001b[1;31m---------------------------------------------------------------------------\u001b[0m",
      "\u001b[1;31mTypeError\u001b[0m                                 Traceback (most recent call last)",
      "Cell \u001b[1;32mIn[12], line 6\u001b[0m\n\u001b[0;32m      1\u001b[0m \u001b[38;5;66;03m#단순 대입 연산자\u001b[39;00m\n\u001b[0;32m      2\u001b[0m \u001b[38;5;66;03m# 변수의 값을 집어넣는 순간 변수의 자료형이 결정됨\u001b[39;00m\n\u001b[0;32m      3\u001b[0m \u001b[38;5;66;03m# 자료형이 결정된 이후 자료형 형태로 사용하여야함\u001b[39;00m\n\u001b[0;32m      4\u001b[0m \u001b[38;5;66;03m# 다시 다른 자료형을 대입 시 자료형이 변경됨\u001b[39;00m\n\u001b[0;32m      5\u001b[0m a \u001b[38;5;241m=\u001b[39m \u001b[38;5;241m1\u001b[39m\n\u001b[1;32m----> 6\u001b[0m a \u001b[38;5;241m=\u001b[39m \u001b[43ma\u001b[49m\u001b[43m \u001b[49m\u001b[38;5;241;43m+\u001b[39;49m\u001b[43m \u001b[49m\u001b[38;5;124;43m\"\u001b[39;49m\u001b[38;5;124;43m안녕\u001b[39;49m\u001b[38;5;124;43m\"\u001b[39;49m\n\u001b[0;32m      7\u001b[0m \u001b[38;5;66;03m# a는 정수형이고 거기에 문자열을 추가하기 때문에 오류 발생\u001b[39;00m\n",
      "\u001b[1;31mTypeError\u001b[0m: unsupported operand type(s) for +: 'int' and 'str'"
     ]
    }
   ],
   "source": [
    "#단순 대입 연산자\n",
    "# 변수의 값을 집어넣는 순간 변수의 자료형이 결정됨\n",
    "# 자료형이 결정된 이후 자료형 형태로 사용하여야함\n",
    "# 다시 다른 자료형을 대입 시 자료형이 변경됨\n",
    "a = 1\n",
    "a = a + \"안녕\"\n",
    "# a는 정수형이고 거기에 문자열을 추가하기 때문에 오류 발생"
   ]
  },
  {
   "cell_type": "code",
   "execution_count": 15,
   "id": "3db41f10",
   "metadata": {},
   "outputs": [
    {
     "data": {
      "text/plain": [
       "'abc안녕'"
      ]
     },
     "execution_count": 15,
     "metadata": {},
     "output_type": "execute_result"
    }
   ],
   "source": [
    "# a는 문자열이고 \"안녕\"이라는 문자열을 추가하기 때문에\n",
    "# abc에 안녕이 추가되서 저장된다.\n",
    "a = \"abc\"\n",
    "a = a + \"안녕\"\n",
    "a"
   ]
  },
  {
   "cell_type": "code",
   "execution_count": 16,
   "id": "2d0c655a",
   "metadata": {},
   "outputs": [
    {
     "data": {
      "text/plain": [
       "(1, 2)"
      ]
     },
     "execution_count": 16,
     "metadata": {},
     "output_type": "execute_result"
    }
   ],
   "source": [
    "# a, b = b, a 로 a,b변수의 값을 서로 바꿀수 있음\n",
    "a = 1\n",
    "b = 2\n",
    "a, b"
   ]
  },
  {
   "cell_type": "code",
   "execution_count": 19,
   "id": "a0b104f1",
   "metadata": {},
   "outputs": [
    {
     "data": {
      "text/plain": [
       "(2, 1)"
      ]
     },
     "execution_count": 19,
     "metadata": {},
     "output_type": "execute_result"
    }
   ],
   "source": [
    "# a,b = b,a로 a,b 변수의 값을 서로 바꾸는 과정\n",
    "a,b=b,a\n",
    "a,b"
   ]
  },
  {
   "cell_type": "code",
   "execution_count": 20,
   "id": "660d3818",
   "metadata": {},
   "outputs": [
    {
     "data": {
      "text/plain": [
       "(1, 2, '안녕', '안녕', '하셔요', 3, 4)"
      ]
     },
     "execution_count": 20,
     "metadata": {},
     "output_type": "execute_result"
    }
   ],
   "source": [
    "#여러 변수의 값을 한번에 대입할 수 있음\n",
    "a,b,c,d,e,f = 1,2,\"안녕\",\"하셔요\",3,4\n",
    "a,b,c,c,d,e,f"
   ]
  },
  {
   "cell_type": "code",
   "execution_count": null,
   "id": "f5ae309b",
   "metadata": {},
   "outputs": [],
   "source": []
  },
  {
   "cell_type": "code",
   "execution_count": 22,
   "id": "019cfd44",
   "metadata": {},
   "outputs": [
    {
     "data": {
      "text/plain": [
       "(1, 1)"
      ]
     },
     "execution_count": 22,
     "metadata": {},
     "output_type": "execute_result"
    }
   ],
   "source": [
    "# 복합형태 대입 연산자\n",
    "# 단순 변수는 값을 대입하는 형태로 이해 가능하나,\n",
    "# 컬렉션의 경우 같은 변수를 공유하는 것으로 이해하여야함\n",
    "a = b = 1\n",
    "a,b"
   ]
  },
  {
   "cell_type": "code",
   "execution_count": 23,
   "id": "2a7abe61",
   "metadata": {},
   "outputs": [
    {
     "data": {
      "text/plain": [
       "(1, 2)"
      ]
     },
     "execution_count": 23,
     "metadata": {},
     "output_type": "execute_result"
    }
   ],
   "source": [
    "b = 2\n",
    "a, b"
   ]
  },
  {
   "cell_type": "code",
   "execution_count": 24,
   "id": "242a5a00",
   "metadata": {},
   "outputs": [
    {
     "data": {
      "text/plain": [
       "([1, 2, 3], [1, 2, 3])"
      ]
     },
     "execution_count": 24,
     "metadata": {},
     "output_type": "execute_result"
    }
   ],
   "source": [
    "a = b = [1,2,3]\n",
    "a,b"
   ]
  },
  {
   "cell_type": "code",
   "execution_count": 25,
   "id": "62df412a",
   "metadata": {},
   "outputs": [
    {
     "data": {
      "text/plain": [
       "([1, 4, 3], [1, 4, 3])"
      ]
     },
     "execution_count": 25,
     "metadata": {},
     "output_type": "execute_result"
    }
   ],
   "source": [
    "a[1] = 4\n",
    "a,b"
   ]
  },
  {
   "cell_type": "code",
   "execution_count": 26,
   "id": "b5c60f41",
   "metadata": {},
   "outputs": [
    {
     "data": {
      "text/plain": [
       "([1, 2, 3, 4, 5], [1, 2, 3, 4, 5])"
      ]
     },
     "execution_count": 26,
     "metadata": {},
     "output_type": "execute_result"
    }
   ],
   "source": [
    "# 컬렉션에서 값을 복사하는 경우는 아래와 같이 사용\n",
    "a = [1,2,3,4,5]\n",
    "b = a[:]\n",
    "a,b"
   ]
  },
  {
   "cell_type": "code",
   "execution_count": 27,
   "id": "b540094e",
   "metadata": {},
   "outputs": [
    {
     "data": {
      "text/plain": [
       "([1, 2, 5, 4, 5], [1, 2, 3, 4, 5])"
      ]
     },
     "execution_count": 27,
     "metadata": {},
     "output_type": "execute_result"
    }
   ],
   "source": [
    "a[2] = 5\n",
    "a, b"
   ]
  },
  {
   "cell_type": "code",
   "execution_count": 28,
   "id": "9148d919",
   "metadata": {},
   "outputs": [
    {
     "data": {
      "text/plain": [
       "29"
      ]
     },
     "execution_count": 28,
     "metadata": {},
     "output_type": "execute_result"
    }
   ],
   "source": [
    "import sys\n",
    "a = 123\n",
    "sys.getrefcount(123)"
   ]
  },
  {
   "cell_type": "code",
   "execution_count": 29,
   "id": "42d41f2d",
   "metadata": {},
   "outputs": [
    {
     "data": {
      "text/plain": [
       "30"
      ]
     },
     "execution_count": 29,
     "metadata": {},
     "output_type": "execute_result"
    }
   ],
   "source": [
    "b = 123\n",
    "sys.getrefcount(123)"
   ]
  },
  {
   "cell_type": "code",
   "execution_count": 30,
   "id": "2b289792",
   "metadata": {},
   "outputs": [
    {
     "data": {
      "text/plain": [
       "31"
      ]
     },
     "execution_count": 30,
     "metadata": {},
     "output_type": "execute_result"
    }
   ],
   "source": [
    "c = 123\n",
    "sys.getrefcount(123)"
   ]
  },
  {
   "cell_type": "code",
   "execution_count": null,
   "id": "17e3221e",
   "metadata": {},
   "outputs": [],
   "source": []
  },
  {
   "cell_type": "code",
   "execution_count": 31,
   "id": "e928a445",
   "metadata": {},
   "outputs": [],
   "source": [
    "# 산술 연산자"
   ]
  },
  {
   "cell_type": "code",
   "execution_count": 32,
   "id": "901f649a",
   "metadata": {},
   "outputs": [
    {
     "data": {
      "text/plain": [
       "2.5"
      ]
     },
     "execution_count": 32,
     "metadata": {},
     "output_type": "execute_result"
    }
   ],
   "source": [
    "# 일반 산술 연산자\n",
    "# 사칙연산 순으로 계산\n",
    "1 + 2 * 3 / 4"
   ]
  },
  {
   "cell_type": "code",
   "execution_count": 36,
   "id": "4b4a0b4a",
   "metadata": {},
   "outputs": [
    {
     "data": {
      "text/plain": [
       "8"
      ]
     },
     "execution_count": 36,
     "metadata": {},
     "output_type": "execute_result"
    }
   ],
   "source": [
    "# a ** b ---> a ^ b\n",
    "2 ** 3"
   ]
  },
  {
   "cell_type": "code",
   "execution_count": 37,
   "id": "ed1d7985",
   "metadata": {},
   "outputs": [
    {
     "data": {
      "text/plain": [
       "3.3333333333333335"
      ]
     },
     "execution_count": 37,
     "metadata": {},
     "output_type": "execute_result"
    }
   ],
   "source": [
    "10 / 3"
   ]
  },
  {
   "cell_type": "code",
   "execution_count": 38,
   "id": "32aa18c7",
   "metadata": {},
   "outputs": [
    {
     "data": {
      "text/plain": [
       "1.23456789012e+23"
      ]
     },
     "execution_count": 38,
     "metadata": {},
     "output_type": "execute_result"
    }
   ],
   "source": [
    "#10의 n승은 e의n으로 표현한다\n",
    "1e12*123456789012"
   ]
  },
  {
   "cell_type": "code",
   "execution_count": 39,
   "id": "e7f2b91a",
   "metadata": {},
   "outputs": [
    {
     "data": {
      "text/plain": [
       "(124+14j)"
      ]
     },
     "execution_count": 39,
     "metadata": {},
     "output_type": "execute_result"
    }
   ],
   "source": [
    "a = 1+ 2j\n",
    "a + (123 + 12j)"
   ]
  },
  {
   "cell_type": "code",
   "execution_count": 40,
   "id": "66eb76c6",
   "metadata": {},
   "outputs": [],
   "source": [
    "# 정수형 연산자\n",
    "# //(정수형 나눗셈), %(나머지)"
   ]
  },
  {
   "cell_type": "code",
   "execution_count": 43,
   "id": "5570469e",
   "metadata": {},
   "outputs": [
    {
     "data": {
      "text/plain": [
       "2.5"
      ]
     },
     "execution_count": 43,
     "metadata": {},
     "output_type": "execute_result"
    }
   ],
   "source": [
    "# 일반 산술 연산자\n",
    "# 실수형 계산이 기본이나 정수형 연사자를 사용하면 정수형 연산임\n",
    "5 / 2"
   ]
  },
  {
   "cell_type": "code",
   "execution_count": 44,
   "id": "85c7ba98",
   "metadata": {},
   "outputs": [
    {
     "data": {
      "text/plain": [
       "2"
      ]
     },
     "execution_count": 44,
     "metadata": {},
     "output_type": "execute_result"
    }
   ],
   "source": [
    "5 // 2"
   ]
  },
  {
   "cell_type": "code",
   "execution_count": 45,
   "id": "d0e43873",
   "metadata": {},
   "outputs": [
    {
     "data": {
      "text/plain": [
       "1"
      ]
     },
     "execution_count": 45,
     "metadata": {},
     "output_type": "execute_result"
    }
   ],
   "source": [
    "5 % 2"
   ]
  },
  {
   "cell_type": "code",
   "execution_count": 46,
   "id": "09e05070",
   "metadata": {},
   "outputs": [],
   "source": [
    "# 복합연산자"
   ]
  },
  {
   "cell_type": "code",
   "execution_count": 47,
   "id": "32e0abaf",
   "metadata": {},
   "outputs": [
    {
     "name": "stdout",
     "output_type": "stream",
     "text": [
      "2\n"
     ]
    }
   ],
   "source": [
    "a = 1\n",
    "a = a + 1\n",
    "print(a)"
   ]
  },
  {
   "cell_type": "code",
   "execution_count": 48,
   "id": "2e3e169e",
   "metadata": {},
   "outputs": [
    {
     "name": "stdout",
     "output_type": "stream",
     "text": [
      "2\n"
     ]
    }
   ],
   "source": [
    "# 누적합\n",
    "a = 1\n",
    "a += 1\n",
    "print(a)"
   ]
  },
  {
   "cell_type": "code",
   "execution_count": 49,
   "id": "c413cd55",
   "metadata": {},
   "outputs": [
    {
     "data": {
      "text/plain": [
       "4"
      ]
     },
     "execution_count": 49,
     "metadata": {},
     "output_type": "execute_result"
    }
   ],
   "source": [
    "# 누적곱\n",
    "a *= 2\n",
    "a"
   ]
  },
  {
   "cell_type": "code",
   "execution_count": 53,
   "id": "759a1025",
   "metadata": {},
   "outputs": [
    {
     "data": {
      "text/plain": [
       "0"
      ]
     },
     "execution_count": 53,
     "metadata": {},
     "output_type": "execute_result"
    }
   ],
   "source": [
    "# 누적차\n",
    "a = 1\n",
    "a -=1\n",
    "a"
   ]
  },
  {
   "cell_type": "code",
   "execution_count": 54,
   "id": "285a4436",
   "metadata": {},
   "outputs": [
    {
     "data": {
      "text/plain": [
       "-1"
      ]
     },
     "execution_count": 54,
     "metadata": {},
     "output_type": "execute_result"
    }
   ],
   "source": [
    "a -= 1\n",
    "a"
   ]
  },
  {
   "cell_type": "code",
   "execution_count": 55,
   "id": "d12d342a",
   "metadata": {},
   "outputs": [
    {
     "ename": "SyntaxError",
     "evalue": "invalid syntax (3983076789.py, line 5)",
     "output_type": "error",
     "traceback": [
      "\u001b[1;36m  Cell \u001b[1;32mIn[55], line 5\u001b[1;36m\u001b[0m\n\u001b[1;33m    a++\u001b[0m\n\u001b[1;37m       ^\u001b[0m\n\u001b[1;31mSyntaxError\u001b[0m\u001b[1;31m:\u001b[0m invalid syntax\n"
     ]
    }
   ],
   "source": [
    "# 주의사항\n",
    "# C, Java에 있는 1씩 더하거나 빼는 a++, a--는 사용할 수 없음\n",
    "# 순서를 바꾼 =+, =-는 양수, 음수를 저장하는 경우가됨\n",
    "a = 1\n",
    "a++"
   ]
  },
  {
   "cell_type": "code",
   "execution_count": 56,
   "id": "22811113",
   "metadata": {},
   "outputs": [
    {
     "ename": "SyntaxError",
     "evalue": "invalid syntax (1562500846.py, line 1)",
     "output_type": "error",
     "traceback": [
      "\u001b[1;36m  Cell \u001b[1;32mIn[56], line 1\u001b[1;36m\u001b[0m\n\u001b[1;33m    a--\u001b[0m\n\u001b[1;37m       ^\u001b[0m\n\u001b[1;31mSyntaxError\u001b[0m\u001b[1;31m:\u001b[0m invalid syntax\n"
     ]
    }
   ],
   "source": [
    "a--"
   ]
  },
  {
   "cell_type": "code",
   "execution_count": 58,
   "id": "b6826507",
   "metadata": {},
   "outputs": [
    {
     "data": {
      "text/plain": [
       "1"
      ]
     },
     "execution_count": 58,
     "metadata": {},
     "output_type": "execute_result"
    }
   ],
   "source": [
    "# +=이 아니라 순서를 바꾼 =+ 는 1을 더해주는게 아니라 양수1이저장\n",
    "a =+1\n",
    "a"
   ]
  },
  {
   "cell_type": "code",
   "execution_count": 59,
   "id": "39c4f26a",
   "metadata": {},
   "outputs": [
    {
     "data": {
      "text/plain": [
       "-1"
      ]
     },
     "execution_count": 59,
     "metadata": {},
     "output_type": "execute_result"
    }
   ],
   "source": [
    "# -=이 아니라 순서를 바꾼 =- 는 1을 빼주는게 아니라 음수1이저장\n",
    "a =-1\n",
    "a"
   ]
  },
  {
   "cell_type": "code",
   "execution_count": 60,
   "id": "b74bdfc8",
   "metadata": {},
   "outputs": [],
   "source": [
    "# 타입 케스팅"
   ]
  },
  {
   "cell_type": "code",
   "execution_count": 62,
   "id": "ccd3cfd8",
   "metadata": {},
   "outputs": [
    {
     "data": {
      "text/plain": [
       "'멍멍이고양이'"
      ]
     },
     "execution_count": 62,
     "metadata": {},
     "output_type": "execute_result"
    }
   ],
   "source": [
    "# 문자형 변환\n",
    "# 변수의 형태가 다르면 서로 연산처리를 할 수 없음\n",
    "# 이때는 변수의 형 변환처리를 하여야함\n",
    "# 문자형 변수의 덧셈은 문자열을 붙이는 것으로 처리됨\n",
    "a = \"멍멍이\"\n",
    "b = \"고양이\"\n",
    "a + b"
   ]
  },
  {
   "cell_type": "code",
   "execution_count": 63,
   "id": "9399115d",
   "metadata": {},
   "outputs": [
    {
     "data": {
      "text/plain": [
       "'멍멍이멍멍이멍멍이고양이고양이'"
      ]
     },
     "execution_count": 63,
     "metadata": {},
     "output_type": "execute_result"
    }
   ],
   "source": [
    "a * 3 + b * 2"
   ]
  },
  {
   "cell_type": "code",
   "execution_count": 64,
   "id": "af97a082",
   "metadata": {},
   "outputs": [
    {
     "data": {
      "text/plain": [
       "'--------------------'"
      ]
     },
     "execution_count": 64,
     "metadata": {},
     "output_type": "execute_result"
    }
   ],
   "source": [
    "\"-\" * 20"
   ]
  },
  {
   "cell_type": "code",
   "execution_count": 66,
   "id": "5bce6c47",
   "metadata": {},
   "outputs": [
    {
     "ename": "TypeError",
     "evalue": "can only concatenate str (not \"int\") to str",
     "output_type": "error",
     "traceback": [
      "\u001b[1;31m---------------------------------------------------------------------------\u001b[0m",
      "\u001b[1;31mTypeError\u001b[0m                                 Traceback (most recent call last)",
      "Cell \u001b[1;32mIn[66], line 6\u001b[0m\n\u001b[0;32m      1\u001b[0m \u001b[38;5;66;03m# 문자형 변환\u001b[39;00m\n\u001b[0;32m      2\u001b[0m \u001b[38;5;66;03m# 문자형과 숫자혀으이 덧셈은 에러이며,\u001b[39;00m\n\u001b[0;32m      3\u001b[0m \u001b[38;5;66;03m# 이때 숫자형을 문자형으로 변환하여야 함\u001b[39;00m\n\u001b[0;32m      4\u001b[0m \u001b[38;5;66;03m# 숫자형의 문자형으로 변환할 때는 str()함수를 사용함\u001b[39;00m\n\u001b[0;32m      5\u001b[0m a \u001b[38;5;241m=\u001b[39m \u001b[38;5;241m1\u001b[39m\n\u001b[1;32m----> 6\u001b[0m b \u001b[38;5;241m=\u001b[39m \u001b[38;5;124;43m\"\u001b[39;49m\u001b[38;5;124;43m강아지\u001b[39;49m\u001b[38;5;124;43m\"\u001b[39;49m\u001b[43m \u001b[49m\u001b[38;5;241;43m+\u001b[39;49m\u001b[43m \u001b[49m\u001b[43ma\u001b[49m \u001b[38;5;241m+\u001b[39m \u001b[38;5;124m\"\u001b[39m\u001b[38;5;124m마리\u001b[39m\u001b[38;5;124m\"\u001b[39m\n",
      "\u001b[1;31mTypeError\u001b[0m: can only concatenate str (not \"int\") to str"
     ]
    }
   ],
   "source": [
    "# 문자형 변환\n",
    "# 문자형과 숫자혀으이 덧셈은 에러이며,\n",
    "# 이때 숫자형을 문자형으로 변환하여야 함\n",
    "# 숫자형의 문자형으로 변환할 때는 str()함수를 사용함\n",
    "a = 1\n",
    "b = \"강아지\" + a + \"마리\"\n",
    "\n",
    "# 문자열과 실수형이 합쳐져서 에러가 발생"
   ]
  },
  {
   "cell_type": "code",
   "execution_count": 67,
   "id": "0b053184",
   "metadata": {},
   "outputs": [
    {
     "data": {
      "text/plain": [
       "'강아지1마리'"
      ]
     },
     "execution_count": 67,
     "metadata": {},
     "output_type": "execute_result"
    }
   ],
   "source": [
    "# 문자열과 실수형을 합칠때 실수형을 문자형으로 변환해줘야함\n",
    "b = \"강아지\" + str(a) + \"마리\"\n",
    "b"
   ]
  },
  {
   "cell_type": "code",
   "execution_count": 68,
   "id": "8107de95",
   "metadata": {},
   "outputs": [
    {
     "data": {
      "text/plain": [
       "44032"
      ]
     },
     "execution_count": 68,
     "metadata": {},
     "output_type": "execute_result"
    }
   ],
   "source": [
    "# 문자형을 다루는 ord()함수는 문자의 내부코드값을 반환\n",
    "# chr함수는 내부코드값을 가지고 해당 글자를 반환\n",
    "ord(\"가\")"
   ]
  },
  {
   "cell_type": "code",
   "execution_count": 70,
   "id": "7737657b",
   "metadata": {},
   "outputs": [
    {
     "data": {
      "text/plain": [
       "'0x61'"
      ]
     },
     "execution_count": 70,
     "metadata": {},
     "output_type": "execute_result"
    }
   ],
   "source": [
    "hex(ord(\"a\"))"
   ]
  },
  {
   "cell_type": "code",
   "execution_count": 78,
   "id": "03f2eef0",
   "metadata": {
    "scrolled": true
   },
   "outputs": [
    {
     "name": "stdout",
     "output_type": "stream",
     "text": [
      "0x61 = a , 0x62 = b , 0x63 = c , 0x64 = d , 0x65 = e , 0x66 = f , 0x67 = g , 0x68 = h , 0x69 = i , 0x6a = j , 0x6b = k , 0x6c = l , 0x6d = m , 0x6e = n , 0x6f = o , 0x70 = p , 0x71 = q , 0x72 = r , 0x73 = s , 0x74 = t , 0x75 = u , 0x76 = v , 0x77 = w , 0x78 = x , 0x79 = y , 0x7a = z , "
     ]
    }
   ],
   "source": [
    "for c in range (ord('a'), ord('z') + 1):\n",
    "    print(hex(c), \"=\", chr(c), \", \", end = \"\")"
   ]
  },
  {
   "cell_type": "code",
   "execution_count": null,
   "id": "5331d5ad",
   "metadata": {},
   "outputs": [],
   "source": []
  },
  {
   "cell_type": "code",
   "execution_count": 79,
   "id": "3b72db45",
   "metadata": {},
   "outputs": [],
   "source": [
    "# 숫자형 변환"
   ]
  },
  {
   "cell_type": "code",
   "execution_count": 80,
   "id": "b51ced2e",
   "metadata": {},
   "outputs": [
    {
     "ename": "TypeError",
     "evalue": "can only concatenate str (not \"int\") to str",
     "output_type": "error",
     "traceback": [
      "\u001b[1;31m---------------------------------------------------------------------------\u001b[0m",
      "\u001b[1;31mTypeError\u001b[0m                                 Traceback (most recent call last)",
      "Cell \u001b[1;32mIn[80], line 4\u001b[0m\n\u001b[0;32m      1\u001b[0m \u001b[38;5;66;03m# 문자형을 숫자형으로 바꾸는 경우 int()함수를 사용함\u001b[39;00m\n\u001b[0;32m      2\u001b[0m \u001b[38;5;66;03m# 동일한 이름으로 실수형을 정수형으로 바꾸는 경우 int()함수를 사용함\u001b[39;00m\n\u001b[0;32m      3\u001b[0m a \u001b[38;5;241m=\u001b[39m \u001b[38;5;124m\"\u001b[39m\u001b[38;5;124m123\u001b[39m\u001b[38;5;124m\"\u001b[39m\n\u001b[1;32m----> 4\u001b[0m \u001b[43ma\u001b[49m\u001b[38;5;241;43m+\u001b[39;49m\u001b[38;5;241;43m1\u001b[39;49m\n\u001b[0;32m      5\u001b[0m \u001b[38;5;66;03m# a를 \"123\" 문자열로 저장하였기 때문에 +1은 오류가 발생\u001b[39;00m\n",
      "\u001b[1;31mTypeError\u001b[0m: can only concatenate str (not \"int\") to str"
     ]
    }
   ],
   "source": [
    "# 문자형을 숫자형으로 바꾸는 경우 int()함수를 사용함\n",
    "# 동일한 이름으로 실수형을 정수형으로 바꾸는 경우 int()함수를 사용함\n",
    "a = \"123\"\n",
    "a+1\n",
    "# a를 \"123\" 문자열로 저장하였기 때문에 +1은 오류가 발생"
   ]
  },
  {
   "cell_type": "code",
   "execution_count": 74,
   "id": "e629f23e",
   "metadata": {},
   "outputs": [
    {
     "data": {
      "text/plain": [
       "124"
      ]
     },
     "execution_count": 74,
     "metadata": {},
     "output_type": "execute_result"
    }
   ],
   "source": [
    "# 123을 정수형으로 변환하고 +1하면 정수형 덧셈이 된다\n",
    "a = \"123\"\n",
    "int(a) + 1"
   ]
  },
  {
   "cell_type": "code",
   "execution_count": 76,
   "id": "5389510c",
   "metadata": {},
   "outputs": [
    {
     "data": {
      "text/plain": [
       "12"
      ]
     },
     "execution_count": 76,
     "metadata": {},
     "output_type": "execute_result"
    }
   ],
   "source": [
    "# 실수형 a를 정수형으로 변환하면 내림처리\n",
    "a = 12.3\n",
    "int(a)"
   ]
  },
  {
   "cell_type": "code",
   "execution_count": 77,
   "id": "e8875f57",
   "metadata": {},
   "outputs": [],
   "source": [
    "# 문자형  -- 숫자형으로 바꾸는 경우 float() , int()를 사용함\n",
    "# 정수형  -- 연산시 하나라도 실수형을 만나면 실수형의 연산을 수행함\n",
    "# 실수형  -- 내용을 정수형으로 형변환시 소수점 이하 자릿수는 버림"
   ]
  },
  {
   "cell_type": "code",
   "execution_count": 82,
   "id": "ec16ae27",
   "metadata": {},
   "outputs": [
    {
     "ename": "ValueError",
     "evalue": "invalid literal for int() with base 10: '12.3'",
     "output_type": "error",
     "traceback": [
      "\u001b[1;31m---------------------------------------------------------------------------\u001b[0m",
      "\u001b[1;31mValueError\u001b[0m                                Traceback (most recent call last)",
      "Cell \u001b[1;32mIn[82], line 3\u001b[0m\n\u001b[0;32m      1\u001b[0m \u001b[38;5;66;03m# float()\u001b[39;00m\n\u001b[0;32m      2\u001b[0m a \u001b[38;5;241m=\u001b[39m \u001b[38;5;124m\"\u001b[39m\u001b[38;5;124m12.3\u001b[39m\u001b[38;5;124m\"\u001b[39m\n\u001b[1;32m----> 3\u001b[0m \u001b[38;5;28;43mint\u001b[39;49m\u001b[43m(\u001b[49m\u001b[43ma\u001b[49m\u001b[43m)\u001b[49m\n\u001b[0;32m      5\u001b[0m \u001b[38;5;66;03m#문자형을 정수형으로 바꾸려고 하지만\u001b[39;00m\n\u001b[0;32m      6\u001b[0m \u001b[38;5;66;03m# a는 실수형이기 때문에 바꾸지 못하고 오류가 발생\u001b[39;00m\n",
      "\u001b[1;31mValueError\u001b[0m: invalid literal for int() with base 10: '12.3'"
     ]
    }
   ],
   "source": [
    "# float()\n",
    "a = \"12.3\"\n",
    "int(a)\n",
    "\n",
    "#문자형을 정수형으로 바꾸려고 하지만\n",
    "# a는 실수형이기 때문에 바꾸지 못하고 오류가 발생"
   ]
  },
  {
   "cell_type": "code",
   "execution_count": 83,
   "id": "f734c9b4",
   "metadata": {},
   "outputs": [
    {
     "data": {
      "text/plain": [
       "12.3"
      ]
     },
     "execution_count": 83,
     "metadata": {},
     "output_type": "execute_result"
    }
   ],
   "source": [
    "# 문자형 --> 실수형 변환\n",
    "float(a)"
   ]
  },
  {
   "cell_type": "code",
   "execution_count": 85,
   "id": "3257f4de",
   "metadata": {},
   "outputs": [
    {
     "data": {
      "text/plain": [
       "14.1"
      ]
     },
     "execution_count": 85,
     "metadata": {},
     "output_type": "execute_result"
    }
   ],
   "source": [
    "# 정수형은 연산중에 하나라도 실수형을 만나면 실수형 계산으로 자동으로 바뀐다\n",
    "a = 1.1\n",
    "1 + a + 12"
   ]
  },
  {
   "cell_type": "code",
   "execution_count": 86,
   "id": "577d62de",
   "metadata": {},
   "outputs": [
    {
     "data": {
      "text/plain": [
       "14"
      ]
     },
     "execution_count": 86,
     "metadata": {},
     "output_type": "execute_result"
    }
   ],
   "source": [
    "# 실수형 a를 정수형으로 변환후 계산\n",
    "# 모두다 정수형이기때문에 정수형 연산이 실행된다\n",
    "1 + int(a) + 12"
   ]
  },
  {
   "cell_type": "code",
   "execution_count": 87,
   "id": "fabf2f39",
   "metadata": {},
   "outputs": [],
   "source": [
    "# 올림, 버림, 반올림\n",
    "# int() 함수는 소수점 이하의 숫자를 버림\n",
    "# 반올림 함수는 roind()를 사용함\n",
    "\n",
    "# 양수 --- 소수점 이하 해당 자리에서 반올림함\n",
    "# 음수 --- 소수점 이상 해당 자리에서 반올림함"
   ]
  },
  {
   "cell_type": "code",
   "execution_count": 88,
   "id": "7164fb24",
   "metadata": {},
   "outputs": [
    {
     "data": {
      "text/plain": [
       "3"
      ]
     },
     "execution_count": 88,
     "metadata": {},
     "output_type": "execute_result"
    }
   ],
   "source": [
    "# int()함수는 소수점 이하의 숫자버림\n",
    "int(3.14)"
   ]
  },
  {
   "cell_type": "code",
   "execution_count": 93,
   "id": "5a97a5a2",
   "metadata": {},
   "outputs": [],
   "source": [
    "# round() 함수는 반올림\n",
    "# round(a,b)는 a를 소수점 b의자리까지 반올림\n",
    "# b에 음수가 들어가면 소수점이 아닌 10의자리수로 반올림 진행|"
   ]
  },
  {
   "cell_type": "code",
   "execution_count": 92,
   "id": "6e163ea0",
   "metadata": {},
   "outputs": [
    {
     "name": "stdout",
     "output_type": "stream",
     "text": [
      "3\n",
      "3\n",
      "3.1\n",
      "120000\n"
     ]
    }
   ],
   "source": [
    "# 버림 계산 예시\n",
    "print(int(3.14))\n",
    "print(round(3.14))\n",
    "print(round(3.14,1))\n",
    "print(round(123456,-4))"
   ]
  },
  {
   "cell_type": "code",
   "execution_count": 95,
   "id": "9dd3a586",
   "metadata": {},
   "outputs": [
    {
     "data": {
      "text/plain": [
       "1235000"
      ]
     },
     "execution_count": 95,
     "metadata": {},
     "output_type": "execute_result"
    }
   ],
   "source": [
    "#올림 계산 예시\n",
    "a = 1234567\n",
    "if(a%1000 != 0):\n",
    "    a = int(a/1000) * 1000 + 1000\n",
    "else:\n",
    "    a = int(a/1000) * 1000\n",
    "a\n",
    "\n",
    "# 1000으로 나누어 떨어지지 않으면 1000으로 버림을 진행하고 +1000을 해주어서\n",
    "# 올림처리를 진행\n",
    "# 만약에 1000으로 나누어 떨어지면 올림할 숫자가 없기때문에 그대로 출력"
   ]
  },
  {
   "cell_type": "code",
   "execution_count": null,
   "id": "1bc50acd",
   "metadata": {},
   "outputs": [],
   "source": []
  }
 ],
 "metadata": {
  "kernelspec": {
   "display_name": "Python 3 (ipykernel)",
   "language": "python",
   "name": "python3"
  },
  "language_info": {
   "codemirror_mode": {
    "name": "ipython",
    "version": 3
   },
   "file_extension": ".py",
   "mimetype": "text/x-python",
   "name": "python",
   "nbconvert_exporter": "python",
   "pygments_lexer": "ipython3",
   "version": "3.8.8rc1"
  }
 },
 "nbformat": 4,
 "nbformat_minor": 5
}

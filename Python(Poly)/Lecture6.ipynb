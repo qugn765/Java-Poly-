{
 "cells": [
  {
   "cell_type": "code",
   "execution_count": 1,
   "id": "33649a13",
   "metadata": {},
   "outputs": [],
   "source": [
    "#반복문"
   ]
  },
  {
   "cell_type": "code",
   "execution_count": 4,
   "id": "718b8be6",
   "metadata": {},
   "outputs": [
    {
     "name": "stdout",
     "output_type": "stream",
     "text": [
      "100\n"
     ]
    }
   ],
   "source": [
    "i = 0\n",
    "while i < 100:\n",
    "    i += 1\n",
    "print(i)"
   ]
  },
  {
   "cell_type": "code",
   "execution_count": 5,
   "id": "a6cb12bb",
   "metadata": {},
   "outputs": [
    {
     "name": "stdout",
     "output_type": "stream",
     "text": [
      "100\n"
     ]
    }
   ],
   "source": [
    "i = 0\n",
    "for i in range(100):\n",
    "    i += 1\n",
    "print(i)"
   ]
  },
  {
   "cell_type": "code",
   "execution_count": null,
   "id": "e332eb45",
   "metadata": {},
   "outputs": [],
   "source": [
    "# while반복문\n",
    "# 명령블록을 해당조건이 만족할 때까지 실행함\n",
    "\"\"\"\n",
    "while 조건 :\n",
    "    명령블록\n",
    "\"\"\""
   ]
  },
  {
   "cell_type": "code",
   "execution_count": 6,
   "id": "770bdd35",
   "metadata": {},
   "outputs": [
    {
     "name": "stdout",
     "output_type": "stream",
     "text": [
      "2\n",
      "3\n",
      "4\n",
      "5\n"
     ]
    }
   ],
   "source": [
    "# while반복문\n",
    "i = 1\n",
    "while i < 5:\n",
    "    i += 1\n",
    "    print(i)"
   ]
  },
  {
   "cell_type": "code",
   "execution_count": 7,
   "id": "05de81a8",
   "metadata": {},
   "outputs": [
    {
     "name": "stdout",
     "output_type": "stream",
     "text": [
      "sum =  5050\n"
     ]
    }
   ],
   "source": [
    "# while반복문\n",
    "# 1부터 100까지의 숫자를 더하기\n",
    "\n",
    "i = 0\n",
    "sum = 0\n",
    "while i < 100:\n",
    "    i += 1\n",
    "    sum = sum + i\n",
    "    \n",
    "print(\"sum = \", sum)"
   ]
  },
  {
   "cell_type": "code",
   "execution_count": 8,
   "id": "d3be1486",
   "metadata": {},
   "outputs": [
    {
     "name": "stdout",
     "output_type": "stream",
     "text": [
      "sum =  5050\n"
     ]
    }
   ],
   "source": [
    "# while 반복문 1\n",
    "i = 0\n",
    "sum = 0\n",
    "while i < 100:\n",
    "    i += 1\n",
    "    sum = sum + i\n",
    "print(\"sum = \", sum)"
   ]
  },
  {
   "cell_type": "code",
   "execution_count": 9,
   "id": "e3a56d1f",
   "metadata": {},
   "outputs": [
    {
     "name": "stdout",
     "output_type": "stream",
     "text": [
      "sum =  4950\n"
     ]
    }
   ],
   "source": [
    "# while 반복문 2\n",
    "i = 0\n",
    "sum = 0\n",
    "while i < 100:\n",
    "    sum = sum + i\n",
    "    i += 1\n",
    "   \n",
    "print(\"sum = \", sum)"
   ]
  },
  {
   "cell_type": "code",
   "execution_count": 10,
   "id": "2d7b26cd",
   "metadata": {},
   "outputs": [
    {
     "name": "stdout",
     "output_type": "stream",
     "text": [
      "sum =  5050\n"
     ]
    }
   ],
   "source": [
    "# while 반복문 3\n",
    "i = 0\n",
    "sum = 0\n",
    "while i < 101:\n",
    "    sum = sum + i\n",
    "    i += 1\n",
    "   \n",
    "print(\"sum = \", sum)"
   ]
  },
  {
   "cell_type": "code",
   "execution_count": null,
   "id": "31425826",
   "metadata": {},
   "outputs": [],
   "source": [
    "# for 반복문\n",
    "# 명령블록에 대하여 컬렉션을 하나씩 대입하여 실행함\n",
    "\"\"\"\n",
    "for 변수 in 컬렉션:\n",
    "    명령블록\n",
    "\"\"\""
   ]
  },
  {
   "cell_type": "code",
   "execution_count": 11,
   "id": "5cbfc2c2",
   "metadata": {},
   "outputs": [],
   "source": [
    "# for 반복문\n",
    "# range()를 사용하여 순차적으로 증가(감소)하는 반복문을 수행함\n",
    "# range(시작, 끝, 증가폭)"
   ]
  },
  {
   "cell_type": "code",
   "execution_count": 12,
   "id": "a16d3a25",
   "metadata": {},
   "outputs": [
    {
     "name": "stdout",
     "output_type": "stream",
     "text": [
      "1 ,2 ,3 ,4 ,5 ,6 ,7 ,8 ,9 ,"
     ]
    }
   ],
   "source": [
    "# for 반복문\n",
    "# 시작과 증가폭은 각각 생략할 수 있음\n",
    "# 기본값  : 시작 = 0, 증가폭 = 1\n",
    "for i in range(1,10,1):\n",
    "    print(i,\",\", end=\"\")"
   ]
  },
  {
   "cell_type": "code",
   "execution_count": 14,
   "id": "2259a542",
   "metadata": {},
   "outputs": [
    {
     "name": "stdout",
     "output_type": "stream",
     "text": [
      "1 ,3 ,5 ,7 ,9 ,"
     ]
    }
   ],
   "source": [
    "# range 사용 사례\n",
    "for i in range(1,10,2):\n",
    "    print(i,\",\", end = \"\")"
   ]
  },
  {
   "cell_type": "code",
   "execution_count": 15,
   "id": "3694a9b5",
   "metadata": {},
   "outputs": [
    {
     "name": "stdout",
     "output_type": "stream",
     "text": [
      "10 ,9 ,8 ,7 ,6 ,5 ,4 ,3 ,2 ,1 ,"
     ]
    }
   ],
   "source": [
    "# range 사용 사례\n",
    "for i in range(10,0,-1):\n",
    "    print(i,\",\", end = \"\")"
   ]
  },
  {
   "cell_type": "code",
   "execution_count": null,
   "id": "7a5e5ae1",
   "metadata": {},
   "outputs": [],
   "source": []
  },
  {
   "cell_type": "code",
   "execution_count": 16,
   "id": "96b957e4",
   "metadata": {},
   "outputs": [],
   "source": [
    "# 제어문\n",
    "# 제어문장을 사용하는경우 \n",
    "#  1. 반복문에서 루프를 탈출하는 경우\n",
    "#  2. 해당문장 아래를 실행하지 않고 다시 루프를 실행할 경우"
   ]
  },
  {
   "cell_type": "code",
   "execution_count": 17,
   "id": "fed9ae36",
   "metadata": {},
   "outputs": [
    {
     "name": "stdout",
     "output_type": "stream",
     "text": [
      "0 ,1 ,2 ,"
     ]
    }
   ],
   "source": [
    "# 1. 반복문에서 루프를 탈출하는 경우\n",
    "for i in range(10):\n",
    "    if(i==3): \n",
    "        break\n",
    "    print(i,\",\",end=\"\")"
   ]
  },
  {
   "cell_type": "code",
   "execution_count": 19,
   "id": "fa765b2f",
   "metadata": {},
   "outputs": [
    {
     "name": "stdout",
     "output_type": "stream",
     "text": [
      "0 ,1 ,2 ,4 ,5 ,6 ,7 ,8 ,9 ,"
     ]
    }
   ],
   "source": [
    "# 2. 해당문장 아래를 실행하지 않고 다시 루프를 실행할 경우\n",
    "for i in range(10):\n",
    "    if(i==3):\n",
    "        continue\n",
    "    print(i,\",\", end=\"\")"
   ]
  },
  {
   "cell_type": "code",
   "execution_count": 20,
   "id": "9e76b0b3",
   "metadata": {},
   "outputs": [
    {
     "name": "stdout",
     "output_type": "stream",
     "text": [
      "i= 100 sum= 5050\n"
     ]
    }
   ],
   "source": [
    "i = 0\n",
    "sum = 0\n",
    "while True:\n",
    "    i += 1\n",
    "    sum += i\n",
    "    if(i==100): break\n",
    "        \n",
    "print(\"i=\",i,\"sum=\", sum)"
   ]
  },
  {
   "cell_type": "code",
   "execution_count": 21,
   "id": "1e5752fa",
   "metadata": {},
   "outputs": [
    {
     "name": "stdout",
     "output_type": "stream",
     "text": [
      "******************************\n",
      "******************************\n",
      "******************************\n",
      "******************************\n"
     ]
    }
   ],
   "source": [
    "# 별을 30씩 찍기, 30번째에는 줄을 바꿔야함\n",
    "# range(0,120)이 아니고 range(1,121)을 한 이유는 i % 30 과연관이 있음\n",
    "for i in range(1,121):\n",
    "    print(\"*\", end=\"\")\n",
    "    if(i%30==0):print()"
   ]
  },
  {
   "cell_type": "code",
   "execution_count": null,
   "id": "5bc8e51d",
   "metadata": {},
   "outputs": [],
   "source": []
  },
  {
   "cell_type": "code",
   "execution_count": 22,
   "id": "64fa0ad5",
   "metadata": {},
   "outputs": [],
   "source": [
    "# 다중반복구조\n",
    "# 반복문안에 반복문이 중첩되는 구조"
   ]
  },
  {
   "cell_type": "code",
   "execution_count": 23,
   "id": "edf84c0b",
   "metadata": {},
   "outputs": [
    {
     "name": "stdout",
     "output_type": "stream",
     "text": [
      "1 * 1 = 1\n",
      "1 * 2 = 2\n",
      "1 * 3 = 3\n",
      "1 * 4 = 4\n",
      "1 * 5 = 5\n",
      "1 * 6 = 6\n",
      "1 * 7 = 7\n",
      "1 * 8 = 8\n",
      "1 * 9 = 9\n",
      "*****************\n",
      "2 * 1 = 2\n",
      "2 * 2 = 4\n",
      "2 * 3 = 6\n",
      "2 * 4 = 8\n",
      "2 * 5 = 10\n",
      "2 * 6 = 12\n",
      "2 * 7 = 14\n",
      "2 * 8 = 16\n",
      "2 * 9 = 18\n",
      "*****************\n",
      "3 * 1 = 3\n",
      "3 * 2 = 6\n",
      "3 * 3 = 9\n",
      "3 * 4 = 12\n",
      "3 * 5 = 15\n",
      "3 * 6 = 18\n",
      "3 * 7 = 21\n",
      "3 * 8 = 24\n",
      "3 * 9 = 27\n",
      "*****************\n",
      "4 * 1 = 4\n",
      "4 * 2 = 8\n",
      "4 * 3 = 12\n",
      "4 * 4 = 16\n",
      "4 * 5 = 20\n",
      "4 * 6 = 24\n",
      "4 * 7 = 28\n",
      "4 * 8 = 32\n",
      "4 * 9 = 36\n",
      "*****************\n",
      "5 * 1 = 5\n",
      "5 * 2 = 10\n",
      "5 * 3 = 15\n",
      "5 * 4 = 20\n",
      "5 * 5 = 25\n",
      "5 * 6 = 30\n",
      "5 * 7 = 35\n",
      "5 * 8 = 40\n",
      "5 * 9 = 45\n",
      "*****************\n",
      "6 * 1 = 6\n",
      "6 * 2 = 12\n",
      "6 * 3 = 18\n",
      "6 * 4 = 24\n",
      "6 * 5 = 30\n",
      "6 * 6 = 36\n",
      "6 * 7 = 42\n",
      "6 * 8 = 48\n",
      "6 * 9 = 54\n",
      "*****************\n",
      "7 * 1 = 7\n",
      "7 * 2 = 14\n",
      "7 * 3 = 21\n",
      "7 * 4 = 28\n",
      "7 * 5 = 35\n",
      "7 * 6 = 42\n",
      "7 * 7 = 49\n",
      "7 * 8 = 56\n",
      "7 * 9 = 63\n",
      "*****************\n",
      "8 * 1 = 8\n",
      "8 * 2 = 16\n",
      "8 * 3 = 24\n",
      "8 * 4 = 32\n",
      "8 * 5 = 40\n",
      "8 * 6 = 48\n",
      "8 * 7 = 56\n",
      "8 * 8 = 64\n",
      "8 * 9 = 72\n",
      "*****************\n",
      "9 * 1 = 9\n",
      "9 * 2 = 18\n",
      "9 * 3 = 27\n",
      "9 * 4 = 36\n",
      "9 * 5 = 45\n",
      "9 * 6 = 54\n",
      "9 * 7 = 63\n",
      "9 * 8 = 72\n",
      "9 * 9 = 81\n",
      "*****************\n"
     ]
    }
   ],
   "source": [
    "# 구구단 예제\n",
    "for i in range(1,10):\n",
    "    for j in range(1,10):\n",
    "        print(i, \"*\", j, \"=\", i*j)\n",
    "    print(\"*****************\")"
   ]
  },
  {
   "cell_type": "code",
   "execution_count": 24,
   "id": "5457e62f",
   "metadata": {},
   "outputs": [
    {
     "name": "stdout",
     "output_type": "stream",
     "text": [
      "*********\n",
      "********\n",
      "*******\n",
      "******\n",
      "*****\n",
      "****\n",
      "***\n",
      "**\n",
      "*\n"
     ]
    }
   ],
   "source": [
    "for i in range(1,10):\n",
    "    for j in range(i,10):\n",
    "        print( \"*\",end=\"\")\n",
    "    print(end=\"\\n\")"
   ]
  },
  {
   "cell_type": "code",
   "execution_count": 25,
   "id": "c7a5fc93",
   "metadata": {},
   "outputs": [
    {
     "name": "stdout",
     "output_type": "stream",
     "text": [
      "*********\n",
      "********\n",
      "*******\n",
      "******\n",
      "*****\n",
      "****\n",
      "***\n",
      "**\n",
      "*\n"
     ]
    }
   ],
   "source": [
    "i=1\n",
    "while True:\n",
    "    j=i\n",
    "    while True:\n",
    "        if(j==10): break\n",
    "        print( \"*\",end=\"\") \n",
    "        j+=1 \n",
    "    if(i==10): break\n",
    "    print(end=\"\\n\")\n",
    "    i+=1"
   ]
  },
  {
   "cell_type": "code",
   "execution_count": 27,
   "id": "e7b981c1",
   "metadata": {},
   "outputs": [
    {
     "name": "stdout",
     "output_type": "stream",
     "text": [
      "1 월 :1,2,3,4,5,6,7,8,9,10,11,12,13,14,15,16,17,18,19,20,21,22,23,24,25,26,27,28,29,30,31,\n",
      "2 월 :1,2,3,4,5,6,7,8,9,10,11,12,13,14,15,16,17,18,19,20,21,22,23,24,25,26,27,28,\n",
      "3 월 :1,2,3,4,5,6,7,8,9,10,11,12,13,14,15,16,17,18,19,20,21,22,23,24,25,26,27,28,29,30,31,\n",
      "4 월 :1,2,3,4,5,6,7,8,9,10,11,12,13,14,15,16,17,18,19,20,21,22,23,24,25,26,27,28,29,30,\n",
      "5 월 :1,2,3,4,5,6,7,8,9,10,11,12,13,14,15,16,17,18,19,20,21,22,23,24,25,26,27,28,29,30,31,\n",
      "6 월 :1,2,3,4,5,6,7,8,9,10,11,12,13,14,15,16,17,18,19,20,21,22,23,24,25,26,27,28,29,30,\n",
      "7 월 :1,2,3,4,5,6,7,8,9,10,11,12,13,14,15,16,17,18,19,20,21,22,23,24,25,26,27,28,29,30,31,\n",
      "8 월 :1,2,3,4,5,6,7,8,9,10,11,12,13,14,15,16,17,18,19,20,21,22,23,24,25,26,27,28,29,30,31,\n",
      "9 월 :1,2,3,4,5,6,7,8,9,10,11,12,13,14,15,16,17,18,19,20,21,22,23,24,25,26,27,28,29,30,\n",
      "10 월 :1,2,3,4,5,6,7,8,9,10,11,12,13,14,15,16,17,18,19,20,21,22,23,24,25,26,27,28,29,30,31,\n",
      "11 월 :1,2,3,4,5,6,7,8,9,10,11,12,13,14,15,16,17,18,19,20,21,22,23,24,25,26,27,28,29,30,\n",
      "12 월 :1,2,3,4,5,6,7,8,9,10,11,12,13,14,15,16,17,18,19,20,21,22,23,24,25,26,27,28,29,30,31,\n"
     ]
    }
   ],
   "source": [
    "# 실습 1\n",
    "# 다음결과와 같이 달력을 인쇄할것 \n",
    "Mon=1\n",
    "for LastDay in [31,28,31,30,31,30,31,31,30,31,30,31]:\n",
    "    print(Mon,\"월 :\",end=\"\")\n",
    "    for Day in range(1,LastDay+1):\n",
    "        print(Day,end=\",\")\n",
    "    print(end=\"\\n\")\n",
    "    Mon+=1"
   ]
  },
  {
   "cell_type": "code",
   "execution_count": 28,
   "id": "60c7f491",
   "metadata": {},
   "outputs": [
    {
     "name": "stdout",
     "output_type": "stream",
     "text": [
      "2 * 2 = 4\t3 * 2 = 4\t4 * 2 = 4\n",
      "2 * 3 = 6\t3 * 3 = 6\t4 * 3 = 6\n",
      "2 * 4 = 8\t3 * 4 = 8\t4 * 4 = 8\n",
      "2 * 5 = 10\t3 * 5 = 10\t4 * 5 = 10\n",
      "2 * 6 = 12\t3 * 6 = 12\t4 * 6 = 12\n",
      "2 * 7 = 14\t3 * 7 = 14\t4 * 7 = 14\n",
      "2 * 8 = 16\t3 * 8 = 16\t4 * 8 = 16\n",
      "2 * 9 = 18\t3 * 9 = 18\t4 * 9 = 18\n",
      "\n",
      "5 * 2 = 10\t6 * 2 = 10\t7 * 2 = 10\n",
      "5 * 3 = 15\t6 * 3 = 15\t7 * 3 = 15\n",
      "5 * 4 = 20\t6 * 4 = 20\t7 * 4 = 20\n",
      "5 * 5 = 25\t6 * 5 = 25\t7 * 5 = 25\n",
      "5 * 6 = 30\t6 * 6 = 30\t7 * 6 = 30\n",
      "5 * 7 = 35\t6 * 7 = 35\t7 * 7 = 35\n",
      "5 * 8 = 40\t6 * 8 = 40\t7 * 8 = 40\n",
      "5 * 9 = 45\t6 * 9 = 45\t7 * 9 = 45\n",
      "\n",
      "8 * 2 = 16\t9 * 2 = 16\t\n",
      "8 * 3 = 24\t9 * 3 = 24\t\n",
      "8 * 4 = 32\t9 * 4 = 32\t\n",
      "8 * 5 = 40\t9 * 5 = 40\t\n",
      "8 * 6 = 48\t9 * 6 = 48\t\n",
      "8 * 7 = 56\t9 * 7 = 56\t\n",
      "8 * 8 = 64\t9 * 8 = 64\t\n",
      "8 * 9 = 72\t9 * 9 = 72\t\n",
      "\n"
     ]
    }
   ],
   "source": [
    "# 실습 2\n",
    "# 다음 결과와 같이 구구단을 인쇄할 것\n",
    "for i in range(2,10,3):\n",
    "    for j in range(2,10):\n",
    "        print(i,\"*\",j,\"=\",i*j,end=\"\\t\")\n",
    "        print(i+1,\"*\",j,\"=\",i*j,end=\"\\t\")\n",
    "        if(i+2!=10): print(i+2,\"*\",j,\"=\",i*j,end=\"\\n\")\n",
    "        else: print(end=\"\\n\")\n",
    "    print(end=\"\\n\")"
   ]
  },
  {
   "cell_type": "code",
   "execution_count": 29,
   "id": "ad7dfba7",
   "metadata": {},
   "outputs": [
    {
     "name": "stdout",
     "output_type": "stream",
     "text": [
      "2 * 2 = 4\t5 * 2 = 4\t8 * 2 = 4\n",
      "2 * 3 = 6\t5 * 3 = 6\t8 * 3 = 6\n",
      "2 * 4 = 8\t5 * 4 = 8\t8 * 4 = 8\n",
      "2 * 5 = 10\t5 * 5 = 10\t8 * 5 = 10\n",
      "2 * 6 = 12\t5 * 6 = 12\t8 * 6 = 12\n",
      "2 * 7 = 14\t5 * 7 = 14\t8 * 7 = 14\n",
      "2 * 8 = 16\t5 * 8 = 16\t8 * 8 = 16\n",
      "2 * 9 = 18\t5 * 9 = 18\t8 * 9 = 18\n",
      "\n",
      "3 * 2 = 6\t6 * 2 = 6\t9 * 2 = 6\n",
      "3 * 3 = 9\t6 * 3 = 9\t9 * 3 = 9\n",
      "3 * 4 = 12\t6 * 4 = 12\t9 * 4 = 12\n",
      "3 * 5 = 15\t6 * 5 = 15\t9 * 5 = 15\n",
      "3 * 6 = 18\t6 * 6 = 18\t9 * 6 = 18\n",
      "3 * 7 = 21\t6 * 7 = 21\t9 * 7 = 21\n",
      "3 * 8 = 24\t6 * 8 = 24\t9 * 8 = 24\n",
      "3 * 9 = 27\t6 * 9 = 27\t9 * 9 = 27\n",
      "\n",
      "4 * 2 = 8\t7 * 2 = 8\t\n",
      "4 * 3 = 12\t7 * 3 = 12\t\n",
      "4 * 4 = 16\t7 * 4 = 16\t\n",
      "4 * 5 = 20\t7 * 5 = 20\t\n",
      "4 * 6 = 24\t7 * 6 = 24\t\n",
      "4 * 7 = 28\t7 * 7 = 28\t\n",
      "4 * 8 = 32\t7 * 8 = 32\t\n",
      "4 * 9 = 36\t7 * 9 = 36\t\n",
      "\n"
     ]
    }
   ],
   "source": [
    "# 실습 3\n",
    "# 다음 결과와 같이 구구단을 인쇄할 것 \n",
    "for i in range(2,5):\n",
    "    for j in range(2,10):\n",
    "        print(i,\"*\",j,\"=\",i*j,end=\"\\t\")\n",
    "        print(i+3,\"*\",j,\"=\",i*j,end=\"\\t\")\n",
    "        if(i+6!=10): print(i+6,\"*\",j,\"=\",i*j,end=\"\\n\")\n",
    "        else: print(end=\"\\n\")\n",
    "    print(end=\"\\n\")"
   ]
  },
  {
   "cell_type": "code",
   "execution_count": null,
   "id": "8165a6e5",
   "metadata": {},
   "outputs": [],
   "source": []
  }
 ],
 "metadata": {
  "kernelspec": {
   "display_name": "Python 3 (ipykernel)",
   "language": "python",
   "name": "python3"
  },
  "language_info": {
   "codemirror_mode": {
    "name": "ipython",
    "version": 3
   },
   "file_extension": ".py",
   "mimetype": "text/x-python",
   "name": "python",
   "nbconvert_exporter": "python",
   "pygments_lexer": "ipython3",
   "version": "3.9.7"
  }
 },
 "nbformat": 4,
 "nbformat_minor": 5
}

{
 "cells": [
  {
   "cell_type": "code",
   "execution_count": 1,
   "id": "320763f8",
   "metadata": {},
   "outputs": [],
   "source": [
    "# 딕셔너리, 집합, 컬렉션"
   ]
  },
  {
   "cell_type": "code",
   "execution_count": 2,
   "id": "52baa3be",
   "metadata": {},
   "outputs": [],
   "source": [
    "# 딕셔너리의 정의\n",
    "# 딕셔너리 ---- 키(key)와 값(value)를 한쌍으로 연관지어 사용하는 자료형"
   ]
  },
  {
   "cell_type": "code",
   "execution_count": 3,
   "id": "1952746a",
   "metadata": {},
   "outputs": [
    {
     "data": {
      "text/plain": [
       "95"
      ]
     },
     "execution_count": 3,
     "metadata": {},
     "output_type": "execute_result"
    }
   ],
   "source": [
    "# dic_name[key]방식으로 사용함\n",
    "a={\"이름\":\"홍길동\", \"국어\":100, \"영어\":88, \"수학\": 95}\n",
    "a[\"수학\"]"
   ]
  },
  {
   "cell_type": "code",
   "execution_count": 4,
   "id": "27f7a2af",
   "metadata": {},
   "outputs": [
    {
     "data": {
      "text/plain": [
       "'홍길동'"
      ]
     },
     "execution_count": 4,
     "metadata": {},
     "output_type": "execute_result"
    }
   ],
   "source": [
    "a[\"이름\"]"
   ]
  },
  {
   "cell_type": "code",
   "execution_count": 5,
   "id": "f6fe717c",
   "metadata": {},
   "outputs": [
    {
     "data": {
      "text/plain": [
       "dict_keys(['이름', '국어', '영어', '수학'])"
      ]
     },
     "execution_count": 5,
     "metadata": {},
     "output_type": "execute_result"
    }
   ],
   "source": [
    "# keys(), values(), items()는 다음과 같음\n",
    "a.keys()"
   ]
  },
  {
   "cell_type": "code",
   "execution_count": 6,
   "id": "c5b2b3fd",
   "metadata": {},
   "outputs": [
    {
     "data": {
      "text/plain": [
       "dict_values(['홍길동', 100, 88, 95])"
      ]
     },
     "execution_count": 6,
     "metadata": {},
     "output_type": "execute_result"
    }
   ],
   "source": [
    "a.values()"
   ]
  },
  {
   "cell_type": "code",
   "execution_count": 7,
   "id": "b08c467f",
   "metadata": {},
   "outputs": [
    {
     "data": {
      "text/plain": [
       "dict_items([('이름', '홍길동'), ('국어', 100), ('영어', 88), ('수학', 95)])"
      ]
     },
     "execution_count": 7,
     "metadata": {},
     "output_type": "execute_result"
    }
   ],
   "source": [
    "a.items()"
   ]
  },
  {
   "cell_type": "code",
   "execution_count": 8,
   "id": "1928dc79",
   "metadata": {},
   "outputs": [
    {
     "name": "stdout",
     "output_type": "stream",
     "text": [
      "('이름', '홍길동'),('국어', 100),('영어', 88),('수학', 95),"
     ]
    }
   ],
   "source": [
    "a={\"이름\":\"홍길동\", \"국어\":100, \"영어\":88, \"수학\": 95}\n",
    "for i in a.items():\n",
    "    print(i,end=\",\")"
   ]
  },
  {
   "cell_type": "code",
   "execution_count": 9,
   "id": "d890749c",
   "metadata": {},
   "outputs": [
    {
     "name": "stdout",
     "output_type": "stream",
     "text": [
      "이름,국어,영어,수학,"
     ]
    }
   ],
   "source": [
    "for i in a.keys():\n",
    "    print(i,end=\",\")"
   ]
  },
  {
   "cell_type": "code",
   "execution_count": 10,
   "id": "215a7188",
   "metadata": {},
   "outputs": [
    {
     "name": "stdout",
     "output_type": "stream",
     "text": [
      "홍길동,100,88,95,"
     ]
    }
   ],
   "source": [
    "for i in a.values():\n",
    "    print(i,end=\",\")"
   ]
  },
  {
   "cell_type": "code",
   "execution_count": 11,
   "id": "026665fd",
   "metadata": {},
   "outputs": [
    {
     "name": "stdout",
     "output_type": "stream",
     "text": [
      "None\n"
     ]
    }
   ],
   "source": [
    "# get()은 해당키의 값을 검색하며 없는 경우의 출력내용을 지정 가능\n",
    "a={\"이름\":\"홍길동\", \"국어\":100, \"영어\":88, \"수학\": 95}\n",
    "print(a.get(\"과학\"))"
   ]
  },
  {
   "cell_type": "code",
   "execution_count": 12,
   "id": "a29bde60",
   "metadata": {},
   "outputs": [
    {
     "name": "stdout",
     "output_type": "stream",
     "text": [
      "없는과목입니다\n"
     ]
    }
   ],
   "source": [
    "print(a.get(\"과학\",\"없는과목입니다\"))"
   ]
  },
  {
   "cell_type": "code",
   "execution_count": 13,
   "id": "32c9e59c",
   "metadata": {},
   "outputs": [
    {
     "name": "stdout",
     "output_type": "stream",
     "text": [
      "95\n"
     ]
    }
   ],
   "source": [
    "print(a.get(\"수학\",\"없는과목입니다\"))"
   ]
  },
  {
   "cell_type": "code",
   "execution_count": 14,
   "id": "1d6aa5eb",
   "metadata": {},
   "outputs": [
    {
     "name": "stdout",
     "output_type": "stream",
     "text": [
      "{'안': 1, '녕': 1, '하': 1, '셔': 1, '요': 3, '.': 2, ' ': 11, '오': 1, '늘': 1, '은': 2, '날': 1, '씨': 1, '가': 2, '매': 2, '우': 2, '화': 1, '창': 1, '합': 1, '니': 1, '다': 1, '\\n': 2, '그': 1, '래': 1, '서': 1, '기': 2, '분': 2, '이': 2, '좋': 2, '네': 1, '너': 1, '도': 1, '랄': 3, '라': 7, 'a': 1, 'b': 1, 'c': 1, '임': 1, '마': 1}\n"
     ]
    }
   ],
   "source": [
    "# 다음문장에서 각각이 쓰인 글자에 대한 계수를 하는 예제\n",
    "\n",
    "text = \"\"\"안녕하셔요. 오늘은 날씨가 매우 화창합니다.\n",
    "그래서 기분이 매우 좋네요\n",
    "너도 기분이 좋은가요 랄라랄랄라라라라라라 abc임마\"\"\"\n",
    "\n",
    "a=dict() #하나의 딕셔너리 자료형을 정의\n",
    "for c in text: #위에 정의한 텍스트를 하나씩 추출하여 처리\n",
    "    if c not in a: #해당 추출글자가 지금까지의 딕셔너리에 없다면\n",
    "        a[c]=1 #그때는 최초 1값으로 시작\n",
    "    else: #이 경우는 해당 추출글자의 딕셔너리가 있다\n",
    "        a[c] +=1 #그럼 해당 딕셔너리 키에 해당되는 값을 하나더함\n",
    "print(a)"
   ]
  },
  {
   "cell_type": "code",
   "execution_count": 15,
   "id": "91bb8a74",
   "metadata": {},
   "outputs": [
    {
     "name": "stdout",
     "output_type": "stream",
     "text": [
      "{'\\n': 2, ' ': 11, '.': 2, 'a': 1, 'b': 1, 'c': 1, '가': 2, '그': 1, '기': 2, '날': 1, '너': 1, '네': 1, '녕': 1, '늘': 1, '니': 1, '다': 1, '도': 1, '라': 7, '랄': 3, '래': 1, '마': 1, '매': 2, '분': 2, '서': 1, '셔': 1, '씨': 1, '안': 1, '오': 1, '요': 3, '우': 2, '은': 2, '이': 2, '임': 1, '좋': 2, '창': 1, '하': 1, '합': 1, '화': 1}\n"
     ]
    }
   ],
   "source": [
    "#아래서 부터는 보기 힘드니 각 글자(키)를 소트해 본다\n",
    "b=dict() #딕셔너리 하나 더 정의\n",
    "l=list(a.keys()) #앞에 딕서너리에 키만 뽑아 리스트를 만듦\n",
    "l.sort() #해당 리스트 소트\n",
    "for c in l: #각 리스트에 대하여 (결국 키값) 하나씩 뽑음\n",
    "    b[c]=a[c] # 새로운 딕셔너리는 키값 순서데로 다시 만듦\n",
    "print(b)"
   ]
  },
  {
   "cell_type": "code",
   "execution_count": null,
   "id": "1504ce64",
   "metadata": {},
   "outputs": [],
   "source": []
  },
  {
   "cell_type": "code",
   "execution_count": 16,
   "id": "cf6f5e40",
   "metadata": {},
   "outputs": [],
   "source": [
    "# 집합\n",
    "# 수학적 의미의 집합과 동일함\n",
    "# 대괄호 {}로 원소를 표현하며 순서에 상관없이 표시 및 사용됨(순서의 의미가 없음)\n",
    "# 원소가 중복되어도 하나로 인식됨\n",
    "# 다른 자료형으로부터 set()함수를 통하여 집합으로 변환함\n",
    "# ( 단 딕셔너리 타입은 키만 집합으로 변환됨)"
   ]
  },
  {
   "cell_type": "code",
   "execution_count": 17,
   "id": "9d7eaa6b",
   "metadata": {},
   "outputs": [
    {
     "data": {
      "text/plain": [
       "{1, 2, 3, 4, 5}"
      ]
     },
     "execution_count": 17,
     "metadata": {},
     "output_type": "execute_result"
    }
   ],
   "source": [
    "a={1,2,2,2,2,3,3,3,4,5}\n",
    "a"
   ]
  },
  {
   "cell_type": "code",
   "execution_count": 18,
   "id": "7e37e946",
   "metadata": {},
   "outputs": [
    {
     "data": {
      "text/plain": [
       "{1, 2, 'a'}"
      ]
     },
     "execution_count": 18,
     "metadata": {},
     "output_type": "execute_result"
    }
   ],
   "source": [
    "set((\"a\",1,2))"
   ]
  },
  {
   "cell_type": "code",
   "execution_count": 19,
   "id": "c0573c24",
   "metadata": {},
   "outputs": [
    {
     "data": {
      "text/plain": [
       "{'a'}"
      ]
     },
     "execution_count": 19,
     "metadata": {},
     "output_type": "execute_result"
    }
   ],
   "source": [
    "set(\"a\")"
   ]
  },
  {
   "cell_type": "code",
   "execution_count": 20,
   "id": "60c16963",
   "metadata": {},
   "outputs": [
    {
     "data": {
      "text/plain": [
       "{'국어', '수학', '영어', '이름'}"
      ]
     },
     "execution_count": 20,
     "metadata": {},
     "output_type": "execute_result"
    }
   ],
   "source": [
    "set({\"이름\":\"홍길동\", \"국어\":100,\"영어\":88, \"수학\": 95})"
   ]
  },
  {
   "cell_type": "code",
   "execution_count": 28,
   "id": "c60a9f2d",
   "metadata": {},
   "outputs": [
    {
     "data": {
      "text/plain": [
       "{1, 2, 3, 4, 5}"
      ]
     },
     "execution_count": 28,
     "metadata": {},
     "output_type": "execute_result"
    }
   ],
   "source": [
    "# add(값) ---- 원소 추가시 사용함\n",
    "# remove(값) ----- 원소 제거시 사용함\n",
    "a1 = {1,2,3,4,5}\n",
    "a1"
   ]
  },
  {
   "cell_type": "code",
   "execution_count": 29,
   "id": "e29eb283",
   "metadata": {},
   "outputs": [
    {
     "data": {
      "text/plain": [
       "{0, 1, 2, 3, 4, 5}"
      ]
     },
     "execution_count": 29,
     "metadata": {},
     "output_type": "execute_result"
    }
   ],
   "source": [
    "a1.add(0)\n",
    "a1"
   ]
  },
  {
   "cell_type": "code",
   "execution_count": 30,
   "id": "03da78e9",
   "metadata": {},
   "outputs": [
    {
     "data": {
      "text/plain": [
       "{0, 1, 2, 2.4, 3, 4, 5}"
      ]
     },
     "execution_count": 30,
     "metadata": {},
     "output_type": "execute_result"
    }
   ],
   "source": [
    "a1.add(2.4)\n",
    "a1"
   ]
  },
  {
   "cell_type": "code",
   "execution_count": 31,
   "id": "985e5475",
   "metadata": {},
   "outputs": [
    {
     "data": {
      "text/plain": [
       "{0, 1, 2, 2.4, 4, 5}"
      ]
     },
     "execution_count": 31,
     "metadata": {},
     "output_type": "execute_result"
    }
   ],
   "source": [
    "a1.remove(3)\n",
    "a1"
   ]
  },
  {
   "cell_type": "code",
   "execution_count": 32,
   "id": "813527f2",
   "metadata": {},
   "outputs": [
    {
     "name": "stdout",
     "output_type": "stream",
     "text": [
      "{1, 2, 3, 4, 5, 6, 7, 8, 9, 10}\n",
      "{7}\n",
      "{1, 2, 3, 4, 5, 6}\n"
     ]
    }
   ],
   "source": [
    "A={1,2,3,4,5,6,7}\n",
    "B={7,8,9,10}\n",
    "\n",
    "print(A|B)\n",
    "print(A&B)\n",
    "print(A-B)"
   ]
  },
  {
   "cell_type": "code",
   "execution_count": 34,
   "id": "825d197e",
   "metadata": {},
   "outputs": [
    {
     "name": "stdout",
     "output_type": "stream",
     "text": [
      "False\n",
      "True\n",
      "True\n",
      "False\n",
      "True\n",
      "True\n"
     ]
    }
   ],
   "source": [
    "print({1,2,3} < {1,2})\n",
    "\n",
    "print({1,2,3} > {1,2})\n",
    "\n",
    "print({1,2,3} >= {1,2})\n",
    "\n",
    "print({1,2,3} == {1,2})\n",
    "\n",
    "print({1,2,3} >= {3,1,2})\n",
    "\n",
    "print({1,2,3} == {3,1,2})"
   ]
  },
  {
   "cell_type": "code",
   "execution_count": null,
   "id": "dbc59f26",
   "metadata": {},
   "outputs": [],
   "source": []
  },
  {
   "cell_type": "code",
   "execution_count": 35,
   "id": "0f0ce1f7",
   "metadata": {},
   "outputs": [],
   "source": [
    "# 컬렉션"
   ]
  },
  {
   "cell_type": "code",
   "execution_count": 36,
   "id": "8809d7fb",
   "metadata": {},
   "outputs": [
    {
     "data": {
      "text/plain": [
       "{0: 'a', 1: 'b', 2: 'c', 3: 'd', 4: 'e'}"
      ]
     },
     "execution_count": 36,
     "metadata": {},
     "output_type": "execute_result"
    }
   ],
   "source": [
    "# 컬렉션으로 변환\n",
    "# 리스트 a=[“a”,“b”,“c”,“d”,“e”]를 딕셔너리 b={1: ‘a’,2: ‘b’, 3: ‘c’, 4: ‘d’, 5: ‘e’}\n",
    "# 로 변환한다면 다음과 같이 처리\n",
    "a=[\"a\",\"b\",\"c\",\"d\",\"e\"]\n",
    "b={}\n",
    "for i in range (len(a)):\n",
    "    b[i]=a[i] #a는 리스트 b는 딕셔너리\n",
    "b"
   ]
  },
  {
   "cell_type": "code",
   "execution_count": 37,
   "id": "7485cc74",
   "metadata": {},
   "outputs": [],
   "source": [
    "# enumerate() 함수는 요소를 0부터 차례의 숫자로 대입해 줌\n",
    "# 보기에서 b는 딕셔너리, c는 튜플을 원소로 가진 리스트로 변환 되었음"
   ]
  },
  {
   "cell_type": "code",
   "execution_count": 38,
   "id": "bc130c43",
   "metadata": {},
   "outputs": [
    {
     "data": {
      "text/plain": [
       "<enumerate at 0x1bca8743ec0>"
      ]
     },
     "execution_count": 38,
     "metadata": {},
     "output_type": "execute_result"
    }
   ],
   "source": [
    "a=[\"a\",\"b\",\"c\",\"d\",\"e\"]\n",
    "b=enumerate(a) #여기 까지는 중간단계\n",
    "b "
   ]
  },
  {
   "cell_type": "code",
   "execution_count": 43,
   "id": "f4bb2b4d",
   "metadata": {},
   "outputs": [
    {
     "name": "stdout",
     "output_type": "stream",
     "text": [
      "{0: 'a', 1: 'b', 2: 'c', 3: 'd', 4: 'e'}\n",
      "[(0, 'a'), (1, 'b'), (2, 'c'), (3, 'd'), (4, 'e')]\n"
     ]
    }
   ],
   "source": [
    "b=dict(enumerate(a))\n",
    "c=list(enumerate(a)) #딕셔너리와 리스트를 만든다\n",
    "print(b)\n",
    "print(c)"
   ]
  },
  {
   "cell_type": "code",
   "execution_count": 44,
   "id": "c805870a",
   "metadata": {},
   "outputs": [],
   "source": [
    "# zip은 두 컬렉션(리스트, 튜플, 집합 등)을 하나씩 대응관계를 만들어 줌\n",
    "# 단 서로의 개수가 다를 때 적은 개수에 맞추어 구성됨"
   ]
  },
  {
   "cell_type": "code",
   "execution_count": 45,
   "id": "52ec4c30",
   "metadata": {},
   "outputs": [
    {
     "data": {
      "text/plain": [
       "<zip at 0x1bca8787200>"
      ]
     },
     "execution_count": 45,
     "metadata": {},
     "output_type": "execute_result"
    }
   ],
   "source": [
    " a={1,2,3,4,5,6,7,8}  # 집합a\n",
    "b={\"a\",\"b\",\"c\",\"d\",\"e\"}  # 집합b\n",
    "zip(a,b)   # zip만으로는 단순히 object임"
   ]
  },
  {
   "cell_type": "code",
   "execution_count": 46,
   "id": "71cd81be",
   "metadata": {},
   "outputs": [
    {
     "name": "stdout",
     "output_type": "stream",
     "text": [
      "{1: 'd', 2: 'b', 3: 'c', 4: 'e', 5: 'a'}\n",
      "[(1, 'd'), (2, 'b'), (3, 'c'), (4, 'e'), (5, 'a')]\n"
     ]
    }
   ],
   "source": [
    "c=dict(zip(a,b))\n",
    "d=list(zip(a,b))\n",
    "print(c)\n",
    "print(d)"
   ]
  },
  {
   "cell_type": "code",
   "execution_count": 48,
   "id": "c3f334da",
   "metadata": {},
   "outputs": [
    {
     "name": "stdout",
     "output_type": "stream",
     "text": [
      "{1: 'a', 2: 'b', 3: 'c', 4: 'd', 5: 'e'}\n",
      "[(1, 'a'), (2, 'b'), (3, 'c'), (4, 'd'), (5, 'e')]\n"
     ]
    }
   ],
   "source": [
    "a=(1,2,3,4,5,6,7,8) #튜플a\n",
    "b=[\"a\",\"b\",\"c\",\"d\",\"e\"] #리스트 b\n",
    "c=dict(zip(a,b));d=list(zip(a,b))\n",
    "print(c)\n",
    "print(d)\n",
    "\n",
    "# b는 딕셔너리, c는 튜플을 원소로 가진 리스트로 변환 되었음"
   ]
  },
  {
   "cell_type": "code",
   "execution_count": 49,
   "id": "3bcab531",
   "metadata": {},
   "outputs": [
    {
     "name": "stdout",
     "output_type": "stream",
     "text": [
      "1\n",
      "2\n",
      "3\n",
      "4\n",
      "5\n",
      "6\n"
     ]
    }
   ],
   "source": [
    "# 함수인자에 컬렉션 값을 차례로 대입\n",
    "# filter(함수명,인자_컬렉션)은 인자 컬렉션의 값을 하나씩 대응하여 함수를 실행함\n",
    "# filter는 인자가 하나인 경우만 가능\n",
    "\n",
    "def func(x):\n",
    "    return x/2\n",
    "\n",
    "x =(1,2,3,4,5,6)\n",
    "for i in filter(func,x):\n",
    "    print(i)"
   ]
  },
  {
   "cell_type": "code",
   "execution_count": 50,
   "id": "8f4e1c7d",
   "metadata": {},
   "outputs": [
    {
     "name": "stdout",
     "output_type": "stream",
     "text": [
      "8\n",
      "10\n",
      "12\n",
      "14\n",
      "16\n",
      "18\n"
     ]
    }
   ],
   "source": [
    "# filter는 인자가 하나인 경우만 가능\n",
    "# 인자를 여러 개를 전달할 경우 map함수를 사용\n",
    "def func(x,y):\n",
    "    return x+y\n",
    "x=(1,2,3,4,5,6)\n",
    "y=(7,8,9,10,11,12)\n",
    "\n",
    "#for i in filter(func,x,y): #filter를 사용하면 에러\n",
    "for i in map(func,x,y):\n",
    "    print(i)"
   ]
  },
  {
   "cell_type": "code",
   "execution_count": 51,
   "id": "0c7105fe",
   "metadata": {},
   "outputs": [
    {
     "name": "stdout",
     "output_type": "stream",
     "text": [
      "8\n",
      "10\n",
      "12\n",
      "14\n",
      "16\n",
      "18\n"
     ]
    }
   ],
   "source": [
    "# lambda는 전달한 함수가 간단한 경우 한 줄 안에 기입 가능\n",
    "# lambda 인자는 함수내용 으로 한 줄에 기입가능\n",
    "x=(1,2,3,4,5,6)\n",
    "y=(7,8,9,10,11,12)\n",
    "for i in map(lambda x,y:x+y, x,y):\n",
    "    print(i)"
   ]
  },
  {
   "cell_type": "code",
   "execution_count": 53,
   "id": "3a00ee30",
   "metadata": {},
   "outputs": [
    {
     "name": "stdout",
     "output_type": "stream",
     "text": [
      "a =  [1, 2, 5]\n",
      "b =  [1, 2, 5]\n",
      "a =  [1, 3, 5]\n"
     ]
    }
   ],
   "source": [
    "# 컬렉션 주의사항\n",
    "# copy\n",
    "# 컬렉션을 대입하면 컬렉션의 값이 복사되는 것이 아니라 주소가 복사됨\n",
    "a=[1,2,3]\n",
    "b=a\n",
    "b[2]=5\n",
    "print(\"a = \",a)\n",
    "print(\"b = \",b)\n",
    "b[1]=3\n",
    "print(\"a = \",a)"
   ]
  },
  {
   "cell_type": "code",
   "execution_count": 54,
   "id": "ce4dc7df",
   "metadata": {},
   "outputs": [],
   "source": [
    "# 대입된 컬렉션을 변경하면 원 컬렉션도 변경됨\n",
    "# 이때는 b=a[:]또는 b=a.copy()를 사용(옅은 복사)"
   ]
  },
  {
   "cell_type": "code",
   "execution_count": 56,
   "id": "66ae5789",
   "metadata": {},
   "outputs": [
    {
     "name": "stdout",
     "output_type": "stream",
     "text": [
      "a =  [1, 2, 3]\n",
      "b =  [1, 2, 5]\n"
     ]
    }
   ],
   "source": [
    "a=[1,2,3]\n",
    "b=a[:]\n",
    "b[2]=5\n",
    "print(\"a = \", a)\n",
    "print(\"b = \", b)"
   ]
  },
  {
   "cell_type": "code",
   "execution_count": 57,
   "id": "61505d87",
   "metadata": {},
   "outputs": [
    {
     "name": "stdout",
     "output_type": "stream",
     "text": [
      "a =  [1, 2, 3]\n",
      "b =  [1, 2, 5]\n"
     ]
    }
   ],
   "source": [
    "a=[1,2,3]\n",
    "b=a.copy()\n",
    "b[2]=5\n",
    "print(\"a = \", a)\n",
    "print(\"b = \", b)"
   ]
  },
  {
   "cell_type": "code",
   "execution_count": 58,
   "id": "76ff90ab",
   "metadata": {},
   "outputs": [],
   "source": [
    "# deepcopy\n",
    "# 컬렉션 안에 컬렉션이 있을 때 copy를 사용시 첫 번째 컬렉션만 복사됨\n",
    "# 이 경우 아래레벨의 모든 컬렉션을 복사할 경우  deepcopy를 사용"
   ]
  },
  {
   "cell_type": "code",
   "execution_count": 59,
   "id": "8e514745",
   "metadata": {},
   "outputs": [
    {
     "data": {
      "text/plain": [
       "[[1, 2], 3, 4]"
      ]
     },
     "execution_count": 59,
     "metadata": {},
     "output_type": "execute_result"
    }
   ],
   "source": [
    "a=[[1,2],3,4]\n",
    "b=a.copy()\n",
    "b"
   ]
  },
  {
   "cell_type": "code",
   "execution_count": 60,
   "id": "a56ec854",
   "metadata": {},
   "outputs": [
    {
     "data": {
      "text/plain": [
       "[[1, 3], 3, 4]"
      ]
     },
     "execution_count": 60,
     "metadata": {},
     "output_type": "execute_result"
    }
   ],
   "source": [
    "b[0][1]=3\n",
    "b"
   ]
  },
  {
   "cell_type": "code",
   "execution_count": 61,
   "id": "e20a78a8",
   "metadata": {},
   "outputs": [
    {
     "data": {
      "text/plain": [
       "[[1, 3], 3, 4]"
      ]
     },
     "execution_count": 61,
     "metadata": {},
     "output_type": "execute_result"
    }
   ],
   "source": [
    "a"
   ]
  },
  {
   "cell_type": "code",
   "execution_count": 62,
   "id": "20704053",
   "metadata": {},
   "outputs": [
    {
     "data": {
      "text/plain": [
       "[[1, 2], 3, 4]"
      ]
     },
     "execution_count": 62,
     "metadata": {},
     "output_type": "execute_result"
    }
   ],
   "source": [
    "a=[[1,2],3,4]\n",
    "b=a[:]\n",
    "b"
   ]
  },
  {
   "cell_type": "code",
   "execution_count": 63,
   "id": "cf607d1a",
   "metadata": {},
   "outputs": [
    {
     "data": {
      "text/plain": [
       "[[1, 3], 3, 4]"
      ]
     },
     "execution_count": 63,
     "metadata": {},
     "output_type": "execute_result"
    }
   ],
   "source": [
    "b[0][1]=3\n",
    "a"
   ]
  },
  {
   "cell_type": "code",
   "execution_count": 64,
   "id": "901d9f81",
   "metadata": {},
   "outputs": [],
   "source": [
    "# 아래레벨의 모든 컬렉션을 복사할 경우 deepcopy를 사용\n",
    "# import copy를 정의하여 가져다 deepcopy를 사용"
   ]
  },
  {
   "cell_type": "code",
   "execution_count": 65,
   "id": "5aaa68c7",
   "metadata": {},
   "outputs": [
    {
     "name": "stdout",
     "output_type": "stream",
     "text": [
      "[[1, 2], 3, 4] [[1, 3], 3, 4]\n"
     ]
    }
   ],
   "source": [
    "import copy as c\n",
    "a=[[1,2],3,4]\n",
    "b=c.deepcopy(a)\n",
    "b[0][1]=3\n",
    "print(a,b)"
   ]
  }
 ],
 "metadata": {
  "kernelspec": {
   "display_name": "Python 3 (ipykernel)",
   "language": "python",
   "name": "python3"
  },
  "language_info": {
   "codemirror_mode": {
    "name": "ipython",
    "version": 3
   },
   "file_extension": ".py",
   "mimetype": "text/x-python",
   "name": "python",
   "nbconvert_exporter": "python",
   "pygments_lexer": "ipython3",
   "version": "3.9.7"
  }
 },
 "nbformat": 4,
 "nbformat_minor": 5
}

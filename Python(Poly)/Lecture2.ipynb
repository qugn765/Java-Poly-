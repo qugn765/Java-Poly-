{
 "cells": [
  {
   "cell_type": "code",
   "execution_count": 3,
   "id": "1a177dcf",
   "metadata": {},
   "outputs": [
    {
     "data": {
      "text/plain": [
       "3"
      ]
     },
     "execution_count": 3,
     "metadata": {},
     "output_type": "execute_result"
    }
   ],
   "source": [
    "1+2  #연산자 사이에서는 띄어쓰기 상관없음"
   ]
  },
  {
   "cell_type": "code",
   "execution_count": 9,
   "id": "1d3eace9",
   "metadata": {},
   "outputs": [
    {
     "ename": "SyntaxError",
     "evalue": "invalid syntax (3222229535.py, line 1)",
     "output_type": "error",
     "traceback": [
      "\u001b[1;36m  Cell \u001b[1;32mIn[9], line 1\u001b[1;36m\u001b[0m\n\u001b[1;33m    1 + 2 // 연산자 사이에서는 띄어쓰기 상관없음\u001b[0m\n\u001b[1;37m                 ^\u001b[0m\n\u001b[1;31mSyntaxError\u001b[0m\u001b[1;31m:\u001b[0m invalid syntax\n"
     ]
    }
   ],
   "source": [
    "1 + 2 #연산자 사이에서는 띄어쓰기 상관없음"
   ]
  },
  {
   "cell_type": "code",
   "execution_count": 5,
   "id": "c5af7e60",
   "metadata": {},
   "outputs": [
    {
     "ename": "IndentationError",
     "evalue": "unexpected indent (3405682156.py, line 2)",
     "output_type": "error",
     "traceback": [
      "\u001b[1;36m  Cell \u001b[1;32mIn[5], line 2\u001b[1;36m\u001b[0m\n\u001b[1;33m    1+2\u001b[0m\n\u001b[1;37m    ^\u001b[0m\n\u001b[1;31mIndentationError\u001b[0m\u001b[1;31m:\u001b[0m unexpected indent\n"
     ]
    }
   ],
   "source": [
    "  1+2\n",
    "    1+2\n",
    "#파이썬은 띄어쓰기도 문법이므로 띄어쓰기를 하면안됨"
   ]
  },
  {
   "cell_type": "code",
   "execution_count": 7,
   "id": "33947d6c",
   "metadata": {},
   "outputs": [
    {
     "name": "stdout",
     "output_type": "stream",
     "text": [
      "스위치 on\n"
     ]
    }
   ],
   "source": [
    "sw = 1\n",
    "if sw == 1:\n",
    "    print(\"스위치 on\")\n",
    "else : \n",
    "    print(\"스위치 off\")\n",
    "\n",
    "#블록의 인식은 칸을 들어쓰는 방식임\n",
    "#블록의 시작은 :(콜론)으로 표시함\n",
    "#일반적 자바와 c에서는 { }(대괄호)를 사용함"
   ]
  },
  {
   "cell_type": "code",
   "execution_count": 11,
   "id": "4af981f5",
   "metadata": {},
   "outputs": [
    {
     "name": "stdout",
     "output_type": "stream",
     "text": [
      "3\n",
      "7\n",
      "12\n"
     ]
    }
   ],
   "source": [
    "print(1 + 2); print(3 + 4); print(5 + 7);\n",
    "# 여러 명령어를 사용할때는 세미콜론 ; 을 사용함"
   ]
  },
  {
   "cell_type": "code",
   "execution_count": null,
   "id": "b4503d42",
   "metadata": {},
   "outputs": [],
   "source": [
    "#대문자와 소문자를 구분하여 사용하여야함\n",
    "print(1+2)"
   ]
  },
  {
   "cell_type": "code",
   "execution_count": 12,
   "id": "9ef5ee97",
   "metadata": {},
   "outputs": [
    {
     "ename": "NameError",
     "evalue": "name 'Print' is not defined",
     "output_type": "error",
     "traceback": [
      "\u001b[1;31m---------------------------------------------------------------------------\u001b[0m",
      "\u001b[1;31mNameError\u001b[0m                                 Traceback (most recent call last)",
      "Cell \u001b[1;32mIn[12], line 1\u001b[0m\n\u001b[1;32m----> 1\u001b[0m \u001b[43mPrint\u001b[49m(\u001b[38;5;241m1\u001b[39m\u001b[38;5;241m+\u001b[39m\u001b[38;5;241m2\u001b[39m)\n",
      "\u001b[1;31mNameError\u001b[0m: name 'Print' is not defined"
     ]
    }
   ],
   "source": [
    "Print(1+2)"
   ]
  },
  {
   "cell_type": "code",
   "execution_count": null,
   "id": "d5ec94fa",
   "metadata": {},
   "outputs": [],
   "source": [
    "#print(출력내용 [, sep=구분문자][, end=마지막 문자])"
   ]
  },
  {
   "cell_type": "code",
   "execution_count": null,
   "id": "85992248",
   "metadata": {},
   "outputs": [],
   "source": []
  },
  {
   "cell_type": "code",
   "execution_count": 13,
   "id": "c55e153e",
   "metadata": {},
   "outputs": [],
   "source": [
    "#대화형에서는 print문장이 없어도 출력\n",
    "abc = 1"
   ]
  },
  {
   "cell_type": "code",
   "execution_count": 14,
   "id": "9587cc60",
   "metadata": {},
   "outputs": [
    {
     "data": {
      "text/plain": [
       "3"
      ]
     },
     "execution_count": 14,
     "metadata": {},
     "output_type": "execute_result"
    }
   ],
   "source": [
    "1 + 2"
   ]
  },
  {
   "cell_type": "code",
   "execution_count": 15,
   "id": "a93e30c0",
   "metadata": {},
   "outputs": [
    {
     "data": {
      "text/plain": [
       "1"
      ]
     },
     "execution_count": 15,
     "metadata": {},
     "output_type": "execute_result"
    }
   ],
   "source": [
    "abc"
   ]
  },
  {
   "cell_type": "code",
   "execution_count": 16,
   "id": "c046ede6",
   "metadata": {},
   "outputs": [
    {
     "name": "stdout",
     "output_type": "stream",
     "text": [
      "1\n"
     ]
    }
   ],
   "source": [
    "print(abc)"
   ]
  },
  {
   "cell_type": "code",
   "execution_count": 17,
   "id": "db255408",
   "metadata": {},
   "outputs": [
    {
     "name": "stdout",
     "output_type": "stream",
     "text": [
      "3\n"
     ]
    }
   ],
   "source": [
    "print(1+2)"
   ]
  },
  {
   "cell_type": "code",
   "execution_count": 22,
   "id": "ac9e9214",
   "metadata": {},
   "outputs": [
    {
     "name": "stdout",
     "output_type": "stream",
     "text": [
      "3\n"
     ]
    }
   ],
   "source": [
    "#스크립트 형식에서 다음 예제에 print문장이 없이 출력되지 않음\n",
    "a=1\n",
    "b=2\n",
    "a+b #출력되지않음\n",
    "1+2 #출력되지않음\n",
    "print(a+b) #이것만 출력될것임"
   ]
  },
  {
   "cell_type": "code",
   "execution_count": 31,
   "id": "345006ec",
   "metadata": {
    "scrolled": true
   },
   "outputs": [
    {
     "name": "stdout",
     "output_type": "stream",
     "text": [
      "아침 점심 저녁\n",
      "아침먹고 점심먹고 저녁\n",
      "아침먹고 점심먹고 저녁땡"
     ]
    }
   ],
   "source": [
    "#구분문자와 마지막 문자의 예제\n",
    "a = \"아침\"\n",
    "b = \"점심\"\n",
    "c = \"저녁\"\n",
    "print(a,b,c)\n",
    "print(a,b,c, sep=\"먹고 \")\n",
    "print(a,b,c, sep=\"먹고 \", end = \"땡\")"
   ]
  },
  {
   "cell_type": "code",
   "execution_count": 32,
   "id": "4202e77f",
   "metadata": {},
   "outputs": [
    {
     "name": "stdout",
     "output_type": "stream",
     "text": [
      "아침 점심 저녁\n",
      "아침먹고 점심먹고 저녁\n",
      "아침먹고 점심먹고 저녁아침자고 점심자고 저녁아침먹고 점심먹고 저녁\n",
      "아침자고 점심자고 저녁\n"
     ]
    }
   ],
   "source": [
    "#구분문자와 마지막 문자의 예제2\n",
    "a = \"아침\"\n",
    "b = \"점심\"\n",
    "c = \"저녁\"\n",
    "print(a,b,c)\n",
    "print(a,b,c, sep=\"먹고 \")\n",
    "print(a,b,c, sep=\"먹고 \", end = \"\")\n",
    "print(a,b,c, sep=\"자고 \", end = \"\")\n",
    "print(a,b,c, sep=\"먹고 \", end = \"\\n\")\n",
    "print(a,b,c, sep=\"자고 \", end = \"\\n\")"
   ]
  },
  {
   "cell_type": "code",
   "execution_count": 24,
   "id": "50d182ee",
   "metadata": {
    "scrolled": true
   },
   "outputs": [
    {
     "name": "stdout",
     "output_type": "stream",
     "text": [
      "22+33=55\n"
     ]
    }
   ],
   "source": [
    "#많이 쓰는 사용 예시\n",
    "a = 22\n",
    "b = 33\n",
    "print(a,b, sep=\"+\", end=\"=\")\n",
    "print(a+b)"
   ]
  },
  {
   "cell_type": "code",
   "execution_count": null,
   "id": "cf75eb5f",
   "metadata": {},
   "outputs": [],
   "source": []
  },
  {
   "cell_type": "code",
   "execution_count": 25,
   "id": "5f94bb0a",
   "metadata": {},
   "outputs": [
    {
     "name": "stdout",
     "output_type": "stream",
     "text": [
      "입력 전 출력 내용hello\n"
     ]
    }
   ],
   "source": [
    "#많이 쓰는 사용 예시\n",
    "var = input(\"입력 전 출력 내용\")"
   ]
  },
  {
   "cell_type": "code",
   "execution_count": 26,
   "id": "51296766",
   "metadata": {},
   "outputs": [
    {
     "name": "stdout",
     "output_type": "stream",
     "text": [
      "너는 이름이 뭐니?김병훈\n",
      "이름이 김병훈 입니다\n",
      "너는 몇 살이니?29\n",
      "나이는 29 살 입니다\n"
     ]
    }
   ],
   "source": [
    "#기본 사용 예시\n",
    "a = input(\"너는 이름이 뭐니?\")\n",
    "print(\"이름이\", a, \"입니다\")\n",
    "b = input(\"너는 몇 살이니?\")\n",
    "print(\"나이는\", b, \"살 입니다\")"
   ]
  },
  {
   "cell_type": "code",
   "execution_count": 27,
   "id": "28ba588e",
   "metadata": {},
   "outputs": [
    {
     "name": "stdout",
     "output_type": "stream",
     "text": [
      "a값을 입력하세요1\n",
      "b값을 입력하세요2\n",
      "1+2=12\n",
      "수치 계산 : 1+2=3\n"
     ]
    }
   ],
   "source": [
    "#입력으로 받는 값은 문자형이며 숫자형으로 바꾸는 함수로 int()를 사용하여야 함\n",
    "a = input(\"a값을 입력하세요\")\n",
    "b = input(\"b값을 입력하세요\")\n",
    "print(a,b, sep=\"+\" ,end=\"=\")\n",
    "print(a+b)\n",
    "print(\"수치 계산\", end =\" : \")\n",
    "print(a,b, sep=\"+\" ,end=\"=\")\n",
    "print(int(a)+int(b))"
   ]
  },
  {
   "cell_type": "code",
   "execution_count": 28,
   "id": "130b9d74",
   "metadata": {},
   "outputs": [
    {
     "name": "stdout",
     "output_type": "stream",
     "text": [
      "품목?사과\n",
      "수량?3\n",
      "단가?700\n",
      "사과  :  3 개 *  700 원 = 총  2100 원\n"
     ]
    }
   ],
   "source": [
    "#입력으로 받는 값은 문자형이며 숫자형으로 바꾸는 함수로 int()를 사용하여야 함\n",
    "a= input(\"품목?\")\n",
    "b=int(input(\"수량?\"))\n",
    "c=int(input(\"단가?\"))\n",
    "print(a, \" : \",b,\"개 * \",c,\"원 = 총 \", b*c, \"원\")"
   ]
  },
  {
   "cell_type": "code",
   "execution_count": null,
   "id": "e5f11a32",
   "metadata": {},
   "outputs": [],
   "source": []
  },
  {
   "cell_type": "code",
   "execution_count": null,
   "id": "bf8963da",
   "metadata": {},
   "outputs": [],
   "source": [
    "# 변수의 사용법"
   ]
  },
  {
   "cell_type": "code",
   "execution_count": 33,
   "id": "a163f3c1",
   "metadata": {},
   "outputs": [
    {
     "name": "stdout",
     "output_type": "stream",
     "text": [
      "품목?사과\n",
      "수량?3\n",
      "단가?700\n",
      "사과  :  3 개 *  700 원 = 총  2100 원\n"
     ]
    }
   ],
   "source": [
    "#사용 예제\n",
    "a = input(\"품목?\") #문자형입력\n",
    "b = int(input(\"수량?\")) #문자형 -> 숫자형\n",
    "c = int(input(\"단가?\")) #문자형 -> 숫자형\n",
    "print(a, \" : \",b,\"개 * \",c,\"원 = 총 \", b*c, \"원\")"
   ]
  },
  {
   "cell_type": "code",
   "execution_count": 35,
   "id": "174e20c4",
   "metadata": {},
   "outputs": [
    {
     "name": "stdout",
     "output_type": "stream",
     "text": [
      "1\n",
      "2\n",
      "3\n",
      "2\n"
     ]
    }
   ],
   "source": [
    "# 변수에 값을 저장해서 넣어둘 수 있음\n",
    "# 변수 내에 값을 배정, 지정하는 개념임\n",
    "a = 1\n",
    "print(a)\n",
    "\n",
    "a = 2\n",
    "print(a) #최종적으로 a에 저장된 값은 2\n",
    "\n",
    "b = 3\n",
    "print(b) #앞에서 a에 2가 저장되어 있음\n",
    "\n",
    "print(a)"
   ]
  },
  {
   "cell_type": "code",
   "execution_count": 38,
   "id": "2c06c24c",
   "metadata": {},
   "outputs": [
    {
     "name": "stdout",
     "output_type": "stream",
     "text": [
      "1122\n"
     ]
    },
    {
     "data": {
      "text/plain": [
       "int"
      ]
     },
     "execution_count": 38,
     "metadata": {},
     "output_type": "execute_result"
    }
   ],
   "source": [
    "#변수에 값을 지정할 때 형태가 결정됨(파이썬 특징)\n",
    "# type()  --- 변수의 형태를 나타내 주는 함수\n",
    "a = 1122\n",
    "print(a)\n",
    "type(a)"
   ]
  },
  {
   "cell_type": "code",
   "execution_count": 39,
   "id": "4d87a84f",
   "metadata": {},
   "outputs": [
    {
     "name": "stdout",
     "output_type": "stream",
     "text": [
      "hello\n"
     ]
    },
    {
     "data": {
      "text/plain": [
       "str"
      ]
     },
     "execution_count": 39,
     "metadata": {},
     "output_type": "execute_result"
    }
   ],
   "source": [
    "#변수에 값을 지정할 때 형태가 결정됨(파이썬 특징)\n",
    "# type()  --- 변수의 형태를 나타내 주는 함수\n",
    "b = \"hello\"\n",
    "print(b)\n",
    "type(b)"
   ]
  },
  {
   "cell_type": "code",
   "execution_count": 40,
   "id": "08bbcb31",
   "metadata": {},
   "outputs": [
    {
     "data": {
      "text/plain": [
       "int"
      ]
     },
     "execution_count": 40,
     "metadata": {},
     "output_type": "execute_result"
    }
   ],
   "source": [
    "#변수에 값을 지정할 때 형태가 결정됨(파이썬 특징)\n",
    "# type()  --- 변수의 형태를 나타내 주는 함수\n",
    "b = 12\n",
    "type(b)"
   ]
  },
  {
   "cell_type": "code",
   "execution_count": 41,
   "id": "ecfeb9aa",
   "metadata": {},
   "outputs": [
    {
     "name": "stdout",
     "output_type": "stream",
     "text": [
      "1122\n"
     ]
    },
    {
     "data": {
      "text/plain": [
       "int"
      ]
     },
     "execution_count": 41,
     "metadata": {},
     "output_type": "execute_result"
    }
   ],
   "source": [
    "# 변수를 더이상 사용하지 않을 때 del로 변수의 메모리 공간을 반환해 줄 수 있음\n",
    "a = 1122\n",
    "print(a)\n",
    "type(a)"
   ]
  },
  {
   "cell_type": "code",
   "execution_count": 42,
   "id": "061aac5b",
   "metadata": {},
   "outputs": [
    {
     "name": "stdout",
     "output_type": "stream",
     "text": [
      "11\n"
     ]
    }
   ],
   "source": [
    "a = 11\n",
    "print(a)"
   ]
  },
  {
   "cell_type": "code",
   "execution_count": 43,
   "id": "4680efbe",
   "metadata": {},
   "outputs": [
    {
     "ename": "NameError",
     "evalue": "name 'a' is not defined",
     "output_type": "error",
     "traceback": [
      "\u001b[1;31m---------------------------------------------------------------------------\u001b[0m",
      "\u001b[1;31mNameError\u001b[0m                                 Traceback (most recent call last)",
      "Cell \u001b[1;32mIn[43], line 2\u001b[0m\n\u001b[0;32m      1\u001b[0m \u001b[38;5;28;01mdel\u001b[39;00m a\n\u001b[1;32m----> 2\u001b[0m \u001b[38;5;28mprint\u001b[39m(\u001b[43ma\u001b[49m)\n",
      "\u001b[1;31mNameError\u001b[0m: name 'a' is not defined"
     ]
    }
   ],
   "source": [
    "del a\n",
    "print(a)"
   ]
  },
  {
   "cell_type": "code",
   "execution_count": null,
   "id": "6d6c7521",
   "metadata": {},
   "outputs": [],
   "source": []
  },
  {
   "cell_type": "code",
   "execution_count": null,
   "id": "28ee4ec3",
   "metadata": {},
   "outputs": [],
   "source": [
    "#변수의 명명법"
   ]
  },
  {
   "cell_type": "code",
   "execution_count": 44,
   "id": "cd7e19f2",
   "metadata": {},
   "outputs": [
    {
     "name": "stdout",
     "output_type": "stream",
     "text": [
      "\n",
      "Welcome to Python 3.8's help utility!\n",
      "\n",
      "If this is your first time using Python, you should definitely check out\n",
      "the tutorial on the Internet at https://docs.python.org/3.8/tutorial/.\n",
      "\n",
      "Enter the name of any module, keyword, or topic to get help on writing\n",
      "Python programs and using Python modules.  To quit this help utility and\n",
      "return to the interpreter, just type \"quit\".\n",
      "\n",
      "To get a list of available modules, keywords, symbols, or topics, type\n",
      "\"modules\", \"keywords\", \"symbols\", or \"topics\".  Each module also comes\n",
      "with a one-line summary of what it does; to list the modules whose name\n",
      "or summary contain a given string such as \"spam\", type \"modules spam\".\n",
      "\n",
      "help> keywords\n",
      "\n",
      "Here is a list of the Python keywords.  Enter any keyword to get more help.\n",
      "\n",
      "False               class               from                or\n",
      "None                continue            global              pass\n",
      "True                def                 if                  raise\n",
      "and                 del                 import              return\n",
      "as                  elif                in                  try\n",
      "assert              else                is                  while\n",
      "async               except              lambda              with\n",
      "await               finally             nonlocal            yield\n",
      "break               for                 not                 \n",
      "\n",
      "help> \n",
      "\n",
      "You are now leaving help and returning to the Python interpreter.\n",
      "If you want to ask for help on a particular object directly from the\n",
      "interpreter, you can type \"help(object)\".  Executing \"help('string')\"\n",
      "has the same effect as typing a particular string at the help> prompt.\n"
     ]
    }
   ],
   "source": [
    "# 변수의 이름을 붙이는데 일정한 규칙이 있음\n",
    "#먼저 파이썬에서 사용하는 단어는 변수명으로 사용할 수 없음\n",
    "help()"
   ]
  },
  {
   "cell_type": "code",
   "execution_count": 45,
   "id": "a6431809",
   "metadata": {},
   "outputs": [
    {
     "name": "stdout",
     "output_type": "stream",
     "text": [
      "100000\n",
      "100000\n"
     ]
    }
   ],
   "source": [
    "# 변수명은 앞으로 긴 프로그램을 구현할 때도 어떤 목적으로 사용한 것인지\n",
    "#알기 쉬운 이름으로 작성\n",
    "#칸을 띄우면 변수명이 될 수 없음\n",
    "#한글 변수명도 가능함\n",
    "net = 100; qty = 1000; total = net * qty; print(total)\n",
    "단가 = 100; 수량 = 1000; 총합 = 단가 * 수량; print(총합)"
   ]
  },
  {
   "cell_type": "code",
   "execution_count": null,
   "id": "6f1be346",
   "metadata": {},
   "outputs": [],
   "source": []
  }
 ],
 "metadata": {
  "kernelspec": {
   "display_name": "Python 3 (ipykernel)",
   "language": "python",
   "name": "python3"
  },
  "language_info": {
   "codemirror_mode": {
    "name": "ipython",
    "version": 3
   },
   "file_extension": ".py",
   "mimetype": "text/x-python",
   "name": "python",
   "nbconvert_exporter": "python",
   "pygments_lexer": "ipython3",
   "version": "3.8.8rc1"
  }
 },
 "nbformat": 4,
 "nbformat_minor": 5
}

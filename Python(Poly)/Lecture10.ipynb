{
 "cells": [
  {
   "cell_type": "code",
   "execution_count": 1,
   "id": "637f80ee",
   "metadata": {},
   "outputs": [],
   "source": [
    "# 문자열 다루기"
   ]
  },
  {
   "cell_type": "code",
   "execution_count": 2,
   "id": "1cbb995c",
   "metadata": {},
   "outputs": [
    {
     "data": {
      "text/plain": [
       "('a', 'b', 'c', 'd', 'e')"
      ]
     },
     "execution_count": 2,
     "metadata": {},
     "output_type": "execute_result"
    }
   ],
   "source": [
    "# 문자열의 성격\n",
    "# 문자형 변수의 성격은 컬렉션의 리스트와 유사함\n",
    "# 문자리스트, 즉 String(문자열)은 첨자로 대응됨\n",
    "# 한글은 2byte로 처리되나 문자열에서 1개의 첨자에 대응되는것에 유의할것\n",
    "a=\"abcde\"\n",
    "a[0],a[1],a[2],a[3],a[4]"
   ]
  },
  {
   "cell_type": "code",
   "execution_count": 3,
   "id": "b1906881",
   "metadata": {},
   "outputs": [
    {
     "data": {
      "text/plain": [
       "('e', 'c', 'c', 'b', 'a')"
      ]
     },
     "execution_count": 3,
     "metadata": {},
     "output_type": "execute_result"
    }
   ],
   "source": [
    "a[-1],a[2],a[-3],a[-4],a[-5]"
   ]
  },
  {
   "cell_type": "code",
   "execution_count": 4,
   "id": "70f7eeec",
   "metadata": {},
   "outputs": [
    {
     "data": {
      "text/plain": [
       "('가', '나', '다', '라', '마')"
      ]
     },
     "execution_count": 4,
     "metadata": {},
     "output_type": "execute_result"
    }
   ],
   "source": [
    "a=\"가나다라마\"\n",
    "a[0],a[1],a[2],a[3],a[4]"
   ]
  },
  {
   "cell_type": "code",
   "execution_count": 5,
   "id": "787c4c6c",
   "metadata": {},
   "outputs": [
    {
     "data": {
      "text/plain": [
       "('마', '다', '다', '나', '가')"
      ]
     },
     "execution_count": 5,
     "metadata": {},
     "output_type": "execute_result"
    }
   ],
   "source": [
    "a[-1],a[2],a[-3],a[-4],a[-5]"
   ]
  },
  {
   "cell_type": "code",
   "execution_count": 13,
   "id": "710376ad",
   "metadata": {},
   "outputs": [
    {
     "data": {
      "text/plain": [
       "'bcde'"
      ]
     },
     "execution_count": 13,
     "metadata": {},
     "output_type": "execute_result"
    }
   ],
   "source": [
    "a=\"abcde\"\n",
    "a[1:5]"
   ]
  },
  {
   "cell_type": "code",
   "execution_count": 14,
   "id": "259d881c",
   "metadata": {},
   "outputs": [],
   "source": [
    "# 문자열자르기\n",
    "# 문자 첨자처리시 [시작:끝]으로 표시가능\n",
    "# 끝에 해당되는 숫자 앞에꺼자만 해당되는것에 유의\n",
    "# 음수 첨자에 유의할것"
   ]
  },
  {
   "cell_type": "code",
   "execution_count": 7,
   "id": "7d77ce02",
   "metadata": {},
   "outputs": [
    {
     "data": {
      "text/plain": [
       "'b'"
      ]
     },
     "execution_count": 7,
     "metadata": {},
     "output_type": "execute_result"
    }
   ],
   "source": [
    "a[1:2]"
   ]
  },
  {
   "cell_type": "code",
   "execution_count": 8,
   "id": "3f77afd1",
   "metadata": {},
   "outputs": [
    {
     "data": {
      "text/plain": [
       "'abcde'"
      ]
     },
     "execution_count": 8,
     "metadata": {},
     "output_type": "execute_result"
    }
   ],
   "source": [
    "a[:6]"
   ]
  },
  {
   "cell_type": "code",
   "execution_count": 9,
   "id": "ed807a3e",
   "metadata": {},
   "outputs": [
    {
     "data": {
      "text/plain": [
       "'de'"
      ]
     },
     "execution_count": 9,
     "metadata": {},
     "output_type": "execute_result"
    }
   ],
   "source": [
    "a[3:]"
   ]
  },
  {
   "cell_type": "code",
   "execution_count": 10,
   "id": "15061474",
   "metadata": {},
   "outputs": [
    {
     "data": {
      "text/plain": [
       "'c'"
      ]
     },
     "execution_count": 10,
     "metadata": {},
     "output_type": "execute_result"
    }
   ],
   "source": [
    "a[2:-2]"
   ]
  },
  {
   "cell_type": "code",
   "execution_count": 11,
   "id": "cd37c80d",
   "metadata": {},
   "outputs": [
    {
     "data": {
      "text/plain": [
       "''"
      ]
     },
     "execution_count": 11,
     "metadata": {},
     "output_type": "execute_result"
    }
   ],
   "source": [
    "a[2:-3]"
   ]
  },
  {
   "cell_type": "code",
   "execution_count": 12,
   "id": "3e6cc288",
   "metadata": {},
   "outputs": [
    {
     "data": {
      "text/plain": [
       "'bcd'"
      ]
     },
     "execution_count": 12,
     "metadata": {},
     "output_type": "execute_result"
    }
   ],
   "source": [
    "a[1:-1]"
   ]
  },
  {
   "cell_type": "code",
   "execution_count": null,
   "id": "db7a48b5",
   "metadata": {},
   "outputs": [],
   "source": []
  },
  {
   "cell_type": "code",
   "execution_count": null,
   "id": "df59e08a",
   "metadata": {},
   "outputs": [],
   "source": [
    "# 문자열함수"
   ]
  },
  {
   "cell_type": "code",
   "execution_count": 15,
   "id": "612ef57e",
   "metadata": {},
   "outputs": [],
   "source": [
    "# 찾기"
   ]
  },
  {
   "cell_type": "code",
   "execution_count": 16,
   "id": "5befbecd",
   "metadata": {},
   "outputs": [],
   "source": [
    "# lan(문자열)         문자열의 길이를 반환\n",
    "# str.find(문자)      해당문자를 앞으로부터 찾아서 위치를 반환\n",
    "# str.rfind(문자)     해당문자를 뒤로부터 찾아서 위치를 반환\n",
    "\n",
    "# str.index(문자), str.rindex(문자)    \n",
    "#   ㄴ----- find(), rfind()와 기능은 동일하나 문자열을 못 찾으면 에러발생\n",
    "# str.count(문자)     해당문자를 찾아서 몇 개가 있는지 개수를 반환"
   ]
  },
  {
   "cell_type": "code",
   "execution_count": 17,
   "id": "bd70c7a3",
   "metadata": {},
   "outputs": [
    {
     "data": {
      "text/plain": [
       "5"
      ]
     },
     "execution_count": 17,
     "metadata": {},
     "output_type": "execute_result"
    }
   ],
   "source": [
    "a=\"abcdefghijklmabcdefgh\"\n",
    "a.find(\"f\") #앞에서 부터 찾음, 찾은 값의 인덱스임"
   ]
  },
  {
   "cell_type": "code",
   "execution_count": 18,
   "id": "6f30f6ec",
   "metadata": {},
   "outputs": [
    {
     "data": {
      "text/plain": [
       "18"
      ]
     },
     "execution_count": 18,
     "metadata": {},
     "output_type": "execute_result"
    }
   ],
   "source": [
    "a.rfind(\"f\") #뒤에서 부터 찾음"
   ]
  },
  {
   "cell_type": "code",
   "execution_count": 19,
   "id": "1671140f",
   "metadata": {},
   "outputs": [
    {
     "data": {
      "text/plain": [
       "(8, 8)"
      ]
     },
     "execution_count": 19,
     "metadata": {},
     "output_type": "execute_result"
    }
   ],
   "source": [
    "a.find(\"i\"),a.rfind(\"i\") #만일 찾는 문자가 하나라면 결과는 동일"
   ]
  },
  {
   "cell_type": "code",
   "execution_count": 20,
   "id": "5f9f70ee",
   "metadata": {},
   "outputs": [
    {
     "data": {
      "text/plain": [
       "(1, 14)"
      ]
     },
     "execution_count": 20,
     "metadata": {},
     "output_type": "execute_result"
    }
   ],
   "source": [
    "a.index(\"b\"),a.rindex(\"b\") #index함수도 결과는 동일"
   ]
  },
  {
   "cell_type": "code",
   "execution_count": 23,
   "id": "e5bc0d4a",
   "metadata": {},
   "outputs": [
    {
     "ename": "ValueError",
     "evalue": "substring not found",
     "output_type": "error",
     "traceback": [
      "\u001b[1;31m---------------------------------------------------------------------------\u001b[0m",
      "\u001b[1;31mValueError\u001b[0m                                Traceback (most recent call last)",
      "\u001b[1;32m~\\AppData\\Local\\Temp/ipykernel_4564/2635679879.py\u001b[0m in \u001b[0;36m<module>\u001b[1;34m\u001b[0m\n\u001b[1;32m----> 1\u001b[1;33m \u001b[0ma\u001b[0m\u001b[1;33m.\u001b[0m\u001b[0mrindex\u001b[0m\u001b[1;33m(\u001b[0m\u001b[1;34m\"z\"\u001b[0m\u001b[1;33m)\u001b[0m \u001b[1;31m#하지만 찾는 문자가 없으면 에러발생\u001b[0m\u001b[1;33m\u001b[0m\u001b[1;33m\u001b[0m\u001b[0m\n\u001b[0m",
      "\u001b[1;31mValueError\u001b[0m: substring not found"
     ]
    }
   ],
   "source": [
    "a.rindex(\"z\") #하지만 찾는 문자가 없으면 에러발생"
   ]
  },
  {
   "cell_type": "code",
   "execution_count": 24,
   "id": "62dc7201",
   "metadata": {},
   "outputs": [
    {
     "data": {
      "text/plain": [
       "2"
      ]
     },
     "execution_count": 24,
     "metadata": {},
     "output_type": "execute_result"
    }
   ],
   "source": [
    "a.count(\"f\") #해당 문자의 개수를 반환"
   ]
  },
  {
   "cell_type": "code",
   "execution_count": 25,
   "id": "28b5e9bd",
   "metadata": {},
   "outputs": [
    {
     "data": {
      "text/plain": [
       "13"
      ]
     },
     "execution_count": 25,
     "metadata": {},
     "output_type": "execute_result"
    }
   ],
   "source": [
    "a.rfind(\"abc\") #문자열을 넣어도 됨"
   ]
  },
  {
   "cell_type": "code",
   "execution_count": 26,
   "id": "4a03570a",
   "metadata": {},
   "outputs": [
    {
     "name": "stdout",
     "output_type": "stream",
     "text": [
      "a가 들어 있음\n"
     ]
    }
   ],
   "source": [
    "# 검사\n",
    "# \"포함문자 in 문자\" 의 형태로 찾는것도 가능함  ---- 해당문자를 가지고 있는지 검사함\n",
    "# \"만일 \"f\"가 a안에 있다면\" 으로 표현되기 때문에\n",
    "# 이 방식이 보다 자연어적인 표현일 수 있음\n",
    "a=\"abcdfegabcdfeg\"\n",
    "if a.find(\"f\") > 0:\n",
    "    print (\"a가 들어 있음\")"
   ]
  },
  {
   "cell_type": "code",
   "execution_count": 27,
   "id": "9d9ffacf",
   "metadata": {},
   "outputs": [
    {
     "name": "stdout",
     "output_type": "stream",
     "text": [
      "a가 들어 있음\n"
     ]
    }
   ],
   "source": [
    "if \"f\" in a : #만일 \"f\"가 a안에 있다면..으로 자연적 영어표현\n",
    "    print (\"a가 들어 있음\")"
   ]
  },
  {
   "cell_type": "code",
   "execution_count": 28,
   "id": "9eb305d7",
   "metadata": {},
   "outputs": [
    {
     "data": {
      "text/plain": [
       "'ABCDEFGH'"
      ]
     },
     "execution_count": 28,
     "metadata": {},
     "output_type": "execute_result"
    }
   ],
   "source": [
    "# 대소문자 바꾸기\n",
    "# str.upper() -----  문자열을 모두 대문자로 바꿈\n",
    "# str.lower() -----  문자열을 모두 소문자로 바꿈\n",
    "a=\"abcDefGh\"\n",
    "a.upper()"
   ]
  },
  {
   "cell_type": "code",
   "execution_count": 29,
   "id": "349d4f77",
   "metadata": {},
   "outputs": [
    {
     "data": {
      "text/plain": [
       "'abcdefgh'"
      ]
     },
     "execution_count": 29,
     "metadata": {},
     "output_type": "execute_result"
    }
   ],
   "source": [
    "a=\"abcDefGh\"\n",
    "a.lower()"
   ]
  },
  {
   "cell_type": "code",
   "execution_count": null,
   "id": "c6d50421",
   "metadata": {},
   "outputs": [],
   "source": [
    "# 공백제거"
   ]
  },
  {
   "cell_type": "code",
   "execution_count": 30,
   "id": "12830108",
   "metadata": {},
   "outputs": [],
   "source": [
    "#str.lstrip()  -----  문자열 왼쪽 끝의 모든 공백을 지움\n",
    "#str.rstrip()  -----  문자열 오른쪽 끝의 모든 공백을 지움\n",
    "#str.strip()  -----  문자열 왼쪽 끝과 오른쪽 끝의 모든 공백을 지움\n",
    "#str.replace(“ ” ,“”)  -----  이와 같은 표현은 모든 공백을 지움\n",
    "#str.replace(이전_문자열,바꿀_문자열)  -----  이전 문자열을 바꿀 문자열로 바꿈"
   ]
  },
  {
   "cell_type": "code",
   "execution_count": 31,
   "id": "38b9ac1a",
   "metadata": {},
   "outputs": [
    {
     "data": {
      "text/plain": [
       "'abc def hij '"
      ]
     },
     "execution_count": 31,
     "metadata": {},
     "output_type": "execute_result"
    }
   ],
   "source": [
    "a=\" abc def hij \"\n",
    "a.lstrip()"
   ]
  },
  {
   "cell_type": "code",
   "execution_count": 32,
   "id": "358ca3bd",
   "metadata": {},
   "outputs": [
    {
     "data": {
      "text/plain": [
       "' abc def hij'"
      ]
     },
     "execution_count": 32,
     "metadata": {},
     "output_type": "execute_result"
    }
   ],
   "source": [
    "a=\" abc def hij \"\n",
    "a.rstrip()"
   ]
  },
  {
   "cell_type": "code",
   "execution_count": 33,
   "id": "f57e05ed",
   "metadata": {},
   "outputs": [
    {
     "data": {
      "text/plain": [
       "'abc def hij'"
      ]
     },
     "execution_count": 33,
     "metadata": {},
     "output_type": "execute_result"
    }
   ],
   "source": [
    "a=\" abc def hij \"\n",
    "a.strip()"
   ]
  },
  {
   "cell_type": "code",
   "execution_count": 34,
   "id": "b49d9818",
   "metadata": {},
   "outputs": [
    {
     "data": {
      "text/plain": [
       "'abcdefhij'"
      ]
     },
     "execution_count": 34,
     "metadata": {},
     "output_type": "execute_result"
    }
   ],
   "source": [
    "a=\" abc def hij \"\n",
    "a.replace(\" \",\"\")"
   ]
  },
  {
   "cell_type": "code",
   "execution_count": 35,
   "id": "dd05fe6c",
   "metadata": {},
   "outputs": [],
   "source": [
    "# 구분자로 문자열 나누기\n",
    "# a=str.split(구분자) ------ str의 문자열을 구분자 문자를 찾아서 하나씩 \n",
    "#                            나누어 a에 리스트로 반환"
   ]
  },
  {
   "cell_type": "code",
   "execution_count": 36,
   "id": "36f8d968",
   "metadata": {},
   "outputs": [],
   "source": [
    "# 예제는 ,(콤마)로 구분되어 있는 한 줄의 데이터를\n",
    "# 콤마로 구분하여 나누어 줌"
   ]
  },
  {
   "cell_type": "code",
   "execution_count": 37,
   "id": "04e07b03",
   "metadata": {},
   "outputs": [
    {
     "name": "stdout",
     "output_type": "stream",
     "text": [
      "==========\n",
      "이름:  홍길동\n",
      "국어:  100\n",
      "영어:  95\n",
      "수학:  88\n",
      "==========\n"
     ]
    }
   ],
   "source": [
    "rec=\"홍길동,100,95,88\"\n",
    "item=rec.split(\",\")\n",
    "print(\"=\"*10)\n",
    "print(\"이름: \", item[0])\n",
    "print(\"국어: \", item[1])\n",
    "print(\"영어: \", item[2])\n",
    "print(\"수학: \", item[3])\n",
    "print(\"=\"*10)"
   ]
  },
  {
   "cell_type": "code",
   "execution_count": 38,
   "id": "00242094",
   "metadata": {},
   "outputs": [],
   "source": [
    "# 예제는 빈칸으로 구분되어 있는 한 줄의 데이터를 빈칸으로 구분하여 나누어 줌\n",
    "#하지만 빈칸이 여러 개 있을 때 해당 빈칸 하나 하나를 데이터로 인식함"
   ]
  },
  {
   "cell_type": "code",
   "execution_count": 3,
   "id": "34045d72",
   "metadata": {},
   "outputs": [
    {
     "name": "stdout",
     "output_type": "stream",
     "text": [
      "==========\n",
      "0 ==> 본\n",
      "1 ==> 예제는\n",
      "2 ==> 빈칸으로\n",
      "3 ==> 구분되어\n",
      "4 ==> 있는\n",
      "5 ==> 한\n",
      "6 ==> 줄의\n",
      "7 ==> 데이터를\n",
      "8 ==> 빈칸을\n",
      "9 ==> \n",
      "10 ==> \n",
      "11 ==> \n",
      "12 ==> \n",
      "13 ==> 구분하여\n",
      "14 ==> 나누어\n",
      "15 ==> 줌\n",
      "==========\n"
     ]
    }
   ],
   "source": [
    "rec=\"본 예제는 빈칸으로 구분되어 있는 한 줄의 데이터를 빈칸을     구분하여 나누어 줌\"\n",
    "item=rec.split(\" \")\n",
    "print(\"=\"*10)\n",
    "i=0\n",
    "for s in item:\n",
    "    print(i,\"==>\", s)\n",
    "    i+=1\n",
    "print(\"=\"*10)"
   ]
  },
  {
   "cell_type": "code",
   "execution_count": 4,
   "id": "e8ff2322",
   "metadata": {},
   "outputs": [
    {
     "name": "stdout",
     "output_type": "stream",
     "text": [
      "[['나연', 100, 90, 100], ['정연', 90, 90, 100], ['모모', 80, 70, 90], ['사나', 90, 90, 80], ['지효', 100, 80, 80], ['미나', 50, 90, 90], ['다현', 80, 60, 100], ['채영', 70, 80, 90], ['쯔위', 100, 90, 90]]\n"
     ]
    }
   ],
   "source": [
    "# 앞에서 실습한 트와이스 학급 성적표 출력 계속\n",
    "# 해당 데이터가 리스트에서 다음과 같은 콤마 구분\n",
    "# 데이터의 리스트인 경우 기존 작성된 프로그램을 변경할것\n",
    "dili_score=[\"나연,100,90,100\",\n",
    "    \"정연,90,90,100\",\n",
    "    \"모모,80,70,90\",\n",
    "    \"사나,90,90,80\",\n",
    "    \"지효,100,80,80\",\n",
    "    \"미나,50,90,90\",\n",
    "    \"다현,80,60,100\",\n",
    "    \"채영,70,80,90\",\n",
    "    \"쯔위,100,90,90\"]\n",
    "\n",
    "score=[]\n",
    "for one_rec in dili_score:\n",
    "    one_score=one_rec.split(\",\")\n",
    "    one_score[1]=int(one_score[1]) #국어점수 숫자형 변환\n",
    "    one_score[2]=int(one_score[2]) #영어점수 숫자형 변환\n",
    "    one_score[3]=int(one_score[3]) #수학점수 숫자형 변환\n",
    "    score.append(one_score.copy()) # copy에 주의할 것\n",
    "    \n",
    "print(score)\n",
    "\n",
    "# [콤마 구분자로 나눔, 숫자형 변환, 리스트에 추가]를 유의하여 프로그래밍 함"
   ]
  },
  {
   "cell_type": "code",
   "execution_count": null,
   "id": "8bb3043d",
   "metadata": {},
   "outputs": [],
   "source": []
  },
  {
   "cell_type": "code",
   "execution_count": 5,
   "id": "cddfaa8e",
   "metadata": {},
   "outputs": [],
   "source": [
    "# 포맷팅\n",
    "# 포맷팅이란 출력 형식을 지시하여 출력하는 방식"
   ]
  },
  {
   "cell_type": "code",
   "execution_count": 10,
   "id": "7baa5921",
   "metadata": {},
   "outputs": [
    {
     "name": "stdout",
     "output_type": "stream",
     "text": [
      "case1\n",
      "품목: 오징어땅콩  단가: 1000 원 수량: 10 개 합계: 10000 원\n",
      "case2\n",
      "품목: 오징어땅콩  단가: 1000 원 수량: 10개 합계:10000원\n",
      "case3\n",
      "품목:오징어땅콩 단가:1000원 수량:10개 합계:10000원\n",
      "case4\n",
      "품목:오징어땅콩      단가:01000원 수량:0x0a개 합계: 10000.000원\n"
     ]
    }
   ],
   "source": [
    "# 포맷팅정의\n",
    "item=\"오징어땅콩\" #품목\n",
    "unit=1000 #단가\n",
    "qty=10 #수량\n",
    "tot=unit*qty #합계\n",
    "print(\"case1\") #지금까지 사용한 print방법, 칸이 띄어서 출력\n",
    "print(\"품목:\",item,\" 단가:\",unit,\"원 수량:\",qty,\"개 합계:\",tot,\"원\")\n",
    "print(\"case2\") #하나의 긴 문자열을 만들어 출력하면 공백없이 출력이 가능\n",
    "print(\"품목:\",item,\" 단가:\",str(unit),\"원 수량:\",str(qty)+\"개 합계:\"+str(tot)+\"원\")\n",
    "print(\"case3\") #출력포멧문자를 지정하여 원하는 포멧으로 출력이 가능\n",
    "print(\"품목:%s 단가:%d원 수량:%d개 합계:%d원\"%(item,unit,qty,tot))\n",
    "print(\"case4\") #포멧팅 예\n",
    "print(\"품목:%-10s 단가:%05d원 수량:0x%02x개 합계:%10.3f원\"%(item,unit,qty,tot))"
   ]
  },
  {
   "cell_type": "code",
   "execution_count": 11,
   "id": "b3bc4a52",
   "metadata": {},
   "outputs": [
    {
     "name": "stdout",
     "output_type": "stream",
     "text": [
      "[ 1000][1000 ][01000]\n",
      "[   땅콩][땅콩   ][   땅콩]\n",
      "[1000]=[3e8][0x3e8][1750]\n",
      "[ 1000%]\n",
      "[a][b][c]\n"
     ]
    }
   ],
   "source": [
    "item=\"땅콩\" #문자\n",
    "unit=1000 #숫자\n",
    "print(\"[%5d][%-5d][%05d]\"%(unit,unit,unit))\n",
    "print(\"[%5s][%-5s][%05s]\"%(item,item,item))\n",
    "print(\"[%d]=[%x][%#x][%o]\"%(unit,unit,unit,unit))\n",
    "print(\"[%5d%%]\"%unit)\n",
    "\n",
    "#한글은 1byte로 자르면 에러\n",
    "#print(\"[%c][%c][%c]\"%(unit[0],unit[1]))\n",
    "\n",
    "a=\"abcd\"\n",
    "print(\"[%c][%c][%c]\"%(a[0],a[1],a[2]))"
   ]
  },
  {
   "cell_type": "code",
   "execution_count": 12,
   "id": "4c7cdb5b",
   "metadata": {},
   "outputs": [
    {
     "name": "stdout",
     "output_type": "stream",
     "text": [
      "-1,234,567,890.123\n"
     ]
    }
   ],
   "source": [
    "# 숫자 콤마 찍기\n",
    "import locale #locale라이브러리를 임포트 함, 설치는 필요없음\n",
    "\n",
    "locale.setlocale(locale.LC_ALL, \"\") # 시스템 기본 로케일 사용\n",
    "n = -1234567890.123\n",
    "s = locale.format_string(\"%.3f\", n, 1)\n",
    "print(s)"
   ]
  },
  {
   "cell_type": "code",
   "execution_count": 14,
   "id": "803dcae3",
   "metadata": {},
   "outputs": [
    {
     "name": "stdout",
     "output_type": "stream",
     "text": [
      "***************************************************\n",
      "총금액:    1,000,000원 \t달러환율: $1,010       \n",
      "지급달러: $988         \n",
      "거스름돈:      5원 \t은행수수료:  1,996원\n",
      "***************************************************\n"
     ]
    }
   ],
   "source": [
    "import locale #locale라이브러리를 임포트 함, 설치는 필요없음\n",
    "locale.setlocale(locale.LC_ALL, \"\") # 시스템 기본 로케일 사용\n",
    "\n",
    "myWon=1000000 #100만원\n",
    "moneyEx=1010.12 # 달러환율\n",
    "commission_rate=0.002 # 은행 수수료 율\n",
    "a = moneyEx + moneyEx*commission_rate #1달러당 환율금액 과 해당금액에 대한 수수료의 합\n",
    "usd = int (myWon /a) # 나의 돈을 위의 금액으로 나오면 소수점이 나오기 때문에\n",
    "                    # 해당 소수점을 버린다 즉 100만원에 989.99달러 나오면\n",
    "                    #989달러를 준다. 소수점 아래는 버린다\n",
    "\n",
    "remain = int(myWon - usd * a) # 거스름돈 계산 =100만원 - 달러액*(환율+달러당 수수료)\n",
    "                                # 소수점 아래는 버린다.\n",
    "commission = usd * moneyEx * commission_rate # 환전 수수료총액 계산,\n",
    "#이 금액은 소수점이하 올림처리해 보자\n",
    "if(commission != float(int(commission))) : # 이 비교문은 소수점이 있는지 체크\n",
    "    commission = int(commission) +1 #소수점이 있다면 올려서 은행이 처리\n",
    "else:\n",
    "    commission = int(commission) #소수점 아래 숫자가 없다면 단순 정수형 처리 -\n",
    "print(\"***************************************************\")\n",
    "print(\"총금액: %s원 \\t달러환율: $%s\"%( \\\n",
    "locale.format_string(\"%12d\", myWon, 1), \\\n",
    "locale.format_string(\"%-12d\", moneyEx, 1)) )\n",
    "print(\"지급달러: $%s\"% locale.format_string(\"%-12d\", usd, 1))\n",
    "print(\"거스름돈: %s원 \\t은행수수료: %s원\"%( \\\n",
    "locale.format_string(\"%6d\", remain, 1), \\\n",
    "locale.format_string(\"%6d\", commission, 1)) )\n",
    "print(\"***************************************************\")"
   ]
  },
  {
   "cell_type": "code",
   "execution_count": null,
   "id": "4351a9a1",
   "metadata": {},
   "outputs": [],
   "source": []
  }
 ],
 "metadata": {
  "kernelspec": {
   "display_name": "Python 3 (ipykernel)",
   "language": "python",
   "name": "python3"
  },
  "language_info": {
   "codemirror_mode": {
    "name": "ipython",
    "version": 3
   },
   "file_extension": ".py",
   "mimetype": "text/x-python",
   "name": "python",
   "nbconvert_exporter": "python",
   "pygments_lexer": "ipython3",
   "version": "3.9.7"
  }
 },
 "nbformat": 4,
 "nbformat_minor": 5
}

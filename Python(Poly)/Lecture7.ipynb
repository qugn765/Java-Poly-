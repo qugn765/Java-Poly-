{
 "cells": [
  {
   "cell_type": "code",
   "execution_count": 2,
   "id": "434cf3aa",
   "metadata": {},
   "outputs": [],
   "source": [
    "# 함수\n",
    "# 함수의 정의\n",
    "# 프로그램 블록을 미리 정의하고 프로그램 내부에서 호출하여 사용하는 기법\n",
    "# 비슷한 로직이 반복되거나 프로그램 흐름을 구조적으로 표현하기 위하여 사용함\n",
    "# 누군가 이미 정의해 놓은 함수를 가져다 마치 블록을 조립하듯이 프로그램을 완성\n",
    "# def 함수(인수 목록):\n",
    "#      실험내용블록"
   ]
  },
  {
   "cell_type": "code",
   "execution_count": 3,
   "id": "928dbfe5",
   "metadata": {},
   "outputs": [
    {
     "name": "stdout",
     "output_type": "stream",
     "text": [
      "별10개 찍기\n",
      "**********\n",
      "\n",
      "별3개 찍기\n",
      "***\n",
      "\n",
      "별5개 찍기\n",
      "*****\n",
      "\n"
     ]
    }
   ],
   "source": [
    "# 함수의 정의\n",
    "print(\"별10개 찍기\")\n",
    "for i in range(10):\n",
    "    print(\"*\", end=\"\")\n",
    "print(\"\\n\")\n",
    "\n",
    "print(\"별3개 찍기\")\n",
    "for i in range(3):\n",
    "    print(\"*\",end=\"\")\n",
    "print(\"\\n\")\n",
    "    \n",
    "print(\"별5개 찍기\")\n",
    "for i in range(5):\n",
    "    print(\"*\",end=\"\")\n",
    "print(\"\\n\") "
   ]
  },
  {
   "cell_type": "code",
   "execution_count": 4,
   "id": "ad7a247d",
   "metadata": {},
   "outputs": [
    {
     "name": "stdout",
     "output_type": "stream",
     "text": [
      "별10개 찍기\n",
      "**********\n",
      "\n",
      "별3개 찍기\n",
      "***\n",
      "\n",
      "별5개 찍기\n",
      "*****\n",
      "\n"
     ]
    }
   ],
   "source": [
    "# 함수의 정의\n",
    "# 함수를 활용하여 프로그램을 작성함\n",
    "# 프로그램이 간결해지고 이해하기 쉬워짐\n",
    "# 반복 또는 유사한 내용을 간결하게 표시가 가능함\n",
    "\n",
    "def starprint(n):\n",
    "    for i in range(n):\n",
    "        print(\"*\",end=\"\")\n",
    "    print(\"\\n\")\n",
    "    \n",
    "print(\"별10개 찍기\");starprint(10)\n",
    "print(\"별3개 찍기\");starprint(3)\n",
    "print(\"별5개 찍기\");starprint(5)\n",
    "\n",
    "# 함수에 들어가는 요소 n을 인수라함"
   ]
  },
  {
   "cell_type": "code",
   "execution_count": 5,
   "id": "7f8a97a4",
   "metadata": {},
   "outputs": [
    {
     "name": "stdout",
     "output_type": "stream",
     "text": [
      "1~10까지의 합: 55\n",
      "1~1000까지의 합: 500500\n",
      "1~10000까지의 합: 50005000\n"
     ]
    }
   ],
   "source": [
    "# 인수\n",
    "def intsum(n):\n",
    "    sum = 0\n",
    "    for i in range(1, n +1 , 1):\n",
    "        sum += i\n",
    "    return sum\n",
    "\n",
    "print(\"1~10까지의 합:\",intsum(10))\n",
    "print(\"1~1000까지의 합:\",intsum(1000))\n",
    "print(\"1~10000까지의 합:\",intsum(10000))"
   ]
  },
  {
   "cell_type": "code",
   "execution_count": 6,
   "id": "74c01f6e",
   "metadata": {},
   "outputs": [
    {
     "name": "stdout",
     "output_type": "stream",
     "text": [
      "1~10까지의 합: 55\n",
      "1~1000까지의 합: 495550\n",
      "1~10000까지의 합: 37507500\n"
     ]
    }
   ],
   "source": [
    "def intsum(x,y):\n",
    "    sum = 0\n",
    "    for i in range(x,y+1,1):\n",
    "        sum += i\n",
    "    return sum\n",
    "\n",
    "print(\"1~10까지의 합:\",intsum(1,10))\n",
    "print(\"1~1000까지의 합:\",intsum(100,1000))\n",
    "print(\"1~10000까지의 합:\",intsum(5000,10000))"
   ]
  },
  {
   "cell_type": "code",
   "execution_count": 7,
   "id": "8c283a5c",
   "metadata": {},
   "outputs": [],
   "source": [
    "# return 값\n",
    "# return 값을 배정하면 함수의 최종결과를 가진 변수와 같이 취급됨\n",
    "# return 값이 없다면 함수내 블록을 실행하는 것으로 끝남"
   ]
  },
  {
   "cell_type": "code",
   "execution_count": 8,
   "id": "69461efd",
   "metadata": {},
   "outputs": [
    {
     "name": "stdout",
     "output_type": "stream",
     "text": [
      "1~10까지의 합에 5를 더함: 60\n",
      "100~1000까지의 합에 33을 곱함: 16353150\n"
     ]
    }
   ],
   "source": [
    "def intsum(x,y):\n",
    "    sum=0;\n",
    "    for i in range(x,y+1,1):\n",
    "        sum += i\n",
    "    return sum\n",
    "\n",
    "print(\"1~10까지의 합에 5를 더함:\",intsum(1,10)+5)\n",
    "i=intsum(100,1000)*33\n",
    "print(\"100~1000까지의 합에 33을 곱함:\",i)"
   ]
  },
  {
   "cell_type": "code",
   "execution_count": 10,
   "id": "e9949b80",
   "metadata": {},
   "outputs": [
    {
     "name": "stdout",
     "output_type": "stream",
     "text": [
      "함수내부에서 sum값을 출력: 495550\n",
      "100~1000까지의 합: None\n",
      "100~1000까지의 합에 33을 곱함: None\n"
     ]
    }
   ],
   "source": [
    "# return 값이 없는 예제\n",
    "def intsum(x,y):\n",
    "    sum=0;\n",
    "    for i in range(x,y+1,1):\n",
    "        sum+=i\n",
    "    print(\"함수내부에서 sum값을 출력:\",sum)\n",
    "    \n",
    "i=intsum(100,1000)\n",
    "print(\"100~1000까지의 합:\",i)\n",
    "print(\"100~1000까지의 합에 33을 곱함:\",i)"
   ]
  },
  {
   "cell_type": "code",
   "execution_count": 11,
   "id": "e6b2e9b8",
   "metadata": {},
   "outputs": [],
   "source": [
    "# pass\n",
    "# pass는 아무런 처리가 없는 명령\n",
    "# 프로그램을 코딩할 때 우선 함수만 정의해놓고\n",
    "# pass처리 후 추후 내용을 채우면서 개발해 나갈 때 용이함"
   ]
  },
  {
   "cell_type": "code",
   "execution_count": 25,
   "id": "80fb8d5e",
   "metadata": {},
   "outputs": [
    {
     "name": "stdout",
     "output_type": "stream",
     "text": [
      "===============================================\n",
      "이름\t국어\t영어\t수학\t총점\t평균\n",
      "===============================================\n",
      "나연 \t 100 \t 90 \t 100 \t 290 \t 96\n",
      "정연 \t 100 \t 100 \t 80 \t 280 \t 93\n",
      "모모 \t 90 \t 100 \t 100 \t 290 \t 96\n",
      "사나 \t 90 \t 80 \t 90 \t 260 \t 86\n",
      "지효 \t 100 \t 100 \t 100 \t 300 \t 100\n",
      "미나 \t 80 \t 70 \t 90 \t 240 \t 80\n",
      "다현 \t 70 \t 60 \t 100 \t 230 \t 76\n",
      "채영 \t 80 \t 100 \t 90 \t 270 \t 90\n",
      "쯔위 \t 100 \t 100 \t 100 \t 300 \t 100\n",
      "===============================================\n",
      "반총점\t 810 \t 800 \t 850 \t 273 \t 91\n",
      "===============================================\n"
     ]
    }
   ],
   "source": [
    "def titleprint():\n",
    "    print(\"===============================================\")\n",
    "    print(\"이름\\t국어\\t영어\\t수학\\t총점\\t평균\")\n",
    "    print(\"===============================================\")   \n",
    "\n",
    "def itemprint(name,kortotal,engtotal,mathtotal):\n",
    "    sum = kortotal + engtotal + mathtotal\n",
    "    avg = sum / 3\n",
    "    print(name,\"\\t\",kortotal,\"\\t\",engtotal,\"\\t\",mathtotal,\"\\t\",sum,\"\\t\",int(avg))\n",
    "    \n",
    "def tailprint(kortotal, engtotal,mathtotal):\n",
    "    sum = (kortotal + engtotal + mathtotal) / 9\n",
    "    avg = sum / 3\n",
    "    print(\"===============================================\")\n",
    "    print(\"반총점\\t\",kortotal,\"\\t\",engtotal,\"\\t\",mathtotal,\"\\t\",int(sum),\"\\t\",int(avg))\n",
    "    print(\"===============================================\")  \n",
    "    \n",
    "\n",
    "#데이터\n",
    "cname=[\"나연\",\"정연\",\"모모\",\"사나\",\"지효\",\"미나\",\"다현\",\"채영\",\"쯔위\"]\n",
    "ckor =[ 100,100,90,90,100,80,70,80,100]\n",
    "ceng =[ 90,100,100,80,100,70,60,100,100]\n",
    "cmat =[ 100,80,100,90,100,90,100,90,100]\n",
    "\n",
    "#여기부터 프로그램\n",
    "titleprint()\n",
    "kortotal = 0\n",
    "engtotal = 0\n",
    "mathtotal = 0\n",
    "for i in range(9):\n",
    "    itemprint(cname[i],ckor[i],ceng[i],cmat[i])\n",
    "    kortotal += ckor[i]\n",
    "    engtotal += ceng[i]\n",
    "    mathtotal += cmat[i]\n",
    "\n",
    "tailprint(kortotal, engtotal, mathtotal) "
   ]
  },
  {
   "cell_type": "code",
   "execution_count": 27,
   "id": "7145a20f",
   "metadata": {},
   "outputs": [
    {
     "name": "stdout",
     "output_type": "stream",
     "text": [
      "==================================================\n",
      "이름\t국어\t영어\t수학\t총점\t평균\n",
      "==================================================\n",
      "나연 \t 100 \t 90 \t 100 \t 290 \t 96\n",
      "정연 \t 100 \t 100 \t 80 \t 280 \t 93\n",
      "모모 \t 90 \t 100 \t 100 \t 290 \t 96\n",
      "사나 \t 90 \t 80 \t 90 \t 260 \t 86\n",
      "지효 \t 100 \t 100 \t 100 \t 300 \t 100\n",
      "미나 \t 80 \t 70 \t 90 \t 240 \t 80\n",
      "다현 \t 70 \t 60 \t 100 \t 230 \t 76\n",
      "채영 \t 80 \t 100 \t 90 \t 270 \t 90\n",
      "쯔위 \t 100 \t 100 \t 100 \t 300 \t 100\n",
      "==================================================\n",
      "반총점\t 810 \t 800 \t 850 \t 273 \t 91.0\n",
      "==================================================\n"
     ]
    }
   ],
   "source": [
    "def titleprint():\n",
    "    print(\"=\"*50)\n",
    "    print(\"이름\\t국어\\t영어\\t수학\\t총점\\t평균\")\n",
    "    print(\"=\"*50)\n",
    "    \n",
    "def itemprint(name,kor,eng,mat):\n",
    "    print(name,\"\\t\",kor,\"\\t\",eng,\"\\t\",mat,\"\\t\",kor+eng+mat,\"\\t\",(kor+eng+mat)//3)\n",
    "    \n",
    "def tailprint():\n",
    "    totkor=0\n",
    "    for i in ckor:\n",
    "        totkor+=i\n",
    "    toteng=0\n",
    "    for i in ceng:\n",
    "        toteng+=i\n",
    "    totmat=0\n",
    "    for i in cmat:\n",
    "        totmat+=i\n",
    "    print(\"=\"*50)\n",
    "    print(\"반총점\\t\",totkor,\"\\t\",toteng,\"\\t\",totmat,\"\\t\"\\\n",
    "    ,(totkor+toteng+totmat)//9,\"\\t\",(totkor+toteng+totmat)/3//9)\n",
    "    print(\"=\"*50)\n",
    "    \n",
    "#데이터\n",
    "cname=[\"나연\",\"정연\",\"모모\",\"사나\",\"지효\",\"미나\",\"다현\",\"채영\",\"쯔위\"]\n",
    "ckor =[ 100,100,90,90,100,80,70,80,100]\n",
    "ceng =[ 90,100,100,80,100,70,60,100,100]\n",
    "cmat =[ 100,80,100,90,100,90,100,90,100]\n",
    "\n",
    "#여기부터 프로그램\n",
    "titleprint()\n",
    "kortotal = 0\n",
    "engtotal = 0\n",
    "mathtotal = 0\n",
    "for i in range(9):\n",
    "    itemprint(cname[i],ckor[i],ceng[i],cmat[i])\n",
    "    kortotal += ckor[i]\n",
    "    engtotal += ceng[i]\n",
    "    mathtotal += cmat[i]\n",
    "\n",
    "tailprint() "
   ]
  },
  {
   "cell_type": "code",
   "execution_count": null,
   "id": "bc72d6ac",
   "metadata": {},
   "outputs": [],
   "source": []
  },
  {
   "cell_type": "code",
   "execution_count": 28,
   "id": "b410bfae",
   "metadata": {},
   "outputs": [],
   "source": [
    "# 변수의 범위"
   ]
  },
  {
   "cell_type": "code",
   "execution_count": 30,
   "id": "52a2ee9d",
   "metadata": {},
   "outputs": [
    {
     "name": "stdout",
     "output_type": "stream",
     "text": [
      "case 1: 1\n",
      "case 2: 7\n",
      "case 3: 9505\n"
     ]
    }
   ],
   "source": [
    "# 가변 인수\n",
    "# 인수의 개수가 여러개를 보낼때 사용\n",
    "# 인수명에 *를 붙여서 전달\n",
    "def sumsum(*num):\n",
    "    sum=0\n",
    "    for i in num:\n",
    "        sum+=i\n",
    "    return sum\n",
    "\n",
    "print(\"case 1:\", sumsum(1))\n",
    "print(\"case 2:\", sumsum(1,2,4))\n",
    "print(\"case 3:\", sumsum(1,2,34,567,8901))"
   ]
  },
  {
   "cell_type": "code",
   "execution_count": 32,
   "id": "327ab70b",
   "metadata": {},
   "outputs": [
    {
     "name": "stdout",
     "output_type": "stream",
     "text": [
      "case 1: 1\n",
      "case 2: 7\n",
      "case 3: 9505\n"
     ]
    }
   ],
   "source": [
    "def sumsum(num):\n",
    "    sum=0\n",
    "    for i in num:\n",
    "        sum+=i\n",
    "    return sum\n",
    "\n",
    "print(\"case 1:\", sumsum([1]))\n",
    "print(\"case 2:\", sumsum([1,2,4]))\n",
    "print(\"case 3:\", sumsum([1,2,34,567,8901]))"
   ]
  },
  {
   "cell_type": "code",
   "execution_count": 33,
   "id": "8dddf088",
   "metadata": {},
   "outputs": [
    {
     "ename": "SyntaxError",
     "evalue": "invalid syntax (2955599849.py, line 5)",
     "output_type": "error",
     "traceback": [
      "\u001b[1;36m  Cell \u001b[1;32mIn[33], line 5\u001b[1;36m\u001b[0m\n\u001b[1;33m    sumsum(*num,str*) # 에러\u001b[0m\n\u001b[1;37m                    ^\u001b[0m\n\u001b[1;31mSyntaxError\u001b[0m\u001b[1;31m:\u001b[0m invalid syntax\n"
     ]
    }
   ],
   "source": [
    "# 주의 사항\n",
    "# 가변인수는 몇개가 입력될지 모르기 때무에 다음의 경우는 에러가 발생함\n",
    "sumsum(str,*num) # 동작가능\n",
    "sumsum(*num,str) # 에러\n",
    "sumsum(*num,str*) # 에러"
   ]
  },
  {
   "cell_type": "code",
   "execution_count": 34,
   "id": "9020b31f",
   "metadata": {},
   "outputs": [],
   "source": [
    "# 디폴트 값 처리\n",
    "# 인수에 디폴트 값을 정의하면 해당 인수를 사용하지 않고 함수의 값을\n",
    "# 전달할 경우, 해당 인수는 디폴트 값을 가지게됨"
   ]
  },
  {
   "cell_type": "code",
   "execution_count": 35,
   "id": "2be2e3e2",
   "metadata": {},
   "outputs": [
    {
     "name": "stdout",
     "output_type": "stream",
     "text": [
      "case 1: 55\n",
      "case 2: 3825\n",
      "case 3: 495550\n"
     ]
    }
   ],
   "source": [
    "# 합을 구하는 함수 예제\n",
    "\n",
    "def defaultest (start,end=1000,step=1):\n",
    "    sum=0\n",
    "    for i in range(start,end+1,step):\n",
    "        sum+=i\n",
    "    return sum\n",
    "\n",
    "print(\"case 1:\", defaultest(0,10,1))\n",
    "#인수 하나를 생략시 맨뒤 step값이 1로 기본값처리\n",
    "print(\"case 2:\", defaultest(50,100)) \n",
    "#인수 하나를 생략시 맨뒤 step값이 1,\n",
    "#end 값이 1000으로 기본값처리\n",
    "print(\"case 3:\", defaultest(100)) "
   ]
  },
  {
   "cell_type": "code",
   "execution_count": 36,
   "id": "5e05eb8b",
   "metadata": {},
   "outputs": [
    {
     "name": "stdout",
     "output_type": "stream",
     "text": [
      "case 1: 55\n",
      "case 2: 55\n",
      "case 3: 55\n",
      "case 4: 55\n",
      "case 5: 55\n"
     ]
    }
   ],
   "source": [
    "# 키워드 인수\n",
    "# 함수 호출시 인수 이름을 명시하여 함수를 실행함\n",
    "# 인수 전달 순서를 변경 가능함\n",
    "\n",
    "def defaultest (start,end=1000,step=1):\n",
    "    sum=0\n",
    "    for i in range(start,end+1,step):\n",
    "        sum+=i\n",
    "    return sum\n",
    "\n",
    "print(\"case 1:\", defaultest(0,10,1))\n",
    "print(\"case 2:\", defaultest(start=0,end=10,step=1))\n",
    "#키워드 지정시 순서가 상관없음\n",
    "print(\"case 3:\", defaultest(step=1,end=10,start=0))\n",
    "#맨뒤로 부터만 키워드 인수를 사용하고 앞은 일반인수\n",
    "print(\"case 4:\", defaultest(0,10,step=1))\n",
    "#맨뒤로 부터만 키워드 인수를 사용하고 앞은 일반인수\n",
    "print(\"case 5:\", defaultest(0,step=1,end=10))"
   ]
  },
  {
   "cell_type": "code",
   "execution_count": 51,
   "id": "d689a7de",
   "metadata": {},
   "outputs": [
    {
     "ename": "SyntaxError",
     "evalue": "positional argument follows keyword argument (593409123.py, line 10)",
     "output_type": "error",
     "traceback": [
      "\u001b[1;36m  Cell \u001b[1;32mIn[51], line 10\u001b[1;36m\u001b[0m\n\u001b[1;33m    print(\"error1:\", defaultest(0,step=1,10))\u001b[0m\n\u001b[1;37m                                         ^\u001b[0m\n\u001b[1;31mSyntaxError\u001b[0m\u001b[1;31m:\u001b[0m positional argument follows keyword argument\n"
     ]
    }
   ],
   "source": [
    "# 디폴트 인수와 마찬가지로 뒤에서부터 키워드 인수를 사용하여야함\n",
    "# 아래와 같은 경우는 에러 발생\n",
    "\n",
    "def defaultest (start,end=1000,step=1):\n",
    "    sum=0\n",
    "    for i in range(start,end+1,step):\n",
    "        sum+=i\n",
    "    return sum\n",
    "\n",
    "print(\"error1:\", defaultest(0,step=1,10))\n",
    "print(\"error2:\", defaultest(start=0,step=1,10))\n"
   ]
  },
  {
   "cell_type": "code",
   "execution_count": null,
   "id": "2fc44691",
   "metadata": {},
   "outputs": [],
   "source": [
    "#키워드 가변인수\n",
    "# 인수전달개수가 가변이며, 변수의 명칭을 키워드로 전달하며 인수 전달개수도 가변인 경우\n",
    "# 함수 호출시 키워드 인수 방식으로 호출하여야함\n",
    "# 별을 두개(**)로 정의하며, 다음과 같은 예제의 문법으로 사용함"
   ]
  },
  {
   "cell_type": "code",
   "execution_count": 52,
   "id": "8f939871",
   "metadata": {},
   "outputs": [
    {
     "name": "stdout",
     "output_type": "stream",
     "text": [
      "case 1: 55\n",
      "case 2: 5005\n"
     ]
    }
   ],
   "source": [
    "def testfunc (**args):\n",
    "    start=args[\"start\"] # 키워드 가변\n",
    "    end=args[\"end\"] # 키워드 가변\n",
    "    step=args[\"step\"] # 키워드 가변\n",
    "    sum=0\n",
    "    for i in range(start,end+1,step):\n",
    "        sum+=i\n",
    "    return sum\n",
    "\n",
    "print(\"case 1:\", testfunc(start=0,end=10,step=1))\n",
    "print(\"case 2:\", testfunc(end=100,step=1,start=10))"
   ]
  },
  {
   "cell_type": "code",
   "execution_count": 53,
   "id": "e6b2d5ca",
   "metadata": {},
   "outputs": [
    {
     "name": "stdout",
     "output_type": "stream",
     "text": [
      "==============================\n",
      "***********\n",
      "\n",
      "&&&&&&&&&&&\n",
      "\n",
      "===========\n",
      "\n",
      "==============================\n",
      "   ********\n",
      "\n",
      "   ????????\n",
      "\n",
      "   ========\n",
      "\n",
      "   %%%%%%%%\n",
      "\n"
     ]
    }
   ],
   "source": [
    "def testfunc (*s,**args):\n",
    "    start=args[\"start\"]\n",
    "    end=args[\"end\"] \n",
    "    step=args[\"step\"] \n",
    "    for c in s:\n",
    "        print(\" \"*start,end=\"\")\n",
    "        for i in range(start,end+1,step):\n",
    "            print(c,end=\"\")\n",
    "        print(\"\\n\")\n",
    "        \n",
    "print(\"=\"*30)\n",
    "testfunc(\"*\",\"&\",\"=\",start=0,end=10,step=1)\n",
    "print(\"=\"*30)\n",
    "testfunc(\"*\",\"?\",\"=\",\"%\",start=3,end=10,step=1)"
   ]
  },
  {
   "cell_type": "code",
   "execution_count": null,
   "id": "b1ed6527",
   "metadata": {},
   "outputs": [],
   "source": []
  },
  {
   "cell_type": "code",
   "execution_count": 55,
   "id": "4c2cbe0e",
   "metadata": {},
   "outputs": [
    {
     "ename": "NameError",
     "evalue": "name 'a' is not defined",
     "output_type": "error",
     "traceback": [
      "\u001b[1;31m---------------------------------------------------------------------------\u001b[0m",
      "\u001b[1;31mNameError\u001b[0m                                 Traceback (most recent call last)",
      "Cell \u001b[1;32mIn[55], line 7\u001b[0m\n\u001b[0;32m      4\u001b[0m     a\u001b[38;5;241m=\u001b[39m\u001b[38;5;241m1\u001b[39m\n\u001b[0;32m      6\u001b[0m test()\n\u001b[1;32m----> 7\u001b[0m \u001b[38;5;28mprint\u001b[39m(\u001b[43ma\u001b[49m) \u001b[38;5;66;03m# 에러발생\u001b[39;00m\n",
      "\u001b[1;31mNameError\u001b[0m: name 'a' is not defined"
     ]
    }
   ],
   "source": [
    "#전역변수, 지역변수\n",
    "# ㅎ람수에서 사용된 지역변수는 다른 함수나 메인에서 해당 변수를 가져다 사용할 수 없음\n",
    "def test():\n",
    "    a=1\n",
    "\n",
    "test()\n",
    "print(a) # 에러발생"
   ]
  },
  {
   "cell_type": "code",
   "execution_count": 56,
   "id": "94f9efac",
   "metadata": {},
   "outputs": [
    {
     "name": "stdout",
     "output_type": "stream",
     "text": [
      "testf1: 1\n",
      "testf2: 즐거운 실습\n",
      "testf3: 3.141592\n",
      "랄랄라\n"
     ]
    }
   ],
   "source": [
    "def testf1():\n",
    "    a=1\n",
    "    print(\"testf1:\",a)\n",
    "    \n",
    "def testf2():\n",
    "    a=\"즐거운 실습\"\n",
    "    print(\"testf2:\",a)\n",
    "    \n",
    "def testf3():\n",
    "    a=3.141592\n",
    "    print(\"testf3:\",a)\n",
    "    \n",
    "testf1()\n",
    "testf2()\n",
    "testf3()\n",
    "a=\"랄랄라\"\n",
    "print(a)\n",
    "\n",
    "# 선언된 a변수는 이름만 a로 같을뿐 전혀 다른 변수임"
   ]
  },
  {
   "cell_type": "code",
   "execution_count": 57,
   "id": "94337573",
   "metadata": {},
   "outputs": [],
   "source": [
    "# 전역변수는 메인에서만 변경 가능하며 함수에서는 변경하지 않는 상수로만 사용됨\n",
    "# 변경시 지역변수가됨\n",
    "# 예제 내 case1에서 testf2함수내 exrate가 지역변수로\n",
    "# testf2에서만 작용하고 함수를 빠져 나와 case2에\n",
    "# testf1을 만나면 기존 지역변수 exrate는 의미가 없이 전역변수 exrate가 사용됨"
   ]
  },
  {
   "cell_type": "code",
   "execution_count": 58,
   "id": "00d8fa60",
   "metadata": {},
   "outputs": [
    {
     "name": "stdout",
     "output_type": "stream",
     "text": [
      "testf1: 현재 달러환율은 1달러당  1021 원이며\n",
      "testf1: 미화 100달러는  102100 원 입니다\n",
      "testf1: 현재 달러환율은 1달러당  1120 원이며\n",
      "testf1: 미화 100달러는  112000 원 입니다\n",
      "testf2: 현재 달러환율은 1달러당  1011 원이며\n",
      "testf2: 미화 100달러는  101100 원 입니다\n",
      "testf1: 현재 달러환율은 1달러당  1120 원이며\n",
      "testf1: 미화 100달러는  112000 원 입니다\n"
     ]
    }
   ],
   "source": [
    "def testf1():\n",
    "    print(\"testf1: 현재 달러환율은 1달러당 \",exrate,\"원이며\")\n",
    "    print(\"testf1: 미화 100달러는 \",100*exrate,\"원 입니다\")\n",
    "    \n",
    "def testf2():\n",
    "    exrate=1011\n",
    "    print(\"testf2: 현재 달러환율은 1달러당 \",exrate,\"원이며\")\n",
    "    print(\"testf2: 미화 100달러는 \",100*exrate,\"원 입니다\")\n",
    "    \n",
    "exrate=1021\n",
    "testf1()\n",
    "exrate=1120\n",
    "testf1()\n",
    "\n",
    "testf2() #case 1\n",
    "testf1() #case 2"
   ]
  },
  {
   "cell_type": "code",
   "execution_count": 59,
   "id": "6ba55122",
   "metadata": {},
   "outputs": [],
   "source": [
    "#docstring\n",
    "\n",
    "# 함수에 대하여 주석이나 설명을 기입할때 docstring을 사용\n",
    "# 함수 맨앞에 세개의 따옴표(\"\"\")로 설명을 시작하고 끝나는 시점에 세개의 따옴표를 사용\n",
    "# 특히 내장 함수나 다른 오픈 라이브러리를 가져다 사용할 때, 사용할 함수가\n",
    "# 궁금할 때 대화식 모드에서 help(함수명)을 많이 사용"
   ]
  },
  {
   "cell_type": "code",
   "execution_count": 60,
   "id": "24b9e40b",
   "metadata": {},
   "outputs": [
    {
     "name": "stdout",
     "output_type": "stream",
     "text": [
      "Help on function testf1 in module __main__:\n",
      "\n",
      "testf1()\n",
      "    이 함수는 홍필두가 최선을 다하여 멋지게 만든 함수\n",
      "    인수 값에 숫자만큼 1부터 해당 값을 더한 값을 출력해 준다\n",
      "\n"
     ]
    }
   ],
   "source": [
    "def testf1():\n",
    "    \"\"\"\n",
    "이 함수는 홍필두가 최선을 다하여 멋지게 만든 함수\n",
    "인수 값에 숫자만큼 1부터 해당 값을 더한 값을 출력해 준다 \n",
    "\"\"\"\n",
    "    \n",
    "    sum=0\n",
    "    for i in range(n+1):\n",
    "        sum+=i\n",
    "    print(\"합:\",sum)\n",
    "    \n",
    "# 프로그램에서(특히 대화식 모드) 해당함수가 궁금할 때\n",
    "help(testf1)"
   ]
  },
  {
   "cell_type": "code",
   "execution_count": null,
   "id": "370f1309",
   "metadata": {},
   "outputs": [],
   "source": []
  }
 ],
 "metadata": {
  "kernelspec": {
   "display_name": "Python 3 (ipykernel)",
   "language": "python",
   "name": "python3"
  },
  "language_info": {
   "codemirror_mode": {
    "name": "ipython",
    "version": 3
   },
   "file_extension": ".py",
   "mimetype": "text/x-python",
   "name": "python",
   "nbconvert_exporter": "python",
   "pygments_lexer": "ipython3",
   "version": "3.9.7"
  }
 },
 "nbformat": 4,
 "nbformat_minor": 5
}

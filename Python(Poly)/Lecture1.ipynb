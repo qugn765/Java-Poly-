{
 "cells": [
  {
   "cell_type": "code",
   "execution_count": 10,
   "id": "27a72f45",
   "metadata": {},
   "outputs": [
    {
     "name": "stdout",
     "output_type": "stream",
     "text": [
      "3\n",
      "6\n",
      "두 수의 합은  9 입니다\n",
      "두 수의 차는  -3 입니다\n",
      "두 수의 곱은  18 입니다\n",
      "두 수의 나누기는  0.5 입니다\n"
     ]
    }
   ],
   "source": [
    "a = int(input())\n",
    "b = int(input())\n",
    "summ = a + b\n",
    "minus = a - b\n",
    "mul = a * b\n",
    "div = a / b\n",
    "print(\"두 수의 합은 \", summ ,\"입니다\")\n",
    "print(\"두 수의 차는 \", minus, \"입니다\")\n",
    "print(\"두 수의 곱은 \", mul, \"입니다\")\n",
    "print(\"두 수의 나누기는 \", div, \"입니다\")"
   ]
  },
  {
   "cell_type": "code",
   "execution_count": null,
   "id": "b11545b0",
   "metadata": {},
   "outputs": [],
   "source": []
  },
  {
   "cell_type": "code",
   "execution_count": 11,
   "id": "7881cbe9",
   "metadata": {},
   "outputs": [
    {
     "name": "stdout",
     "output_type": "stream",
     "text": [
      "3\n",
      "6\n",
      "두 수의 합은  9 입니다\n",
      "두 수의 차는  -3 입니다\n",
      "두 수의 곱은  18 입니다\n",
      "두 수의 나누기는  0.5 입니다\n"
     ]
    }
   ],
   "source": [
    "a = int(input())\n",
    "b = int(input())\n",
    "\n",
    "print(\"두 수의 합은 \", a + b ,\"입니다\")\n",
    "print(\"두 수의 차는 \", a - b, \"입니다\")\n",
    "print(\"두 수의 곱은 \", a * b, \"입니다\")\n",
    "print(\"두 수의 나누기는 \", a / b, \"입니다\")"
   ]
  },
  {
   "cell_type": "code",
   "execution_count": null,
   "id": "eb6fe067",
   "metadata": {},
   "outputs": [],
   "source": []
  },
  {
   "cell_type": "code",
   "execution_count": 14,
   "id": "8a12c140",
   "metadata": {},
   "outputs": [
    {
     "name": "stdout",
     "output_type": "stream",
     "text": [
      "10\n",
      "2\n",
      "5\n",
      "3\n",
      "첫번째 두번째 수의 합은  12 입니다\n",
      "세번째 네번째 수의 합은 8 입니다\n",
      "모든 수의 합은 20 입니다\n",
      "\n",
      "첫번째 두번째 수의 차는  8 입니다\n",
      "세번째 네번째 수의 차는 2 입니다\n",
      "첫번째 숫자에서 나머지 숫자들을 뺀 값은 0 입니다\n",
      "\n",
      "첫번째 두번째 수의 곱은  20 입니다\n",
      "세번째 네번째 수의 곱은 15 입니다\n",
      "모든 수의 곱은 300 입니다\n",
      "\n",
      "첫번째 두번째 수의 나누기는  5.0 입니다\n",
      "세번째 네번째 수의 나누기는 1.6666666666666667 입니다\n",
      "첫번째 숫자에서 나머지 숫자들을 나눈값은 0.3333333333333333 입니다\n"
     ]
    }
   ],
   "source": [
    "a = int(input())\n",
    "b = int(input())\n",
    "c = int(input())\n",
    "d = int(input())\n",
    "\n",
    "print(\"첫번째 두번째 수의 합은 \", a + b, \"입니다\")\n",
    "print(\"세번째 네번째 수의 합은\", c + d, \"입니다\")\n",
    "print(\"모든 수의 합은\", a + b + c + d, \"입니다\\n\")\n",
    "\n",
    "print(\"첫번째 두번째 수의 차는 \", a - b, \"입니다\")\n",
    "print(\"세번째 네번째 수의 차는\", c - d, \"입니다\")\n",
    "print(\"첫번째 숫자에서 나머지 숫자들을 뺀 값은\", a - b - c - d, \"입니다\\n\")\n",
    "\n",
    "print(\"첫번째 두번째 수의 곱은 \", a * b, \"입니다\")\n",
    "print(\"세번째 네번째 수의 곱은\", c * d, \"입니다\")\n",
    "print(\"모든 수의 곱은\", a * b * c * d, \"입니다\\n\")\n",
    "\n",
    "print(\"첫번째 두번째 수의 나누기는 \", a / b, \"입니다\")\n",
    "print(\"세번째 네번째 수의 나누기는\", c / d, \"입니다\")\n",
    "print(\"첫번째 숫자에서 나머지 숫자들을 나눈값은\", a / b / c / d, \"입니다\")\n",
    "\n"
   ]
  },
  {
   "cell_type": "code",
   "execution_count": null,
   "id": "3b4de405",
   "metadata": {},
   "outputs": [],
   "source": []
  }
 ],
 "metadata": {
  "kernelspec": {
   "display_name": "Python 3 (ipykernel)",
   "language": "python",
   "name": "python3"
  },
  "language_info": {
   "codemirror_mode": {
    "name": "ipython",
    "version": 3
   },
   "file_extension": ".py",
   "mimetype": "text/x-python",
   "name": "python",
   "nbconvert_exporter": "python",
   "pygments_lexer": "ipython3",
   "version": "3.8.8rc1"
  }
 },
 "nbformat": 4,
 "nbformat_minor": 5
}
